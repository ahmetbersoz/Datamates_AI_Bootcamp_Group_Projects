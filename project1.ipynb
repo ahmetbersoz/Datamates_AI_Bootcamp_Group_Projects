{
  "cells": [
    {
      "cell_type": "markdown",
      "metadata": {
        "id": "view-in-github",
        "colab_type": "text"
      },
      "source": [
        "<a href=\"https://colab.research.google.com/github/bkksl/AI_Bootcamp_Group_Projects-/blob/main/project1.ipynb\" target=\"_parent\"><img src=\"https://colab.research.google.com/assets/colab-badge.svg\" alt=\"Open In Colab\"/></a>"
      ]
    },
    {
      "cell_type": "code",
      "execution_count": 3,
      "id": "24fa906a",
      "metadata": {
        "id": "24fa906a"
      },
      "outputs": [],
      "source": [
        "import pandas as pd\n",
        "import numpy as np\n",
        "import seaborn as sb\n",
        "import matplotlib.pyplot as plt\n",
        "import sklearn"
      ]
    },
    {
      "cell_type": "code",
      "execution_count": 4,
      "id": "d2ef310c",
      "metadata": {
        "id": "d2ef310c"
      },
      "outputs": [],
      "source": [
        "url = 'https://raw.githubusercontent.com/bkksl/AI_Bootcamp_Group_Projects-/main/insurance.csv'\n",
        "data = pd.read_csv(url)"
      ]
    },
    {
      "cell_type": "code",
      "execution_count": 5,
      "id": "8f0b7509",
      "metadata": {
        "colab": {
          "base_uri": "https://localhost:8080/",
          "height": 424
        },
        "id": "8f0b7509",
        "outputId": "529fef94-4631-4621-f82b-0027f10541ea"
      },
      "outputs": [
        {
          "output_type": "execute_result",
          "data": {
            "text/plain": [
              "      age     sex     bmi  children smoker     region      charges\n",
              "0      19  female  27.900         0    yes  southwest  16884.92400\n",
              "1      18    male  33.770         1     no  southeast   1725.55230\n",
              "2      28    male  33.000         3     no  southeast   4449.46200\n",
              "3      33    male  22.705         0     no  northwest  21984.47061\n",
              "4      32    male  28.880         0     no  northwest   3866.85520\n",
              "...   ...     ...     ...       ...    ...        ...          ...\n",
              "1333   50    male  30.970         3     no  northwest  10600.54830\n",
              "1334   18  female  31.920         0     no  northeast   2205.98080\n",
              "1335   18  female  36.850         0     no  southeast   1629.83350\n",
              "1336   21  female  25.800         0     no  southwest   2007.94500\n",
              "1337   61  female  29.070         0    yes  northwest  29141.36030\n",
              "\n",
              "[1338 rows x 7 columns]"
            ],
            "text/html": [
              "\n",
              "  <div id=\"df-4980d566-7dec-4a4f-9006-cd80266f3232\">\n",
              "    <div class=\"colab-df-container\">\n",
              "      <div>\n",
              "<style scoped>\n",
              "    .dataframe tbody tr th:only-of-type {\n",
              "        vertical-align: middle;\n",
              "    }\n",
              "\n",
              "    .dataframe tbody tr th {\n",
              "        vertical-align: top;\n",
              "    }\n",
              "\n",
              "    .dataframe thead th {\n",
              "        text-align: right;\n",
              "    }\n",
              "</style>\n",
              "<table border=\"1\" class=\"dataframe\">\n",
              "  <thead>\n",
              "    <tr style=\"text-align: right;\">\n",
              "      <th></th>\n",
              "      <th>age</th>\n",
              "      <th>sex</th>\n",
              "      <th>bmi</th>\n",
              "      <th>children</th>\n",
              "      <th>smoker</th>\n",
              "      <th>region</th>\n",
              "      <th>charges</th>\n",
              "    </tr>\n",
              "  </thead>\n",
              "  <tbody>\n",
              "    <tr>\n",
              "      <th>0</th>\n",
              "      <td>19</td>\n",
              "      <td>female</td>\n",
              "      <td>27.900</td>\n",
              "      <td>0</td>\n",
              "      <td>yes</td>\n",
              "      <td>southwest</td>\n",
              "      <td>16884.92400</td>\n",
              "    </tr>\n",
              "    <tr>\n",
              "      <th>1</th>\n",
              "      <td>18</td>\n",
              "      <td>male</td>\n",
              "      <td>33.770</td>\n",
              "      <td>1</td>\n",
              "      <td>no</td>\n",
              "      <td>southeast</td>\n",
              "      <td>1725.55230</td>\n",
              "    </tr>\n",
              "    <tr>\n",
              "      <th>2</th>\n",
              "      <td>28</td>\n",
              "      <td>male</td>\n",
              "      <td>33.000</td>\n",
              "      <td>3</td>\n",
              "      <td>no</td>\n",
              "      <td>southeast</td>\n",
              "      <td>4449.46200</td>\n",
              "    </tr>\n",
              "    <tr>\n",
              "      <th>3</th>\n",
              "      <td>33</td>\n",
              "      <td>male</td>\n",
              "      <td>22.705</td>\n",
              "      <td>0</td>\n",
              "      <td>no</td>\n",
              "      <td>northwest</td>\n",
              "      <td>21984.47061</td>\n",
              "    </tr>\n",
              "    <tr>\n",
              "      <th>4</th>\n",
              "      <td>32</td>\n",
              "      <td>male</td>\n",
              "      <td>28.880</td>\n",
              "      <td>0</td>\n",
              "      <td>no</td>\n",
              "      <td>northwest</td>\n",
              "      <td>3866.85520</td>\n",
              "    </tr>\n",
              "    <tr>\n",
              "      <th>...</th>\n",
              "      <td>...</td>\n",
              "      <td>...</td>\n",
              "      <td>...</td>\n",
              "      <td>...</td>\n",
              "      <td>...</td>\n",
              "      <td>...</td>\n",
              "      <td>...</td>\n",
              "    </tr>\n",
              "    <tr>\n",
              "      <th>1333</th>\n",
              "      <td>50</td>\n",
              "      <td>male</td>\n",
              "      <td>30.970</td>\n",
              "      <td>3</td>\n",
              "      <td>no</td>\n",
              "      <td>northwest</td>\n",
              "      <td>10600.54830</td>\n",
              "    </tr>\n",
              "    <tr>\n",
              "      <th>1334</th>\n",
              "      <td>18</td>\n",
              "      <td>female</td>\n",
              "      <td>31.920</td>\n",
              "      <td>0</td>\n",
              "      <td>no</td>\n",
              "      <td>northeast</td>\n",
              "      <td>2205.98080</td>\n",
              "    </tr>\n",
              "    <tr>\n",
              "      <th>1335</th>\n",
              "      <td>18</td>\n",
              "      <td>female</td>\n",
              "      <td>36.850</td>\n",
              "      <td>0</td>\n",
              "      <td>no</td>\n",
              "      <td>southeast</td>\n",
              "      <td>1629.83350</td>\n",
              "    </tr>\n",
              "    <tr>\n",
              "      <th>1336</th>\n",
              "      <td>21</td>\n",
              "      <td>female</td>\n",
              "      <td>25.800</td>\n",
              "      <td>0</td>\n",
              "      <td>no</td>\n",
              "      <td>southwest</td>\n",
              "      <td>2007.94500</td>\n",
              "    </tr>\n",
              "    <tr>\n",
              "      <th>1337</th>\n",
              "      <td>61</td>\n",
              "      <td>female</td>\n",
              "      <td>29.070</td>\n",
              "      <td>0</td>\n",
              "      <td>yes</td>\n",
              "      <td>northwest</td>\n",
              "      <td>29141.36030</td>\n",
              "    </tr>\n",
              "  </tbody>\n",
              "</table>\n",
              "<p>1338 rows × 7 columns</p>\n",
              "</div>\n",
              "      <button class=\"colab-df-convert\" onclick=\"convertToInteractive('df-4980d566-7dec-4a4f-9006-cd80266f3232')\"\n",
              "              title=\"Convert this dataframe to an interactive table.\"\n",
              "              style=\"display:none;\">\n",
              "        \n",
              "  <svg xmlns=\"http://www.w3.org/2000/svg\" height=\"24px\"viewBox=\"0 0 24 24\"\n",
              "       width=\"24px\">\n",
              "    <path d=\"M0 0h24v24H0V0z\" fill=\"none\"/>\n",
              "    <path d=\"M18.56 5.44l.94 2.06.94-2.06 2.06-.94-2.06-.94-.94-2.06-.94 2.06-2.06.94zm-11 1L8.5 8.5l.94-2.06 2.06-.94-2.06-.94L8.5 2.5l-.94 2.06-2.06.94zm10 10l.94 2.06.94-2.06 2.06-.94-2.06-.94-.94-2.06-.94 2.06-2.06.94z\"/><path d=\"M17.41 7.96l-1.37-1.37c-.4-.4-.92-.59-1.43-.59-.52 0-1.04.2-1.43.59L10.3 9.45l-7.72 7.72c-.78.78-.78 2.05 0 2.83L4 21.41c.39.39.9.59 1.41.59.51 0 1.02-.2 1.41-.59l7.78-7.78 2.81-2.81c.8-.78.8-2.07 0-2.86zM5.41 20L4 18.59l7.72-7.72 1.47 1.35L5.41 20z\"/>\n",
              "  </svg>\n",
              "      </button>\n",
              "      \n",
              "  <style>\n",
              "    .colab-df-container {\n",
              "      display:flex;\n",
              "      flex-wrap:wrap;\n",
              "      gap: 12px;\n",
              "    }\n",
              "\n",
              "    .colab-df-convert {\n",
              "      background-color: #E8F0FE;\n",
              "      border: none;\n",
              "      border-radius: 50%;\n",
              "      cursor: pointer;\n",
              "      display: none;\n",
              "      fill: #1967D2;\n",
              "      height: 32px;\n",
              "      padding: 0 0 0 0;\n",
              "      width: 32px;\n",
              "    }\n",
              "\n",
              "    .colab-df-convert:hover {\n",
              "      background-color: #E2EBFA;\n",
              "      box-shadow: 0px 1px 2px rgba(60, 64, 67, 0.3), 0px 1px 3px 1px rgba(60, 64, 67, 0.15);\n",
              "      fill: #174EA6;\n",
              "    }\n",
              "\n",
              "    [theme=dark] .colab-df-convert {\n",
              "      background-color: #3B4455;\n",
              "      fill: #D2E3FC;\n",
              "    }\n",
              "\n",
              "    [theme=dark] .colab-df-convert:hover {\n",
              "      background-color: #434B5C;\n",
              "      box-shadow: 0px 1px 3px 1px rgba(0, 0, 0, 0.15);\n",
              "      filter: drop-shadow(0px 1px 2px rgba(0, 0, 0, 0.3));\n",
              "      fill: #FFFFFF;\n",
              "    }\n",
              "  </style>\n",
              "\n",
              "      <script>\n",
              "        const buttonEl =\n",
              "          document.querySelector('#df-4980d566-7dec-4a4f-9006-cd80266f3232 button.colab-df-convert');\n",
              "        buttonEl.style.display =\n",
              "          google.colab.kernel.accessAllowed ? 'block' : 'none';\n",
              "\n",
              "        async function convertToInteractive(key) {\n",
              "          const element = document.querySelector('#df-4980d566-7dec-4a4f-9006-cd80266f3232');\n",
              "          const dataTable =\n",
              "            await google.colab.kernel.invokeFunction('convertToInteractive',\n",
              "                                                     [key], {});\n",
              "          if (!dataTable) return;\n",
              "\n",
              "          const docLinkHtml = 'Like what you see? Visit the ' +\n",
              "            '<a target=\"_blank\" href=https://colab.research.google.com/notebooks/data_table.ipynb>data table notebook</a>'\n",
              "            + ' to learn more about interactive tables.';\n",
              "          element.innerHTML = '';\n",
              "          dataTable['output_type'] = 'display_data';\n",
              "          await google.colab.output.renderOutput(dataTable, element);\n",
              "          const docLink = document.createElement('div');\n",
              "          docLink.innerHTML = docLinkHtml;\n",
              "          element.appendChild(docLink);\n",
              "        }\n",
              "      </script>\n",
              "    </div>\n",
              "  </div>\n",
              "  "
            ]
          },
          "metadata": {},
          "execution_count": 5
        }
      ],
      "source": [
        "data"
      ]
    },
    {
      "cell_type": "code",
      "execution_count": 6,
      "id": "76916de1",
      "metadata": {
        "id": "76916de1"
      },
      "outputs": [],
      "source": [
        "df = data.copy()"
      ]
    },
    {
      "cell_type": "code",
      "execution_count": 7,
      "id": "dd444b1f",
      "metadata": {
        "colab": {
          "base_uri": "https://localhost:8080/"
        },
        "id": "dd444b1f",
        "outputId": "41f8404c-1f63-4226-f82f-382d01f94954"
      },
      "outputs": [
        {
          "output_type": "execute_result",
          "data": {
            "text/plain": [
              "(1338, 7)"
            ]
          },
          "metadata": {},
          "execution_count": 7
        }
      ],
      "source": [
        "df.shape"
      ]
    },
    {
      "cell_type": "code",
      "execution_count": 8,
      "id": "ed9d27a2",
      "metadata": {
        "colab": {
          "base_uri": "https://localhost:8080/",
          "height": 206
        },
        "id": "ed9d27a2",
        "outputId": "8f945cd6-5d2f-4611-833a-62f676268f72"
      },
      "outputs": [
        {
          "output_type": "execute_result",
          "data": {
            "text/plain": [
              "   age     sex     bmi  children smoker     region      charges\n",
              "0   19  female  27.900         0    yes  southwest  16884.92400\n",
              "1   18    male  33.770         1     no  southeast   1725.55230\n",
              "2   28    male  33.000         3     no  southeast   4449.46200\n",
              "3   33    male  22.705         0     no  northwest  21984.47061\n",
              "4   32    male  28.880         0     no  northwest   3866.85520"
            ],
            "text/html": [
              "\n",
              "  <div id=\"df-67503171-967f-493a-87c8-338ced43892a\">\n",
              "    <div class=\"colab-df-container\">\n",
              "      <div>\n",
              "<style scoped>\n",
              "    .dataframe tbody tr th:only-of-type {\n",
              "        vertical-align: middle;\n",
              "    }\n",
              "\n",
              "    .dataframe tbody tr th {\n",
              "        vertical-align: top;\n",
              "    }\n",
              "\n",
              "    .dataframe thead th {\n",
              "        text-align: right;\n",
              "    }\n",
              "</style>\n",
              "<table border=\"1\" class=\"dataframe\">\n",
              "  <thead>\n",
              "    <tr style=\"text-align: right;\">\n",
              "      <th></th>\n",
              "      <th>age</th>\n",
              "      <th>sex</th>\n",
              "      <th>bmi</th>\n",
              "      <th>children</th>\n",
              "      <th>smoker</th>\n",
              "      <th>region</th>\n",
              "      <th>charges</th>\n",
              "    </tr>\n",
              "  </thead>\n",
              "  <tbody>\n",
              "    <tr>\n",
              "      <th>0</th>\n",
              "      <td>19</td>\n",
              "      <td>female</td>\n",
              "      <td>27.900</td>\n",
              "      <td>0</td>\n",
              "      <td>yes</td>\n",
              "      <td>southwest</td>\n",
              "      <td>16884.92400</td>\n",
              "    </tr>\n",
              "    <tr>\n",
              "      <th>1</th>\n",
              "      <td>18</td>\n",
              "      <td>male</td>\n",
              "      <td>33.770</td>\n",
              "      <td>1</td>\n",
              "      <td>no</td>\n",
              "      <td>southeast</td>\n",
              "      <td>1725.55230</td>\n",
              "    </tr>\n",
              "    <tr>\n",
              "      <th>2</th>\n",
              "      <td>28</td>\n",
              "      <td>male</td>\n",
              "      <td>33.000</td>\n",
              "      <td>3</td>\n",
              "      <td>no</td>\n",
              "      <td>southeast</td>\n",
              "      <td>4449.46200</td>\n",
              "    </tr>\n",
              "    <tr>\n",
              "      <th>3</th>\n",
              "      <td>33</td>\n",
              "      <td>male</td>\n",
              "      <td>22.705</td>\n",
              "      <td>0</td>\n",
              "      <td>no</td>\n",
              "      <td>northwest</td>\n",
              "      <td>21984.47061</td>\n",
              "    </tr>\n",
              "    <tr>\n",
              "      <th>4</th>\n",
              "      <td>32</td>\n",
              "      <td>male</td>\n",
              "      <td>28.880</td>\n",
              "      <td>0</td>\n",
              "      <td>no</td>\n",
              "      <td>northwest</td>\n",
              "      <td>3866.85520</td>\n",
              "    </tr>\n",
              "  </tbody>\n",
              "</table>\n",
              "</div>\n",
              "      <button class=\"colab-df-convert\" onclick=\"convertToInteractive('df-67503171-967f-493a-87c8-338ced43892a')\"\n",
              "              title=\"Convert this dataframe to an interactive table.\"\n",
              "              style=\"display:none;\">\n",
              "        \n",
              "  <svg xmlns=\"http://www.w3.org/2000/svg\" height=\"24px\"viewBox=\"0 0 24 24\"\n",
              "       width=\"24px\">\n",
              "    <path d=\"M0 0h24v24H0V0z\" fill=\"none\"/>\n",
              "    <path d=\"M18.56 5.44l.94 2.06.94-2.06 2.06-.94-2.06-.94-.94-2.06-.94 2.06-2.06.94zm-11 1L8.5 8.5l.94-2.06 2.06-.94-2.06-.94L8.5 2.5l-.94 2.06-2.06.94zm10 10l.94 2.06.94-2.06 2.06-.94-2.06-.94-.94-2.06-.94 2.06-2.06.94z\"/><path d=\"M17.41 7.96l-1.37-1.37c-.4-.4-.92-.59-1.43-.59-.52 0-1.04.2-1.43.59L10.3 9.45l-7.72 7.72c-.78.78-.78 2.05 0 2.83L4 21.41c.39.39.9.59 1.41.59.51 0 1.02-.2 1.41-.59l7.78-7.78 2.81-2.81c.8-.78.8-2.07 0-2.86zM5.41 20L4 18.59l7.72-7.72 1.47 1.35L5.41 20z\"/>\n",
              "  </svg>\n",
              "      </button>\n",
              "      \n",
              "  <style>\n",
              "    .colab-df-container {\n",
              "      display:flex;\n",
              "      flex-wrap:wrap;\n",
              "      gap: 12px;\n",
              "    }\n",
              "\n",
              "    .colab-df-convert {\n",
              "      background-color: #E8F0FE;\n",
              "      border: none;\n",
              "      border-radius: 50%;\n",
              "      cursor: pointer;\n",
              "      display: none;\n",
              "      fill: #1967D2;\n",
              "      height: 32px;\n",
              "      padding: 0 0 0 0;\n",
              "      width: 32px;\n",
              "    }\n",
              "\n",
              "    .colab-df-convert:hover {\n",
              "      background-color: #E2EBFA;\n",
              "      box-shadow: 0px 1px 2px rgba(60, 64, 67, 0.3), 0px 1px 3px 1px rgba(60, 64, 67, 0.15);\n",
              "      fill: #174EA6;\n",
              "    }\n",
              "\n",
              "    [theme=dark] .colab-df-convert {\n",
              "      background-color: #3B4455;\n",
              "      fill: #D2E3FC;\n",
              "    }\n",
              "\n",
              "    [theme=dark] .colab-df-convert:hover {\n",
              "      background-color: #434B5C;\n",
              "      box-shadow: 0px 1px 3px 1px rgba(0, 0, 0, 0.15);\n",
              "      filter: drop-shadow(0px 1px 2px rgba(0, 0, 0, 0.3));\n",
              "      fill: #FFFFFF;\n",
              "    }\n",
              "  </style>\n",
              "\n",
              "      <script>\n",
              "        const buttonEl =\n",
              "          document.querySelector('#df-67503171-967f-493a-87c8-338ced43892a button.colab-df-convert');\n",
              "        buttonEl.style.display =\n",
              "          google.colab.kernel.accessAllowed ? 'block' : 'none';\n",
              "\n",
              "        async function convertToInteractive(key) {\n",
              "          const element = document.querySelector('#df-67503171-967f-493a-87c8-338ced43892a');\n",
              "          const dataTable =\n",
              "            await google.colab.kernel.invokeFunction('convertToInteractive',\n",
              "                                                     [key], {});\n",
              "          if (!dataTable) return;\n",
              "\n",
              "          const docLinkHtml = 'Like what you see? Visit the ' +\n",
              "            '<a target=\"_blank\" href=https://colab.research.google.com/notebooks/data_table.ipynb>data table notebook</a>'\n",
              "            + ' to learn more about interactive tables.';\n",
              "          element.innerHTML = '';\n",
              "          dataTable['output_type'] = 'display_data';\n",
              "          await google.colab.output.renderOutput(dataTable, element);\n",
              "          const docLink = document.createElement('div');\n",
              "          docLink.innerHTML = docLinkHtml;\n",
              "          element.appendChild(docLink);\n",
              "        }\n",
              "      </script>\n",
              "    </div>\n",
              "  </div>\n",
              "  "
            ]
          },
          "metadata": {},
          "execution_count": 8
        }
      ],
      "source": [
        "df.head()"
      ]
    },
    {
      "cell_type": "code",
      "execution_count": 9,
      "id": "f70a972d",
      "metadata": {
        "colab": {
          "base_uri": "https://localhost:8080/",
          "height": 175
        },
        "id": "f70a972d",
        "outputId": "8ac8e160-a63d-4ba8-f82e-8079e6bf1eaf"
      },
      "outputs": [
        {
          "output_type": "execute_result",
          "data": {
            "text/plain": [
              "           count          mean           std        min         25%       50%  \\\n",
              "age       1338.0     39.207025     14.049960    18.0000    27.00000    39.000   \n",
              "bmi       1338.0     30.663397      6.098187    15.9600    26.29625    30.400   \n",
              "children  1338.0      1.094918      1.205493     0.0000     0.00000     1.000   \n",
              "charges   1338.0  13270.422265  12110.011237  1121.8739  4740.28715  9382.033   \n",
              "\n",
              "                   75%          max  \n",
              "age          51.000000     64.00000  \n",
              "bmi          34.693750     53.13000  \n",
              "children      2.000000      5.00000  \n",
              "charges   16639.912515  63770.42801  "
            ],
            "text/html": [
              "\n",
              "  <div id=\"df-ec39f887-f204-4ce9-b082-5a2a3afbc2c0\">\n",
              "    <div class=\"colab-df-container\">\n",
              "      <div>\n",
              "<style scoped>\n",
              "    .dataframe tbody tr th:only-of-type {\n",
              "        vertical-align: middle;\n",
              "    }\n",
              "\n",
              "    .dataframe tbody tr th {\n",
              "        vertical-align: top;\n",
              "    }\n",
              "\n",
              "    .dataframe thead th {\n",
              "        text-align: right;\n",
              "    }\n",
              "</style>\n",
              "<table border=\"1\" class=\"dataframe\">\n",
              "  <thead>\n",
              "    <tr style=\"text-align: right;\">\n",
              "      <th></th>\n",
              "      <th>count</th>\n",
              "      <th>mean</th>\n",
              "      <th>std</th>\n",
              "      <th>min</th>\n",
              "      <th>25%</th>\n",
              "      <th>50%</th>\n",
              "      <th>75%</th>\n",
              "      <th>max</th>\n",
              "    </tr>\n",
              "  </thead>\n",
              "  <tbody>\n",
              "    <tr>\n",
              "      <th>age</th>\n",
              "      <td>1338.0</td>\n",
              "      <td>39.207025</td>\n",
              "      <td>14.049960</td>\n",
              "      <td>18.0000</td>\n",
              "      <td>27.00000</td>\n",
              "      <td>39.000</td>\n",
              "      <td>51.000000</td>\n",
              "      <td>64.00000</td>\n",
              "    </tr>\n",
              "    <tr>\n",
              "      <th>bmi</th>\n",
              "      <td>1338.0</td>\n",
              "      <td>30.663397</td>\n",
              "      <td>6.098187</td>\n",
              "      <td>15.9600</td>\n",
              "      <td>26.29625</td>\n",
              "      <td>30.400</td>\n",
              "      <td>34.693750</td>\n",
              "      <td>53.13000</td>\n",
              "    </tr>\n",
              "    <tr>\n",
              "      <th>children</th>\n",
              "      <td>1338.0</td>\n",
              "      <td>1.094918</td>\n",
              "      <td>1.205493</td>\n",
              "      <td>0.0000</td>\n",
              "      <td>0.00000</td>\n",
              "      <td>1.000</td>\n",
              "      <td>2.000000</td>\n",
              "      <td>5.00000</td>\n",
              "    </tr>\n",
              "    <tr>\n",
              "      <th>charges</th>\n",
              "      <td>1338.0</td>\n",
              "      <td>13270.422265</td>\n",
              "      <td>12110.011237</td>\n",
              "      <td>1121.8739</td>\n",
              "      <td>4740.28715</td>\n",
              "      <td>9382.033</td>\n",
              "      <td>16639.912515</td>\n",
              "      <td>63770.42801</td>\n",
              "    </tr>\n",
              "  </tbody>\n",
              "</table>\n",
              "</div>\n",
              "      <button class=\"colab-df-convert\" onclick=\"convertToInteractive('df-ec39f887-f204-4ce9-b082-5a2a3afbc2c0')\"\n",
              "              title=\"Convert this dataframe to an interactive table.\"\n",
              "              style=\"display:none;\">\n",
              "        \n",
              "  <svg xmlns=\"http://www.w3.org/2000/svg\" height=\"24px\"viewBox=\"0 0 24 24\"\n",
              "       width=\"24px\">\n",
              "    <path d=\"M0 0h24v24H0V0z\" fill=\"none\"/>\n",
              "    <path d=\"M18.56 5.44l.94 2.06.94-2.06 2.06-.94-2.06-.94-.94-2.06-.94 2.06-2.06.94zm-11 1L8.5 8.5l.94-2.06 2.06-.94-2.06-.94L8.5 2.5l-.94 2.06-2.06.94zm10 10l.94 2.06.94-2.06 2.06-.94-2.06-.94-.94-2.06-.94 2.06-2.06.94z\"/><path d=\"M17.41 7.96l-1.37-1.37c-.4-.4-.92-.59-1.43-.59-.52 0-1.04.2-1.43.59L10.3 9.45l-7.72 7.72c-.78.78-.78 2.05 0 2.83L4 21.41c.39.39.9.59 1.41.59.51 0 1.02-.2 1.41-.59l7.78-7.78 2.81-2.81c.8-.78.8-2.07 0-2.86zM5.41 20L4 18.59l7.72-7.72 1.47 1.35L5.41 20z\"/>\n",
              "  </svg>\n",
              "      </button>\n",
              "      \n",
              "  <style>\n",
              "    .colab-df-container {\n",
              "      display:flex;\n",
              "      flex-wrap:wrap;\n",
              "      gap: 12px;\n",
              "    }\n",
              "\n",
              "    .colab-df-convert {\n",
              "      background-color: #E8F0FE;\n",
              "      border: none;\n",
              "      border-radius: 50%;\n",
              "      cursor: pointer;\n",
              "      display: none;\n",
              "      fill: #1967D2;\n",
              "      height: 32px;\n",
              "      padding: 0 0 0 0;\n",
              "      width: 32px;\n",
              "    }\n",
              "\n",
              "    .colab-df-convert:hover {\n",
              "      background-color: #E2EBFA;\n",
              "      box-shadow: 0px 1px 2px rgba(60, 64, 67, 0.3), 0px 1px 3px 1px rgba(60, 64, 67, 0.15);\n",
              "      fill: #174EA6;\n",
              "    }\n",
              "\n",
              "    [theme=dark] .colab-df-convert {\n",
              "      background-color: #3B4455;\n",
              "      fill: #D2E3FC;\n",
              "    }\n",
              "\n",
              "    [theme=dark] .colab-df-convert:hover {\n",
              "      background-color: #434B5C;\n",
              "      box-shadow: 0px 1px 3px 1px rgba(0, 0, 0, 0.15);\n",
              "      filter: drop-shadow(0px 1px 2px rgba(0, 0, 0, 0.3));\n",
              "      fill: #FFFFFF;\n",
              "    }\n",
              "  </style>\n",
              "\n",
              "      <script>\n",
              "        const buttonEl =\n",
              "          document.querySelector('#df-ec39f887-f204-4ce9-b082-5a2a3afbc2c0 button.colab-df-convert');\n",
              "        buttonEl.style.display =\n",
              "          google.colab.kernel.accessAllowed ? 'block' : 'none';\n",
              "\n",
              "        async function convertToInteractive(key) {\n",
              "          const element = document.querySelector('#df-ec39f887-f204-4ce9-b082-5a2a3afbc2c0');\n",
              "          const dataTable =\n",
              "            await google.colab.kernel.invokeFunction('convertToInteractive',\n",
              "                                                     [key], {});\n",
              "          if (!dataTable) return;\n",
              "\n",
              "          const docLinkHtml = 'Like what you see? Visit the ' +\n",
              "            '<a target=\"_blank\" href=https://colab.research.google.com/notebooks/data_table.ipynb>data table notebook</a>'\n",
              "            + ' to learn more about interactive tables.';\n",
              "          element.innerHTML = '';\n",
              "          dataTable['output_type'] = 'display_data';\n",
              "          await google.colab.output.renderOutput(dataTable, element);\n",
              "          const docLink = document.createElement('div');\n",
              "          docLink.innerHTML = docLinkHtml;\n",
              "          element.appendChild(docLink);\n",
              "        }\n",
              "      </script>\n",
              "    </div>\n",
              "  </div>\n",
              "  "
            ]
          },
          "metadata": {},
          "execution_count": 9
        }
      ],
      "source": [
        "df.describe().T"
      ]
    },
    {
      "cell_type": "code",
      "execution_count": 10,
      "id": "d4596270",
      "metadata": {
        "colab": {
          "base_uri": "https://localhost:8080/"
        },
        "id": "d4596270",
        "outputId": "658d338f-4d11-4695-e159-c0caa25b134d"
      },
      "outputs": [
        {
          "output_type": "stream",
          "name": "stdout",
          "text": [
            "<class 'pandas.core.frame.DataFrame'>\n",
            "RangeIndex: 1338 entries, 0 to 1337\n",
            "Data columns (total 7 columns):\n",
            " #   Column    Non-Null Count  Dtype  \n",
            "---  ------    --------------  -----  \n",
            " 0   age       1338 non-null   int64  \n",
            " 1   sex       1338 non-null   object \n",
            " 2   bmi       1338 non-null   float64\n",
            " 3   children  1338 non-null   int64  \n",
            " 4   smoker    1338 non-null   object \n",
            " 5   region    1338 non-null   object \n",
            " 6   charges   1338 non-null   float64\n",
            "dtypes: float64(2), int64(2), object(3)\n",
            "memory usage: 73.3+ KB\n"
          ]
        }
      ],
      "source": [
        "df.info()"
      ]
    },
    {
      "cell_type": "code",
      "execution_count": 11,
      "id": "fb019e01",
      "metadata": {
        "id": "fb019e01"
      },
      "outputs": [],
      "source": [
        "corr = df.corr()"
      ]
    },
    {
      "cell_type": "code",
      "execution_count": 12,
      "id": "1fb6af82",
      "metadata": {
        "colab": {
          "base_uri": "https://localhost:8080/",
          "height": 175
        },
        "id": "1fb6af82",
        "outputId": "9ba44136-5289-4b20-8ad7-c6c09a3298bf"
      },
      "outputs": [
        {
          "output_type": "execute_result",
          "data": {
            "text/plain": [
              "               age       bmi  children   charges\n",
              "age       1.000000  0.109272  0.042469  0.299008\n",
              "bmi       0.109272  1.000000  0.012759  0.198341\n",
              "children  0.042469  0.012759  1.000000  0.067998\n",
              "charges   0.299008  0.198341  0.067998  1.000000"
            ],
            "text/html": [
              "\n",
              "  <div id=\"df-3fd90e8c-6e89-4452-8397-bf279d2181d5\">\n",
              "    <div class=\"colab-df-container\">\n",
              "      <div>\n",
              "<style scoped>\n",
              "    .dataframe tbody tr th:only-of-type {\n",
              "        vertical-align: middle;\n",
              "    }\n",
              "\n",
              "    .dataframe tbody tr th {\n",
              "        vertical-align: top;\n",
              "    }\n",
              "\n",
              "    .dataframe thead th {\n",
              "        text-align: right;\n",
              "    }\n",
              "</style>\n",
              "<table border=\"1\" class=\"dataframe\">\n",
              "  <thead>\n",
              "    <tr style=\"text-align: right;\">\n",
              "      <th></th>\n",
              "      <th>age</th>\n",
              "      <th>bmi</th>\n",
              "      <th>children</th>\n",
              "      <th>charges</th>\n",
              "    </tr>\n",
              "  </thead>\n",
              "  <tbody>\n",
              "    <tr>\n",
              "      <th>age</th>\n",
              "      <td>1.000000</td>\n",
              "      <td>0.109272</td>\n",
              "      <td>0.042469</td>\n",
              "      <td>0.299008</td>\n",
              "    </tr>\n",
              "    <tr>\n",
              "      <th>bmi</th>\n",
              "      <td>0.109272</td>\n",
              "      <td>1.000000</td>\n",
              "      <td>0.012759</td>\n",
              "      <td>0.198341</td>\n",
              "    </tr>\n",
              "    <tr>\n",
              "      <th>children</th>\n",
              "      <td>0.042469</td>\n",
              "      <td>0.012759</td>\n",
              "      <td>1.000000</td>\n",
              "      <td>0.067998</td>\n",
              "    </tr>\n",
              "    <tr>\n",
              "      <th>charges</th>\n",
              "      <td>0.299008</td>\n",
              "      <td>0.198341</td>\n",
              "      <td>0.067998</td>\n",
              "      <td>1.000000</td>\n",
              "    </tr>\n",
              "  </tbody>\n",
              "</table>\n",
              "</div>\n",
              "      <button class=\"colab-df-convert\" onclick=\"convertToInteractive('df-3fd90e8c-6e89-4452-8397-bf279d2181d5')\"\n",
              "              title=\"Convert this dataframe to an interactive table.\"\n",
              "              style=\"display:none;\">\n",
              "        \n",
              "  <svg xmlns=\"http://www.w3.org/2000/svg\" height=\"24px\"viewBox=\"0 0 24 24\"\n",
              "       width=\"24px\">\n",
              "    <path d=\"M0 0h24v24H0V0z\" fill=\"none\"/>\n",
              "    <path d=\"M18.56 5.44l.94 2.06.94-2.06 2.06-.94-2.06-.94-.94-2.06-.94 2.06-2.06.94zm-11 1L8.5 8.5l.94-2.06 2.06-.94-2.06-.94L8.5 2.5l-.94 2.06-2.06.94zm10 10l.94 2.06.94-2.06 2.06-.94-2.06-.94-.94-2.06-.94 2.06-2.06.94z\"/><path d=\"M17.41 7.96l-1.37-1.37c-.4-.4-.92-.59-1.43-.59-.52 0-1.04.2-1.43.59L10.3 9.45l-7.72 7.72c-.78.78-.78 2.05 0 2.83L4 21.41c.39.39.9.59 1.41.59.51 0 1.02-.2 1.41-.59l7.78-7.78 2.81-2.81c.8-.78.8-2.07 0-2.86zM5.41 20L4 18.59l7.72-7.72 1.47 1.35L5.41 20z\"/>\n",
              "  </svg>\n",
              "      </button>\n",
              "      \n",
              "  <style>\n",
              "    .colab-df-container {\n",
              "      display:flex;\n",
              "      flex-wrap:wrap;\n",
              "      gap: 12px;\n",
              "    }\n",
              "\n",
              "    .colab-df-convert {\n",
              "      background-color: #E8F0FE;\n",
              "      border: none;\n",
              "      border-radius: 50%;\n",
              "      cursor: pointer;\n",
              "      display: none;\n",
              "      fill: #1967D2;\n",
              "      height: 32px;\n",
              "      padding: 0 0 0 0;\n",
              "      width: 32px;\n",
              "    }\n",
              "\n",
              "    .colab-df-convert:hover {\n",
              "      background-color: #E2EBFA;\n",
              "      box-shadow: 0px 1px 2px rgba(60, 64, 67, 0.3), 0px 1px 3px 1px rgba(60, 64, 67, 0.15);\n",
              "      fill: #174EA6;\n",
              "    }\n",
              "\n",
              "    [theme=dark] .colab-df-convert {\n",
              "      background-color: #3B4455;\n",
              "      fill: #D2E3FC;\n",
              "    }\n",
              "\n",
              "    [theme=dark] .colab-df-convert:hover {\n",
              "      background-color: #434B5C;\n",
              "      box-shadow: 0px 1px 3px 1px rgba(0, 0, 0, 0.15);\n",
              "      filter: drop-shadow(0px 1px 2px rgba(0, 0, 0, 0.3));\n",
              "      fill: #FFFFFF;\n",
              "    }\n",
              "  </style>\n",
              "\n",
              "      <script>\n",
              "        const buttonEl =\n",
              "          document.querySelector('#df-3fd90e8c-6e89-4452-8397-bf279d2181d5 button.colab-df-convert');\n",
              "        buttonEl.style.display =\n",
              "          google.colab.kernel.accessAllowed ? 'block' : 'none';\n",
              "\n",
              "        async function convertToInteractive(key) {\n",
              "          const element = document.querySelector('#df-3fd90e8c-6e89-4452-8397-bf279d2181d5');\n",
              "          const dataTable =\n",
              "            await google.colab.kernel.invokeFunction('convertToInteractive',\n",
              "                                                     [key], {});\n",
              "          if (!dataTable) return;\n",
              "\n",
              "          const docLinkHtml = 'Like what you see? Visit the ' +\n",
              "            '<a target=\"_blank\" href=https://colab.research.google.com/notebooks/data_table.ipynb>data table notebook</a>'\n",
              "            + ' to learn more about interactive tables.';\n",
              "          element.innerHTML = '';\n",
              "          dataTable['output_type'] = 'display_data';\n",
              "          await google.colab.output.renderOutput(dataTable, element);\n",
              "          const docLink = document.createElement('div');\n",
              "          docLink.innerHTML = docLinkHtml;\n",
              "          element.appendChild(docLink);\n",
              "        }\n",
              "      </script>\n",
              "    </div>\n",
              "  </div>\n",
              "  "
            ]
          },
          "metadata": {},
          "execution_count": 12
        }
      ],
      "source": [
        "corr"
      ]
    },
    {
      "cell_type": "code",
      "execution_count": null,
      "id": "e91d479d",
      "metadata": {
        "id": "e91d479d",
        "outputId": "7708e1eb-0526-4377-bfcc-73fe769f570d"
      },
      "outputs": [
        {
          "data": {
            "image/png": "[encoded data removed]",
            "text/plain": [
              "<Figure size 720x576 with 2 Axes>"
            ]
          },
          "metadata": {
            "needs_background": "light"
          },
          "output_type": "display_data"
        }
      ],
      "source": [
        "fig,ax = plt.subplots(figsize=(10,8))\n",
        "\n",
        "ax = sb.heatmap(corr,annot=True,fmt='.2f')"
      ]
    },
    {
      "cell_type": "code",
      "execution_count": 13,
      "id": "6ce6d9f1",
      "metadata": {
        "colab": {
          "base_uri": "https://localhost:8080/"
        },
        "id": "6ce6d9f1",
        "outputId": "a61468c1-e3d3-4684-8e3b-6d987e84e219"
      },
      "outputs": [
        {
          "output_type": "execute_result",
          "data": {
            "text/plain": [
              "male      676\n",
              "female    662\n",
              "Name: sex, dtype: int64"
            ]
          },
          "metadata": {},
          "execution_count": 13
        }
      ],
      "source": [
        "data['sex'].value_counts()"
      ]
    },
    {
      "cell_type": "code",
      "execution_count": 14,
      "id": "f489c225",
      "metadata": {
        "colab": {
          "base_uri": "https://localhost:8080/",
          "height": 308
        },
        "id": "f489c225",
        "outputId": "7cbf8e8e-fbdf-476b-9d6f-63fc9e8f7ae3"
      },
      "outputs": [
        {
          "output_type": "execute_result",
          "data": {
            "text/plain": [
              "<matplotlib.axes._subplots.AxesSubplot at 0x7feb69259110>"
            ]
          },
          "metadata": {},
          "execution_count": 14
        },
        {
          "output_type": "display_data",
          "data": {
            "text/plain": [
              "<Figure size 432x288 with 1 Axes>"
            ],
            "image/png": "[encoded data removed]"
          },
          "metadata": {
            "needs_background": "light"
          }
        }
      ],
      "source": [
        "data['sex'].value_counts().plot(kind='bar',color=['blue','red'])"
      ]
    },
    {
      "cell_type": "code",
      "execution_count": 15,
      "id": "3b7e87b1",
      "metadata": {
        "colab": {
          "base_uri": "https://localhost:8080/"
        },
        "id": "3b7e87b1",
        "outputId": "7e8f54f7-a684-44ae-ad55-31bf03cfd1a6"
      },
      "outputs": [
        {
          "output_type": "execute_result",
          "data": {
            "text/plain": [
              "southeast    364\n",
              "southwest    325\n",
              "northwest    325\n",
              "northeast    324\n",
              "Name: region, dtype: int64"
            ]
          },
          "metadata": {},
          "execution_count": 15
        }
      ],
      "source": [
        "data['region'].value_counts()"
      ]
    },
    {
      "cell_type": "code",
      "execution_count": 16,
      "id": "ca5a6e4c",
      "metadata": {
        "colab": {
          "base_uri": "https://localhost:8080/",
          "height": 324
        },
        "id": "ca5a6e4c",
        "outputId": "ea0e61b7-938d-4947-82fc-53a8aa5a79f0"
      },
      "outputs": [
        {
          "output_type": "execute_result",
          "data": {
            "text/plain": [
              "<matplotlib.axes._subplots.AxesSubplot at 0x7feb68c4e390>"
            ]
          },
          "metadata": {},
          "execution_count": 16
        },
        {
          "output_type": "display_data",
          "data": {
            "text/plain": [
              "<Figure size 432x288 with 1 Axes>"
            ],
            "image/png": "[encoded data removed]"
          },
          "metadata": {
            "needs_background": "light"
          }
        }
      ],
      "source": [
        "data['region'].value_counts().plot(kind='bar',color=['blue','red','green','black'])"
      ]
    },
    {
      "cell_type": "markdown",
      "id": "579a1270",
      "metadata": {
        "id": "579a1270"
      },
      "source": [
        "## 3. Keşifsel Veri Analizi Yapılması"
      ]
    },
    {
      "cell_type": "markdown",
      "id": "3fd03765",
      "metadata": {
        "id": "3fd03765"
      },
      "source": [
        "###  Bmi(Vücut Kitle İndeksi)’nin dağılımını inceleyiniz"
      ]
    },
    {
      "cell_type": "code",
      "execution_count": 17,
      "id": "5eba0cdf",
      "metadata": {
        "scrolled": true,
        "colab": {
          "base_uri": "https://localhost:8080/",
          "height": 500
        },
        "id": "5eba0cdf",
        "outputId": "ad856068-af29-43ee-ba69-a3fb9ce4016a"
      },
      "outputs": [
        {
          "output_type": "execute_result",
          "data": {
            "text/plain": [
              "<matplotlib.axes._subplots.AxesSubplot at 0x7feb68bc0ad0>"
            ]
          },
          "metadata": {},
          "execution_count": 17
        },
        {
          "output_type": "display_data",
          "data": {
            "text/plain": [
              "<Figure size 1080x576 with 1 Axes>"
            ],
            "image/png": "[encoded data removed]"
          },
          "metadata": {
            "needs_background": "light"
          }
        }
      ],
      "source": [
        "data['bmi'].plot(figsize=(15,8))"
      ]
    },
    {
      "cell_type": "code",
      "execution_count": 18,
      "id": "c0cd4314",
      "metadata": {
        "scrolled": true,
        "colab": {
          "base_uri": "https://localhost:8080/"
        },
        "id": "c0cd4314",
        "outputId": "216602b0-a1f2-49cc-f6ce-7a668d2ffdf1"
      },
      "outputs": [
        {
          "output_type": "execute_result",
          "data": {
            "text/plain": [
              "age\n",
              "18    2161.505\n",
              "19    1944.590\n",
              "20     888.350\n",
              "21     789.200\n",
              "22     870.455\n",
              "23     880.725\n",
              "24     815.995\n",
              "25     831.430\n",
              "26     824.010\n",
              "27     821.340\n",
              "28     825.500\n",
              "29     793.345\n",
              "30     825.055\n",
              "31     807.795\n",
              "32     821.540\n",
              "33     810.240\n",
              "34     787.125\n",
              "35     784.870\n",
              "36     734.355\n",
              "37     780.415\n",
              "38     724.915\n",
              "39     747.755\n",
              "40     813.755\n",
              "41     850.685\n",
              "42     818.860\n",
              "43     815.520\n",
              "44     832.795\n",
              "45     863.590\n",
              "46     908.885\n",
              "47     889.265\n",
              "48     925.845\n",
              "49     848.790\n",
              "50     902.835\n",
              "51     920.085\n",
              "52     955.145\n",
              "53     850.105\n",
              "54     874.560\n",
              "55     830.700\n",
              "56     821.625\n",
              "57     801.955\n",
              "58     817.955\n",
              "59     764.300\n",
              "60     697.655\n",
              "61     748.610\n",
              "62     743.880\n",
              "63     734.240\n",
              "64     725.475\n",
              "Name: bmi, dtype: float64"
            ]
          },
          "metadata": {},
          "execution_count": 18
        }
      ],
      "source": [
        "bmi_age = data.groupby('age').sum()['bmi']\n",
        "bmi_age"
      ]
    },
    {
      "cell_type": "code",
      "execution_count": 19,
      "id": "58436745",
      "metadata": {
        "colab": {
          "base_uri": "https://localhost:8080/",
          "height": 296
        },
        "id": "58436745",
        "outputId": "33088c21-fb47-494e-e0f6-6cc1dc62eeec"
      },
      "outputs": [
        {
          "output_type": "execute_result",
          "data": {
            "text/plain": [
              "<matplotlib.axes._subplots.AxesSubplot at 0x7feb68ba4890>"
            ]
          },
          "metadata": {},
          "execution_count": 19
        },
        {
          "output_type": "display_data",
          "data": {
            "text/plain": [
              "<Figure size 432x288 with 1 Axes>"
            ],
            "image/png": "[encoded data removed]"
          },
          "metadata": {
            "needs_background": "light"
          }
        }
      ],
      "source": [
        "bmi_age.plot()"
      ]
    },
    {
      "cell_type": "code",
      "execution_count": 20,
      "id": "a236e2b6",
      "metadata": {
        "scrolled": false,
        "colab": {
          "base_uri": "https://localhost:8080/"
        },
        "id": "a236e2b6",
        "outputId": "5806850e-2e8b-4142-91cb-d2a465a0a5d2"
      },
      "outputs": [
        {
          "output_type": "execute_result",
          "data": {
            "text/plain": [
              "sex\n",
              "female    20110.070\n",
              "male      20917.555\n",
              "Name: bmi, dtype: float64"
            ]
          },
          "metadata": {},
          "execution_count": 20
        }
      ],
      "source": [
        "bmi_sex=data.groupby('sex').sum()['bmi']\n",
        "bmi_sex"
      ]
    },
    {
      "cell_type": "code",
      "execution_count": 21,
      "id": "8da91fac",
      "metadata": {
        "colab": {
          "base_uri": "https://localhost:8080/",
          "height": 282
        },
        "id": "8da91fac",
        "outputId": "76d4fad8-145a-43be-a1a1-8e91f0672eff"
      },
      "outputs": [
        {
          "output_type": "execute_result",
          "data": {
            "text/plain": [
              "<BarContainer object of 2 artists>"
            ]
          },
          "metadata": {},
          "execution_count": 21
        },
        {
          "output_type": "display_data",
          "data": {
            "text/plain": [
              "<Figure size 432x288 with 1 Axes>"
            ],
            "image/png": "[encoded data removed]"
          },
          "metadata": {
            "needs_background": "light"
          }
        }
      ],
      "source": [
        "plt.bar(['female','male'],bmi_sex)"
      ]
    },
    {
      "cell_type": "code",
      "execution_count": 22,
      "id": "afe75ccd",
      "metadata": {
        "scrolled": true,
        "colab": {
          "base_uri": "https://localhost:8080/",
          "height": 458
        },
        "id": "afe75ccd",
        "outputId": "fb4cba13-3985-4258-9074-44c5fd935ac9"
      },
      "outputs": [
        {
          "output_type": "execute_result",
          "data": {
            "text/plain": [
              "<seaborn.axisgrid.JointGrid at 0x7feb67235110>"
            ]
          },
          "metadata": {},
          "execution_count": 22
        },
        {
          "output_type": "display_data",
          "data": {
            "text/plain": [
              "<Figure size 432x432 with 3 Axes>"
            ],
            "image/png": "[encoded data removed]"
          },
          "metadata": {
            "needs_background": "light"
          }
        }
      ],
      "source": [
        "sb.jointplot(x='sex',y='bmi',data=data,kind='scatter')"
      ]
    },
    {
      "cell_type": "markdown",
      "id": "5534df7b",
      "metadata": {
        "id": "5534df7b"
      },
      "source": [
        "### “smoker” ile “charges” arasındaki ilişkiyi inceleyiniz"
      ]
    },
    {
      "cell_type": "code",
      "execution_count": 24,
      "id": "8aec7fb7",
      "metadata": {
        "colab": {
          "base_uri": "https://localhost:8080/",
          "height": 295
        },
        "id": "8aec7fb7",
        "outputId": "6467de3a-89da-493b-e4d2-57364171976a"
      },
      "outputs": [
        {
          "output_type": "display_data",
          "data": {
            "text/plain": [
              "<Figure size 432x288 with 1 Axes>"
            ],
            "image/png": "[encoded data removed]"
          },
          "metadata": {
            "needs_background": "light"
          }
        }
      ],
      "source": [
        "plt.scatter(x=df[\"smoker\"], y=df[\"charges\"], color=\"green\")\n",
        "plt.xlabel(\"Smoker\")\n",
        "plt.ylabel(\"Charges\")\n",
        "plt.title(\"Smoker vs. Charges\")\n",
        "plt.show()"
      ]
    },
    {
      "cell_type": "code",
      "execution_count": 25,
      "id": "7aca823d",
      "metadata": {
        "colab": {
          "base_uri": "https://localhost:8080/",
          "height": 424
        },
        "id": "7aca823d",
        "outputId": "045f82bd-636a-4d5e-84e1-26a7d2bcc63f"
      },
      "outputs": [
        {
          "output_type": "execute_result",
          "data": {
            "text/plain": [
              "     smoker      charges\n",
              "0       yes  16884.92400\n",
              "1        no   1725.55230\n",
              "2        no   4449.46200\n",
              "3        no  21984.47061\n",
              "4        no   3866.85520\n",
              "...     ...          ...\n",
              "1333     no  10600.54830\n",
              "1334     no   2205.98080\n",
              "1335     no   1629.83350\n",
              "1336     no   2007.94500\n",
              "1337    yes  29141.36030\n",
              "\n",
              "[1338 rows x 2 columns]"
            ],
            "text/html": [
              "\n",
              "  <div id=\"df-dbad8aac-9b8f-4479-baa1-b584d698d074\">\n",
              "    <div class=\"colab-df-container\">\n",
              "      <div>\n",
              "<style scoped>\n",
              "    .dataframe tbody tr th:only-of-type {\n",
              "        vertical-align: middle;\n",
              "    }\n",
              "\n",
              "    .dataframe tbody tr th {\n",
              "        vertical-align: top;\n",
              "    }\n",
              "\n",
              "    .dataframe thead th {\n",
              "        text-align: right;\n",
              "    }\n",
              "</style>\n",
              "<table border=\"1\" class=\"dataframe\">\n",
              "  <thead>\n",
              "    <tr style=\"text-align: right;\">\n",
              "      <th></th>\n",
              "      <th>smoker</th>\n",
              "      <th>charges</th>\n",
              "    </tr>\n",
              "  </thead>\n",
              "  <tbody>\n",
              "    <tr>\n",
              "      <th>0</th>\n",
              "      <td>yes</td>\n",
              "      <td>16884.92400</td>\n",
              "    </tr>\n",
              "    <tr>\n",
              "      <th>1</th>\n",
              "      <td>no</td>\n",
              "      <td>1725.55230</td>\n",
              "    </tr>\n",
              "    <tr>\n",
              "      <th>2</th>\n",
              "      <td>no</td>\n",
              "      <td>4449.46200</td>\n",
              "    </tr>\n",
              "    <tr>\n",
              "      <th>3</th>\n",
              "      <td>no</td>\n",
              "      <td>21984.47061</td>\n",
              "    </tr>\n",
              "    <tr>\n",
              "      <th>4</th>\n",
              "      <td>no</td>\n",
              "      <td>3866.85520</td>\n",
              "    </tr>\n",
              "    <tr>\n",
              "      <th>...</th>\n",
              "      <td>...</td>\n",
              "      <td>...</td>\n",
              "    </tr>\n",
              "    <tr>\n",
              "      <th>1333</th>\n",
              "      <td>no</td>\n",
              "      <td>10600.54830</td>\n",
              "    </tr>\n",
              "    <tr>\n",
              "      <th>1334</th>\n",
              "      <td>no</td>\n",
              "      <td>2205.98080</td>\n",
              "    </tr>\n",
              "    <tr>\n",
              "      <th>1335</th>\n",
              "      <td>no</td>\n",
              "      <td>1629.83350</td>\n",
              "    </tr>\n",
              "    <tr>\n",
              "      <th>1336</th>\n",
              "      <td>no</td>\n",
              "      <td>2007.94500</td>\n",
              "    </tr>\n",
              "    <tr>\n",
              "      <th>1337</th>\n",
              "      <td>yes</td>\n",
              "      <td>29141.36030</td>\n",
              "    </tr>\n",
              "  </tbody>\n",
              "</table>\n",
              "<p>1338 rows × 2 columns</p>\n",
              "</div>\n",
              "      <button class=\"colab-df-convert\" onclick=\"convertToInteractive('df-dbad8aac-9b8f-4479-baa1-b584d698d074')\"\n",
              "              title=\"Convert this dataframe to an interactive table.\"\n",
              "              style=\"display:none;\">\n",
              "        \n",
              "  <svg xmlns=\"http://www.w3.org/2000/svg\" height=\"24px\"viewBox=\"0 0 24 24\"\n",
              "       width=\"24px\">\n",
              "    <path d=\"M0 0h24v24H0V0z\" fill=\"none\"/>\n",
              "    <path d=\"M18.56 5.44l.94 2.06.94-2.06 2.06-.94-2.06-.94-.94-2.06-.94 2.06-2.06.94zm-11 1L8.5 8.5l.94-2.06 2.06-.94-2.06-.94L8.5 2.5l-.94 2.06-2.06.94zm10 10l.94 2.06.94-2.06 2.06-.94-2.06-.94-.94-2.06-.94 2.06-2.06.94z\"/><path d=\"M17.41 7.96l-1.37-1.37c-.4-.4-.92-.59-1.43-.59-.52 0-1.04.2-1.43.59L10.3 9.45l-7.72 7.72c-.78.78-.78 2.05 0 2.83L4 21.41c.39.39.9.59 1.41.59.51 0 1.02-.2 1.41-.59l7.78-7.78 2.81-2.81c.8-.78.8-2.07 0-2.86zM5.41 20L4 18.59l7.72-7.72 1.47 1.35L5.41 20z\"/>\n",
              "  </svg>\n",
              "      </button>\n",
              "      \n",
              "  <style>\n",
              "    .colab-df-container {\n",
              "      display:flex;\n",
              "      flex-wrap:wrap;\n",
              "      gap: 12px;\n",
              "    }\n",
              "\n",
              "    .colab-df-convert {\n",
              "      background-color: #E8F0FE;\n",
              "      border: none;\n",
              "      border-radius: 50%;\n",
              "      cursor: pointer;\n",
              "      display: none;\n",
              "      fill: #1967D2;\n",
              "      height: 32px;\n",
              "      padding: 0 0 0 0;\n",
              "      width: 32px;\n",
              "    }\n",
              "\n",
              "    .colab-df-convert:hover {\n",
              "      background-color: #E2EBFA;\n",
              "      box-shadow: 0px 1px 2px rgba(60, 64, 67, 0.3), 0px 1px 3px 1px rgba(60, 64, 67, 0.15);\n",
              "      fill: #174EA6;\n",
              "    }\n",
              "\n",
              "    [theme=dark] .colab-df-convert {\n",
              "      background-color: #3B4455;\n",
              "      fill: #D2E3FC;\n",
              "    }\n",
              "\n",
              "    [theme=dark] .colab-df-convert:hover {\n",
              "      background-color: #434B5C;\n",
              "      box-shadow: 0px 1px 3px 1px rgba(0, 0, 0, 0.15);\n",
              "      filter: drop-shadow(0px 1px 2px rgba(0, 0, 0, 0.3));\n",
              "      fill: #FFFFFF;\n",
              "    }\n",
              "  </style>\n",
              "\n",
              "      <script>\n",
              "        const buttonEl =\n",
              "          document.querySelector('#df-dbad8aac-9b8f-4479-baa1-b584d698d074 button.colab-df-convert');\n",
              "        buttonEl.style.display =\n",
              "          google.colab.kernel.accessAllowed ? 'block' : 'none';\n",
              "\n",
              "        async function convertToInteractive(key) {\n",
              "          const element = document.querySelector('#df-dbad8aac-9b8f-4479-baa1-b584d698d074');\n",
              "          const dataTable =\n",
              "            await google.colab.kernel.invokeFunction('convertToInteractive',\n",
              "                                                     [key], {});\n",
              "          if (!dataTable) return;\n",
              "\n",
              "          const docLinkHtml = 'Like what you see? Visit the ' +\n",
              "            '<a target=\"_blank\" href=https://colab.research.google.com/notebooks/data_table.ipynb>data table notebook</a>'\n",
              "            + ' to learn more about interactive tables.';\n",
              "          element.innerHTML = '';\n",
              "          dataTable['output_type'] = 'display_data';\n",
              "          await google.colab.output.renderOutput(dataTable, element);\n",
              "          const docLink = document.createElement('div');\n",
              "          docLink.innerHTML = docLinkHtml;\n",
              "          element.appendChild(docLink);\n",
              "        }\n",
              "      </script>\n",
              "    </div>\n",
              "  </div>\n",
              "  "
            ]
          },
          "metadata": {},
          "execution_count": 25
        }
      ],
      "source": [
        "data_corr = data[['smoker','charges']]\n",
        "data_corr"
      ]
    },
    {
      "cell_type": "code",
      "execution_count": 26,
      "id": "29c7627b",
      "metadata": {
        "colab": {
          "base_uri": "https://localhost:8080/"
        },
        "id": "29c7627b",
        "outputId": "c2c823b9-767d-4b7e-b477-5c468ccdabf6"
      },
      "outputs": [
        {
          "output_type": "execute_result",
          "data": {
            "text/plain": [
              "0.787251430498478"
            ]
          },
          "metadata": {},
          "execution_count": 26
        }
      ],
      "source": [
        "data['smoker']=data['smoker'].astype('category').cat.codes\n",
        "#data['charges']=data['charges'].astype('category').cat.codes\n",
        "\n",
        "data['charges'].corr(data['smoker'])"
      ]
    },
    {
      "cell_type": "code",
      "execution_count": 27,
      "id": "449e444c",
      "metadata": {
        "colab": {
          "base_uri": "https://localhost:8080/",
          "height": 282
        },
        "id": "449e444c",
        "outputId": "7cd0ce98-6d2d-4afb-f05d-d7f5db5f255d"
      },
      "outputs": [
        {
          "output_type": "execute_result",
          "data": {
            "text/plain": [
              "<matplotlib.collections.PathCollection at 0x7feb647e6110>"
            ]
          },
          "metadata": {},
          "execution_count": 27
        },
        {
          "output_type": "display_data",
          "data": {
            "text/plain": [
              "<Figure size 432x288 with 1 Axes>"
            ],
            "image/png": "[encoded data removed]"
          },
          "metadata": {
            "needs_background": "light"
          }
        }
      ],
      "source": [
        "plt.scatter(data_corr['smoker'],data_corr['charges'])"
      ]
    },
    {
      "cell_type": "code",
      "execution_count": 28,
      "id": "33a733c1",
      "metadata": {
        "colab": {
          "base_uri": "https://localhost:8080/"
        },
        "id": "33a733c1",
        "outputId": "4216c289-19a0-4f85-fa60-afa6e3665600"
      },
      "outputs": [
        {
          "output_type": "execute_result",
          "data": {
            "text/plain": [
              "smoker\n",
              "0    8.974061e+06\n",
              "1    8.781764e+06\n",
              "Name: charges, dtype: float64"
            ]
          },
          "metadata": {},
          "execution_count": 28
        }
      ],
      "source": [
        "smoker_charges =data.groupby('smoker').sum()['charges']\n",
        "smoker_charges"
      ]
    },
    {
      "cell_type": "code",
      "execution_count": 29,
      "id": "feb55ba7",
      "metadata": {
        "colab": {
          "base_uri": "https://localhost:8080/",
          "height": 293
        },
        "id": "feb55ba7",
        "outputId": "0b9ffeb5-e6d5-4249-ea2b-d542b90035c7"
      },
      "outputs": [
        {
          "output_type": "execute_result",
          "data": {
            "text/plain": [
              "<BarContainer object of 2 artists>"
            ]
          },
          "metadata": {},
          "execution_count": 29
        },
        {
          "output_type": "display_data",
          "data": {
            "text/plain": [
              "<Figure size 432x288 with 1 Axes>"
            ],
            "image/png": "[encoded data removed]"
          },
          "metadata": {
            "needs_background": "light"
          }
        }
      ],
      "source": [
        "plt.bar(['no','yes'],smoker_charges)"
      ]
    },
    {
      "cell_type": "code",
      "execution_count": 30,
      "id": "3aafe76d",
      "metadata": {
        "colab": {
          "base_uri": "https://localhost:8080/"
        },
        "id": "3aafe76d",
        "outputId": "d1736f7c-d18e-44e9-fda5-c755d1960d91"
      },
      "outputs": [
        {
          "output_type": "execute_result",
          "data": {
            "text/plain": [
              "Series([], Name: charges, dtype: float64)"
            ]
          },
          "metadata": {},
          "execution_count": 30
        }
      ],
      "source": [
        "yes_smoker = data[data['smoker'] == 'yes']['charges']\n",
        "yes_smoker"
      ]
    },
    {
      "cell_type": "code",
      "execution_count": 31,
      "id": "8e71bebe",
      "metadata": {
        "colab": {
          "base_uri": "https://localhost:8080/"
        },
        "id": "8e71bebe",
        "outputId": "c79e5cb1-0d43-4b5d-afdc-7ab265189551"
      },
      "outputs": [
        {
          "output_type": "execute_result",
          "data": {
            "text/plain": [
              "Series([], Name: charges, dtype: float64)"
            ]
          },
          "metadata": {},
          "execution_count": 31
        }
      ],
      "source": [
        "no_smoker = data[data['smoker'] == 'no']['charges']\n",
        "no_smoker"
      ]
    },
    {
      "cell_type": "code",
      "source": [
        "smokers = df[df[\"smoker\"] == \"yes\"]\n",
        "nonSmokers = df[df[\"smoker\"] == \"no\"]\n",
        "\n",
        "print(str(smokers.shape[0]) + \" kisi sigara iciyor,\" + str(nonSmokers.shape[0]) + ' kisi sigara icmiyor.')\n",
        "print('sigara icenlerin ortalama odedigi ucret: ' + str(smokers[\"charges\"].mean()))\n",
        "print('sigara icmeyenlerin ortalama odedigi ucret: ' + str(nonSmokers[\"charges\"].mean()))"
      ],
      "metadata": {
        "colab": {
          "base_uri": "https://localhost:8080/"
        },
        "id": "ZcMGQ6SN2K7m",
        "outputId": "8fcf71c8-434d-4b8f-916e-0fd384e57c8c"
      },
      "id": "ZcMGQ6SN2K7m",
      "execution_count": 34,
      "outputs": [
        {
          "output_type": "stream",
          "name": "stdout",
          "text": [
            "274 kisi sigara iciyor,1064 kisi sigara icmiyor.\n",
            "sigara icenlerin ortalama odedigi ucret: 32050.23183153284\n",
            "sigara icmeyenlerin ortalama odedigi ucret: 8434.268297856204\n"
          ]
        }
      ]
    },
    {
      "cell_type": "markdown",
      "id": "9dd1856d",
      "metadata": {
        "id": "9dd1856d"
      },
      "source": [
        "###  “smoker” (Sigara tüketen) ile “region”(Bölge) arasındaki ilişkiyi inceleyiniz"
      ]
    },
    {
      "cell_type": "code",
      "execution_count": 42,
      "id": "fed58cde",
      "metadata": {
        "colab": {
          "base_uri": "https://localhost:8080/",
          "height": 424
        },
        "id": "fed58cde",
        "outputId": "297b3f5e-efd5-488f-98b7-6d90828282e7"
      },
      "outputs": [
        {
          "output_type": "execute_result",
          "data": {
            "text/plain": [
              "      smoker     region\n",
              "0          1  southwest\n",
              "1          0  southeast\n",
              "2          0  southeast\n",
              "3          0  northwest\n",
              "4          0  northwest\n",
              "...      ...        ...\n",
              "1333       0  northwest\n",
              "1334       0  northeast\n",
              "1335       0  southeast\n",
              "1336       0  southwest\n",
              "1337       1  northwest\n",
              "\n",
              "[1338 rows x 2 columns]"
            ],
            "text/html": [
              "\n",
              "  <div id=\"df-0e7e0656-fffe-406a-ad48-d22fbed39228\">\n",
              "    <div class=\"colab-df-container\">\n",
              "      <div>\n",
              "<style scoped>\n",
              "    .dataframe tbody tr th:only-of-type {\n",
              "        vertical-align: middle;\n",
              "    }\n",
              "\n",
              "    .dataframe tbody tr th {\n",
              "        vertical-align: top;\n",
              "    }\n",
              "\n",
              "    .dataframe thead th {\n",
              "        text-align: right;\n",
              "    }\n",
              "</style>\n",
              "<table border=\"1\" class=\"dataframe\">\n",
              "  <thead>\n",
              "    <tr style=\"text-align: right;\">\n",
              "      <th></th>\n",
              "      <th>smoker</th>\n",
              "      <th>region</th>\n",
              "    </tr>\n",
              "  </thead>\n",
              "  <tbody>\n",
              "    <tr>\n",
              "      <th>0</th>\n",
              "      <td>1</td>\n",
              "      <td>southwest</td>\n",
              "    </tr>\n",
              "    <tr>\n",
              "      <th>1</th>\n",
              "      <td>0</td>\n",
              "      <td>southeast</td>\n",
              "    </tr>\n",
              "    <tr>\n",
              "      <th>2</th>\n",
              "      <td>0</td>\n",
              "      <td>southeast</td>\n",
              "    </tr>\n",
              "    <tr>\n",
              "      <th>3</th>\n",
              "      <td>0</td>\n",
              "      <td>northwest</td>\n",
              "    </tr>\n",
              "    <tr>\n",
              "      <th>4</th>\n",
              "      <td>0</td>\n",
              "      <td>northwest</td>\n",
              "    </tr>\n",
              "    <tr>\n",
              "      <th>...</th>\n",
              "      <td>...</td>\n",
              "      <td>...</td>\n",
              "    </tr>\n",
              "    <tr>\n",
              "      <th>1333</th>\n",
              "      <td>0</td>\n",
              "      <td>northwest</td>\n",
              "    </tr>\n",
              "    <tr>\n",
              "      <th>1334</th>\n",
              "      <td>0</td>\n",
              "      <td>northeast</td>\n",
              "    </tr>\n",
              "    <tr>\n",
              "      <th>1335</th>\n",
              "      <td>0</td>\n",
              "      <td>southeast</td>\n",
              "    </tr>\n",
              "    <tr>\n",
              "      <th>1336</th>\n",
              "      <td>0</td>\n",
              "      <td>southwest</td>\n",
              "    </tr>\n",
              "    <tr>\n",
              "      <th>1337</th>\n",
              "      <td>1</td>\n",
              "      <td>northwest</td>\n",
              "    </tr>\n",
              "  </tbody>\n",
              "</table>\n",
              "<p>1338 rows × 2 columns</p>\n",
              "</div>\n",
              "      <button class=\"colab-df-convert\" onclick=\"convertToInteractive('df-0e7e0656-fffe-406a-ad48-d22fbed39228')\"\n",
              "              title=\"Convert this dataframe to an interactive table.\"\n",
              "              style=\"display:none;\">\n",
              "        \n",
              "  <svg xmlns=\"http://www.w3.org/2000/svg\" height=\"24px\"viewBox=\"0 0 24 24\"\n",
              "       width=\"24px\">\n",
              "    <path d=\"M0 0h24v24H0V0z\" fill=\"none\"/>\n",
              "    <path d=\"M18.56 5.44l.94 2.06.94-2.06 2.06-.94-2.06-.94-.94-2.06-.94 2.06-2.06.94zm-11 1L8.5 8.5l.94-2.06 2.06-.94-2.06-.94L8.5 2.5l-.94 2.06-2.06.94zm10 10l.94 2.06.94-2.06 2.06-.94-2.06-.94-.94-2.06-.94 2.06-2.06.94z\"/><path d=\"M17.41 7.96l-1.37-1.37c-.4-.4-.92-.59-1.43-.59-.52 0-1.04.2-1.43.59L10.3 9.45l-7.72 7.72c-.78.78-.78 2.05 0 2.83L4 21.41c.39.39.9.59 1.41.59.51 0 1.02-.2 1.41-.59l7.78-7.78 2.81-2.81c.8-.78.8-2.07 0-2.86zM5.41 20L4 18.59l7.72-7.72 1.47 1.35L5.41 20z\"/>\n",
              "  </svg>\n",
              "      </button>\n",
              "      \n",
              "  <style>\n",
              "    .colab-df-container {\n",
              "      display:flex;\n",
              "      flex-wrap:wrap;\n",
              "      gap: 12px;\n",
              "    }\n",
              "\n",
              "    .colab-df-convert {\n",
              "      background-color: #E8F0FE;\n",
              "      border: none;\n",
              "      border-radius: 50%;\n",
              "      cursor: pointer;\n",
              "      display: none;\n",
              "      fill: #1967D2;\n",
              "      height: 32px;\n",
              "      padding: 0 0 0 0;\n",
              "      width: 32px;\n",
              "    }\n",
              "\n",
              "    .colab-df-convert:hover {\n",
              "      background-color: #E2EBFA;\n",
              "      box-shadow: 0px 1px 2px rgba(60, 64, 67, 0.3), 0px 1px 3px 1px rgba(60, 64, 67, 0.15);\n",
              "      fill: #174EA6;\n",
              "    }\n",
              "\n",
              "    [theme=dark] .colab-df-convert {\n",
              "      background-color: #3B4455;\n",
              "      fill: #D2E3FC;\n",
              "    }\n",
              "\n",
              "    [theme=dark] .colab-df-convert:hover {\n",
              "      background-color: #434B5C;\n",
              "      box-shadow: 0px 1px 3px 1px rgba(0, 0, 0, 0.15);\n",
              "      filter: drop-shadow(0px 1px 2px rgba(0, 0, 0, 0.3));\n",
              "      fill: #FFFFFF;\n",
              "    }\n",
              "  </style>\n",
              "\n",
              "      <script>\n",
              "        const buttonEl =\n",
              "          document.querySelector('#df-0e7e0656-fffe-406a-ad48-d22fbed39228 button.colab-df-convert');\n",
              "        buttonEl.style.display =\n",
              "          google.colab.kernel.accessAllowed ? 'block' : 'none';\n",
              "\n",
              "        async function convertToInteractive(key) {\n",
              "          const element = document.querySelector('#df-0e7e0656-fffe-406a-ad48-d22fbed39228');\n",
              "          const dataTable =\n",
              "            await google.colab.kernel.invokeFunction('convertToInteractive',\n",
              "                                                     [key], {});\n",
              "          if (!dataTable) return;\n",
              "\n",
              "          const docLinkHtml = 'Like what you see? Visit the ' +\n",
              "            '<a target=\"_blank\" href=https://colab.research.google.com/notebooks/data_table.ipynb>data table notebook</a>'\n",
              "            + ' to learn more about interactive tables.';\n",
              "          element.innerHTML = '';\n",
              "          dataTable['output_type'] = 'display_data';\n",
              "          await google.colab.output.renderOutput(dataTable, element);\n",
              "          const docLink = document.createElement('div');\n",
              "          docLink.innerHTML = docLinkHtml;\n",
              "          element.appendChild(docLink);\n",
              "        }\n",
              "      </script>\n",
              "    </div>\n",
              "  </div>\n",
              "  "
            ]
          },
          "metadata": {},
          "execution_count": 42
        }
      ],
      "source": [
        "data_corr_reg = data[['smoker','region']]\n",
        "data_corr_reg"
      ]
    },
    {
      "cell_type": "code",
      "execution_count": 43,
      "id": "00476bd5",
      "metadata": {
        "colab": {
          "base_uri": "https://localhost:8080/",
          "height": 282
        },
        "id": "00476bd5",
        "outputId": "47abdfbe-a9a6-4b81-9e60-83e93f20853c"
      },
      "outputs": [
        {
          "output_type": "execute_result",
          "data": {
            "text/plain": [
              "[<matplotlib.lines.Line2D at 0x7feb64708f50>]"
            ]
          },
          "metadata": {},
          "execution_count": 43
        },
        {
          "output_type": "display_data",
          "data": {
            "text/plain": [
              "<Figure size 432x288 with 1 Axes>"
            ],
            "image/png": "[encoded data removed]"
          },
          "metadata": {
            "needs_background": "light"
          }
        }
      ],
      "source": [
        "plt.plot(data_corr_reg['smoker'],data_corr_reg['region'])"
      ]
    },
    {
      "cell_type": "code",
      "execution_count": 44,
      "id": "c4d33883",
      "metadata": {
        "colab": {
          "base_uri": "https://localhost:8080/"
        },
        "id": "c4d33883",
        "outputId": "d2fe5b80-824c-4f5c-9c76-830dad3df026"
      },
      "outputs": [
        {
          "output_type": "execute_result",
          "data": {
            "text/plain": [
              "-0.002180682040934647"
            ]
          },
          "metadata": {},
          "execution_count": 44
        }
      ],
      "source": [
        "smoker=data['smoker'].astype('category').cat.codes\n",
        "region=data['region'].astype('category').cat.codes\n",
        "\n",
        "smoker.corr(region)"
      ]
    },
    {
      "cell_type": "code",
      "execution_count": 45,
      "id": "db324c5e",
      "metadata": {
        "colab": {
          "base_uri": "https://localhost:8080/"
        },
        "id": "db324c5e",
        "outputId": "c3d9732e-b073-4078-e4d7-10dc178e7465"
      },
      "outputs": [
        {
          "output_type": "execute_result",
          "data": {
            "text/plain": [
              "Series([], Name: region, dtype: object)"
            ]
          },
          "metadata": {},
          "execution_count": 45
        }
      ],
      "source": [
        "yes_smk_rg = data[data['smoker'] == 'yes']['region']\n",
        "yes_smk_rg"
      ]
    },
    {
      "cell_type": "code",
      "execution_count": 46,
      "id": "3aadbdbf",
      "metadata": {
        "colab": {
          "base_uri": "https://localhost:8080/"
        },
        "id": "3aadbdbf",
        "outputId": "8ca66de6-8f2e-40f8-d0d4-74c802a54b9b"
      },
      "outputs": [
        {
          "output_type": "execute_result",
          "data": {
            "text/plain": [
              "Series([], Name: region, dtype: object)"
            ]
          },
          "metadata": {},
          "execution_count": 46
        }
      ],
      "source": [
        "no_smk_rg = data[data['smoker'] == 'no']['region']\n",
        "no_smk_rg"
      ]
    },
    {
      "cell_type": "markdown",
      "id": "58b04ecb",
      "metadata": {
        "id": "58b04ecb"
      },
      "source": [
        "###  “bmi” ile “sex”(Cinsiyet) arasındaki ilişkiyi inceleyiniz."
      ]
    },
    {
      "cell_type": "code",
      "execution_count": 47,
      "id": "7bde3dd0",
      "metadata": {
        "colab": {
          "base_uri": "https://localhost:8080/"
        },
        "id": "7bde3dd0",
        "outputId": "cdc984db-e563-4464-cb80-c7b636473409"
      },
      "outputs": [
        {
          "output_type": "execute_result",
          "data": {
            "text/plain": [
              "sex\n",
              "male      20917.555\n",
              "female    20110.070\n",
              "Name: bmi, dtype: float64"
            ]
          },
          "metadata": {},
          "execution_count": 47
        }
      ],
      "source": [
        "data.groupby(by='sex').sum()['bmi'].sort_values(ascending=False)"
      ]
    },
    {
      "cell_type": "code",
      "execution_count": 48,
      "id": "aed6ac5e",
      "metadata": {
        "colab": {
          "base_uri": "https://localhost:8080/",
          "height": 424
        },
        "id": "aed6ac5e",
        "outputId": "261e6aae-de47-452b-d9cb-8e356291f2b3"
      },
      "outputs": [
        {
          "output_type": "execute_result",
          "data": {
            "text/plain": [
              "         bmi     sex\n",
              "0     27.900  female\n",
              "1     33.770    male\n",
              "2     33.000    male\n",
              "3     22.705    male\n",
              "4     28.880    male\n",
              "...      ...     ...\n",
              "1333  30.970    male\n",
              "1334  31.920  female\n",
              "1335  36.850  female\n",
              "1336  25.800  female\n",
              "1337  29.070  female\n",
              "\n",
              "[1338 rows x 2 columns]"
            ],
            "text/html": [
              "\n",
              "  <div id=\"df-bd58ab53-cdac-4f9c-8662-f177db589689\">\n",
              "    <div class=\"colab-df-container\">\n",
              "      <div>\n",
              "<style scoped>\n",
              "    .dataframe tbody tr th:only-of-type {\n",
              "        vertical-align: middle;\n",
              "    }\n",
              "\n",
              "    .dataframe tbody tr th {\n",
              "        vertical-align: top;\n",
              "    }\n",
              "\n",
              "    .dataframe thead th {\n",
              "        text-align: right;\n",
              "    }\n",
              "</style>\n",
              "<table border=\"1\" class=\"dataframe\">\n",
              "  <thead>\n",
              "    <tr style=\"text-align: right;\">\n",
              "      <th></th>\n",
              "      <th>bmi</th>\n",
              "      <th>sex</th>\n",
              "    </tr>\n",
              "  </thead>\n",
              "  <tbody>\n",
              "    <tr>\n",
              "      <th>0</th>\n",
              "      <td>27.900</td>\n",
              "      <td>female</td>\n",
              "    </tr>\n",
              "    <tr>\n",
              "      <th>1</th>\n",
              "      <td>33.770</td>\n",
              "      <td>male</td>\n",
              "    </tr>\n",
              "    <tr>\n",
              "      <th>2</th>\n",
              "      <td>33.000</td>\n",
              "      <td>male</td>\n",
              "    </tr>\n",
              "    <tr>\n",
              "      <th>3</th>\n",
              "      <td>22.705</td>\n",
              "      <td>male</td>\n",
              "    </tr>\n",
              "    <tr>\n",
              "      <th>4</th>\n",
              "      <td>28.880</td>\n",
              "      <td>male</td>\n",
              "    </tr>\n",
              "    <tr>\n",
              "      <th>...</th>\n",
              "      <td>...</td>\n",
              "      <td>...</td>\n",
              "    </tr>\n",
              "    <tr>\n",
              "      <th>1333</th>\n",
              "      <td>30.970</td>\n",
              "      <td>male</td>\n",
              "    </tr>\n",
              "    <tr>\n",
              "      <th>1334</th>\n",
              "      <td>31.920</td>\n",
              "      <td>female</td>\n",
              "    </tr>\n",
              "    <tr>\n",
              "      <th>1335</th>\n",
              "      <td>36.850</td>\n",
              "      <td>female</td>\n",
              "    </tr>\n",
              "    <tr>\n",
              "      <th>1336</th>\n",
              "      <td>25.800</td>\n",
              "      <td>female</td>\n",
              "    </tr>\n",
              "    <tr>\n",
              "      <th>1337</th>\n",
              "      <td>29.070</td>\n",
              "      <td>female</td>\n",
              "    </tr>\n",
              "  </tbody>\n",
              "</table>\n",
              "<p>1338 rows × 2 columns</p>\n",
              "</div>\n",
              "      <button class=\"colab-df-convert\" onclick=\"convertToInteractive('df-bd58ab53-cdac-4f9c-8662-f177db589689')\"\n",
              "              title=\"Convert this dataframe to an interactive table.\"\n",
              "              style=\"display:none;\">\n",
              "        \n",
              "  <svg xmlns=\"http://www.w3.org/2000/svg\" height=\"24px\"viewBox=\"0 0 24 24\"\n",
              "       width=\"24px\">\n",
              "    <path d=\"M0 0h24v24H0V0z\" fill=\"none\"/>\n",
              "    <path d=\"M18.56 5.44l.94 2.06.94-2.06 2.06-.94-2.06-.94-.94-2.06-.94 2.06-2.06.94zm-11 1L8.5 8.5l.94-2.06 2.06-.94-2.06-.94L8.5 2.5l-.94 2.06-2.06.94zm10 10l.94 2.06.94-2.06 2.06-.94-2.06-.94-.94-2.06-.94 2.06-2.06.94z\"/><path d=\"M17.41 7.96l-1.37-1.37c-.4-.4-.92-.59-1.43-.59-.52 0-1.04.2-1.43.59L10.3 9.45l-7.72 7.72c-.78.78-.78 2.05 0 2.83L4 21.41c.39.39.9.59 1.41.59.51 0 1.02-.2 1.41-.59l7.78-7.78 2.81-2.81c.8-.78.8-2.07 0-2.86zM5.41 20L4 18.59l7.72-7.72 1.47 1.35L5.41 20z\"/>\n",
              "  </svg>\n",
              "      </button>\n",
              "      \n",
              "  <style>\n",
              "    .colab-df-container {\n",
              "      display:flex;\n",
              "      flex-wrap:wrap;\n",
              "      gap: 12px;\n",
              "    }\n",
              "\n",
              "    .colab-df-convert {\n",
              "      background-color: #E8F0FE;\n",
              "      border: none;\n",
              "      border-radius: 50%;\n",
              "      cursor: pointer;\n",
              "      display: none;\n",
              "      fill: #1967D2;\n",
              "      height: 32px;\n",
              "      padding: 0 0 0 0;\n",
              "      width: 32px;\n",
              "    }\n",
              "\n",
              "    .colab-df-convert:hover {\n",
              "      background-color: #E2EBFA;\n",
              "      box-shadow: 0px 1px 2px rgba(60, 64, 67, 0.3), 0px 1px 3px 1px rgba(60, 64, 67, 0.15);\n",
              "      fill: #174EA6;\n",
              "    }\n",
              "\n",
              "    [theme=dark] .colab-df-convert {\n",
              "      background-color: #3B4455;\n",
              "      fill: #D2E3FC;\n",
              "    }\n",
              "\n",
              "    [theme=dark] .colab-df-convert:hover {\n",
              "      background-color: #434B5C;\n",
              "      box-shadow: 0px 1px 3px 1px rgba(0, 0, 0, 0.15);\n",
              "      filter: drop-shadow(0px 1px 2px rgba(0, 0, 0, 0.3));\n",
              "      fill: #FFFFFF;\n",
              "    }\n",
              "  </style>\n",
              "\n",
              "      <script>\n",
              "        const buttonEl =\n",
              "          document.querySelector('#df-bd58ab53-cdac-4f9c-8662-f177db589689 button.colab-df-convert');\n",
              "        buttonEl.style.display =\n",
              "          google.colab.kernel.accessAllowed ? 'block' : 'none';\n",
              "\n",
              "        async function convertToInteractive(key) {\n",
              "          const element = document.querySelector('#df-bd58ab53-cdac-4f9c-8662-f177db589689');\n",
              "          const dataTable =\n",
              "            await google.colab.kernel.invokeFunction('convertToInteractive',\n",
              "                                                     [key], {});\n",
              "          if (!dataTable) return;\n",
              "\n",
              "          const docLinkHtml = 'Like what you see? Visit the ' +\n",
              "            '<a target=\"_blank\" href=https://colab.research.google.com/notebooks/data_table.ipynb>data table notebook</a>'\n",
              "            + ' to learn more about interactive tables.';\n",
              "          element.innerHTML = '';\n",
              "          dataTable['output_type'] = 'display_data';\n",
              "          await google.colab.output.renderOutput(dataTable, element);\n",
              "          const docLink = document.createElement('div');\n",
              "          docLink.innerHTML = docLinkHtml;\n",
              "          element.appendChild(docLink);\n",
              "        }\n",
              "      </script>\n",
              "    </div>\n",
              "  </div>\n",
              "  "
            ]
          },
          "metadata": {},
          "execution_count": 48
        }
      ],
      "source": [
        "data_bmi_sex = data[['bmi','sex']]\n",
        "data_bmi_sex"
      ]
    },
    {
      "cell_type": "code",
      "execution_count": 49,
      "id": "f291be51",
      "metadata": {
        "colab": {
          "base_uri": "https://localhost:8080/"
        },
        "id": "f291be51",
        "outputId": "f2adf0a4-a34d-4a15-a4ac-9139a22403fa"
      },
      "outputs": [
        {
          "output_type": "execute_result",
          "data": {
            "text/plain": [
              "0.046371150646294566"
            ]
          },
          "metadata": {},
          "execution_count": 49
        }
      ],
      "source": [
        "sex=data['sex'].astype('category').cat.codes\n",
        "\n",
        "sex.corr(data['bmi'])"
      ]
    },
    {
      "cell_type": "code",
      "execution_count": 50,
      "id": "6916cb22",
      "metadata": {
        "colab": {
          "base_uri": "https://localhost:8080/"
        },
        "id": "6916cb22",
        "outputId": "df1c8387-e6e5-4d06-d2f7-d5770eb41d7f"
      },
      "outputs": [
        {
          "output_type": "execute_result",
          "data": {
            "text/plain": [
              "0       0\n",
              "1       1\n",
              "2       1\n",
              "3       1\n",
              "4       1\n",
              "       ..\n",
              "1333    1\n",
              "1334    0\n",
              "1335    0\n",
              "1336    0\n",
              "1337    0\n",
              "Length: 1338, dtype: int8"
            ]
          },
          "metadata": {},
          "execution_count": 50
        }
      ],
      "source": [
        "sex"
      ]
    },
    {
      "cell_type": "code",
      "execution_count": 51,
      "id": "3a381333",
      "metadata": {
        "colab": {
          "base_uri": "https://localhost:8080/",
          "height": 282
        },
        "id": "3a381333",
        "outputId": "bda6b5dd-8288-4158-f341-220803dfda62"
      },
      "outputs": [
        {
          "output_type": "execute_result",
          "data": {
            "text/plain": [
              "<matplotlib.collections.PathCollection at 0x7feb6466cd90>"
            ]
          },
          "metadata": {},
          "execution_count": 51
        },
        {
          "output_type": "display_data",
          "data": {
            "text/plain": [
              "<Figure size 432x288 with 1 Axes>"
            ],
            "image/png": "[encoded data removed]"
          },
          "metadata": {
            "needs_background": "light"
          }
        }
      ],
      "source": [
        "plt.scatter(sex,data['bmi'])"
      ]
    },
    {
      "cell_type": "code",
      "execution_count": 52,
      "id": "f4bbe1d1",
      "metadata": {
        "colab": {
          "base_uri": "https://localhost:8080/"
        },
        "id": "f4bbe1d1",
        "outputId": "114386f0-f323-4bb2-8bac-f51e0a8e1974"
      },
      "outputs": [
        {
          "output_type": "execute_result",
          "data": {
            "text/plain": [
              "1       33.770\n",
              "2       33.000\n",
              "3       22.705\n",
              "4       28.880\n",
              "8       29.830\n",
              "         ...  \n",
              "1324    25.935\n",
              "1325    33.535\n",
              "1327    30.030\n",
              "1329    38.600\n",
              "1333    30.970\n",
              "Name: bmi, Length: 676, dtype: float64"
            ]
          },
          "metadata": {},
          "execution_count": 52
        }
      ],
      "source": [
        "male_bmi = data[data['sex'] == 'male']['bmi']\n",
        "male_bmi"
      ]
    },
    {
      "cell_type": "code",
      "execution_count": 53,
      "id": "7db0f9d1",
      "metadata": {
        "colab": {
          "base_uri": "https://localhost:8080/"
        },
        "id": "7db0f9d1",
        "outputId": "9ab74056-08b5-48f4-daf1-5c3231a02285"
      },
      "outputs": [
        {
          "output_type": "execute_result",
          "data": {
            "text/plain": [
              "0       27.90\n",
              "5       25.74\n",
              "6       33.44\n",
              "7       27.74\n",
              "9       25.84\n",
              "        ...  \n",
              "1332    44.70\n",
              "1334    31.92\n",
              "1335    36.85\n",
              "1336    25.80\n",
              "1337    29.07\n",
              "Name: bmi, Length: 662, dtype: float64"
            ]
          },
          "metadata": {},
          "execution_count": 53
        }
      ],
      "source": [
        "female_bmi = data[data['sex'] == 'female']['bmi']\n",
        "female_bmi"
      ]
    },
    {
      "cell_type": "markdown",
      "id": "886452b5",
      "metadata": {
        "id": "886452b5"
      },
      "source": [
        "###  En çok “children”’a sahip “region”’ı bulunuz"
      ]
    },
    {
      "cell_type": "code",
      "execution_count": 54,
      "id": "1747a64c",
      "metadata": {
        "colab": {
          "base_uri": "https://localhost:8080/",
          "height": 206
        },
        "id": "1747a64c",
        "outputId": "4ed9727f-8961-45f6-d9c6-14e3e879d1af"
      },
      "outputs": [
        {
          "output_type": "execute_result",
          "data": {
            "text/plain": [
              "             age        bmi  children  smoker       charges\n",
              "region                                                     \n",
              "southeast  14174  12141.580       382      91  5.363690e+06\n",
              "northwest  12739   9489.930       373      58  4.035712e+06\n",
              "southwest  12823   9943.900       371      58  4.012755e+06\n",
              "northeast  12723   9452.215       339      67  4.343669e+06"
            ],
            "text/html": [
              "\n",
              "  <div id=\"df-6570c6b0-3aef-4a96-a54c-26f92ed955a4\">\n",
              "    <div class=\"colab-df-container\">\n",
              "      <div>\n",
              "<style scoped>\n",
              "    .dataframe tbody tr th:only-of-type {\n",
              "        vertical-align: middle;\n",
              "    }\n",
              "\n",
              "    .dataframe tbody tr th {\n",
              "        vertical-align: top;\n",
              "    }\n",
              "\n",
              "    .dataframe thead th {\n",
              "        text-align: right;\n",
              "    }\n",
              "</style>\n",
              "<table border=\"1\" class=\"dataframe\">\n",
              "  <thead>\n",
              "    <tr style=\"text-align: right;\">\n",
              "      <th></th>\n",
              "      <th>age</th>\n",
              "      <th>bmi</th>\n",
              "      <th>children</th>\n",
              "      <th>smoker</th>\n",
              "      <th>charges</th>\n",
              "    </tr>\n",
              "    <tr>\n",
              "      <th>region</th>\n",
              "      <th></th>\n",
              "      <th></th>\n",
              "      <th></th>\n",
              "      <th></th>\n",
              "      <th></th>\n",
              "    </tr>\n",
              "  </thead>\n",
              "  <tbody>\n",
              "    <tr>\n",
              "      <th>southeast</th>\n",
              "      <td>14174</td>\n",
              "      <td>12141.580</td>\n",
              "      <td>382</td>\n",
              "      <td>91</td>\n",
              "      <td>5.363690e+06</td>\n",
              "    </tr>\n",
              "    <tr>\n",
              "      <th>northwest</th>\n",
              "      <td>12739</td>\n",
              "      <td>9489.930</td>\n",
              "      <td>373</td>\n",
              "      <td>58</td>\n",
              "      <td>4.035712e+06</td>\n",
              "    </tr>\n",
              "    <tr>\n",
              "      <th>southwest</th>\n",
              "      <td>12823</td>\n",
              "      <td>9943.900</td>\n",
              "      <td>371</td>\n",
              "      <td>58</td>\n",
              "      <td>4.012755e+06</td>\n",
              "    </tr>\n",
              "    <tr>\n",
              "      <th>northeast</th>\n",
              "      <td>12723</td>\n",
              "      <td>9452.215</td>\n",
              "      <td>339</td>\n",
              "      <td>67</td>\n",
              "      <td>4.343669e+06</td>\n",
              "    </tr>\n",
              "  </tbody>\n",
              "</table>\n",
              "</div>\n",
              "      <button class=\"colab-df-convert\" onclick=\"convertToInteractive('df-6570c6b0-3aef-4a96-a54c-26f92ed955a4')\"\n",
              "              title=\"Convert this dataframe to an interactive table.\"\n",
              "              style=\"display:none;\">\n",
              "        \n",
              "  <svg xmlns=\"http://www.w3.org/2000/svg\" height=\"24px\"viewBox=\"0 0 24 24\"\n",
              "       width=\"24px\">\n",
              "    <path d=\"M0 0h24v24H0V0z\" fill=\"none\"/>\n",
              "    <path d=\"M18.56 5.44l.94 2.06.94-2.06 2.06-.94-2.06-.94-.94-2.06-.94 2.06-2.06.94zm-11 1L8.5 8.5l.94-2.06 2.06-.94-2.06-.94L8.5 2.5l-.94 2.06-2.06.94zm10 10l.94 2.06.94-2.06 2.06-.94-2.06-.94-.94-2.06-.94 2.06-2.06.94z\"/><path d=\"M17.41 7.96l-1.37-1.37c-.4-.4-.92-.59-1.43-.59-.52 0-1.04.2-1.43.59L10.3 9.45l-7.72 7.72c-.78.78-.78 2.05 0 2.83L4 21.41c.39.39.9.59 1.41.59.51 0 1.02-.2 1.41-.59l7.78-7.78 2.81-2.81c.8-.78.8-2.07 0-2.86zM5.41 20L4 18.59l7.72-7.72 1.47 1.35L5.41 20z\"/>\n",
              "  </svg>\n",
              "      </button>\n",
              "      \n",
              "  <style>\n",
              "    .colab-df-container {\n",
              "      display:flex;\n",
              "      flex-wrap:wrap;\n",
              "      gap: 12px;\n",
              "    }\n",
              "\n",
              "    .colab-df-convert {\n",
              "      background-color: #E8F0FE;\n",
              "      border: none;\n",
              "      border-radius: 50%;\n",
              "      cursor: pointer;\n",
              "      display: none;\n",
              "      fill: #1967D2;\n",
              "      height: 32px;\n",
              "      padding: 0 0 0 0;\n",
              "      width: 32px;\n",
              "    }\n",
              "\n",
              "    .colab-df-convert:hover {\n",
              "      background-color: #E2EBFA;\n",
              "      box-shadow: 0px 1px 2px rgba(60, 64, 67, 0.3), 0px 1px 3px 1px rgba(60, 64, 67, 0.15);\n",
              "      fill: #174EA6;\n",
              "    }\n",
              "\n",
              "    [theme=dark] .colab-df-convert {\n",
              "      background-color: #3B4455;\n",
              "      fill: #D2E3FC;\n",
              "    }\n",
              "\n",
              "    [theme=dark] .colab-df-convert:hover {\n",
              "      background-color: #434B5C;\n",
              "      box-shadow: 0px 1px 3px 1px rgba(0, 0, 0, 0.15);\n",
              "      filter: drop-shadow(0px 1px 2px rgba(0, 0, 0, 0.3));\n",
              "      fill: #FFFFFF;\n",
              "    }\n",
              "  </style>\n",
              "\n",
              "      <script>\n",
              "        const buttonEl =\n",
              "          document.querySelector('#df-6570c6b0-3aef-4a96-a54c-26f92ed955a4 button.colab-df-convert');\n",
              "        buttonEl.style.display =\n",
              "          google.colab.kernel.accessAllowed ? 'block' : 'none';\n",
              "\n",
              "        async function convertToInteractive(key) {\n",
              "          const element = document.querySelector('#df-6570c6b0-3aef-4a96-a54c-26f92ed955a4');\n",
              "          const dataTable =\n",
              "            await google.colab.kernel.invokeFunction('convertToInteractive',\n",
              "                                                     [key], {});\n",
              "          if (!dataTable) return;\n",
              "\n",
              "          const docLinkHtml = 'Like what you see? Visit the ' +\n",
              "            '<a target=\"_blank\" href=https://colab.research.google.com/notebooks/data_table.ipynb>data table notebook</a>'\n",
              "            + ' to learn more about interactive tables.';\n",
              "          element.innerHTML = '';\n",
              "          dataTable['output_type'] = 'display_data';\n",
              "          await google.colab.output.renderOutput(dataTable, element);\n",
              "          const docLink = document.createElement('div');\n",
              "          docLink.innerHTML = docLinkHtml;\n",
              "          element.appendChild(docLink);\n",
              "        }\n",
              "      </script>\n",
              "    </div>\n",
              "  </div>\n",
              "  "
            ]
          },
          "metadata": {},
          "execution_count": 54
        }
      ],
      "source": [
        "data.groupby(by='region').sum().sort_values(by='children',ascending=False)"
      ]
    },
    {
      "cell_type": "code",
      "execution_count": 55,
      "id": "8abfbfbb",
      "metadata": {
        "colab": {
          "base_uri": "https://localhost:8080/"
        },
        "id": "8abfbfbb",
        "outputId": "b1245b44-158d-43fa-c7d8-1778e7d829f4"
      },
      "outputs": [
        {
          "output_type": "execute_result",
          "data": {
            "text/plain": [
              "region\n",
              "southeast    382\n",
              "northwest    373\n",
              "southwest    371\n",
              "northeast    339\n",
              "Name: children, dtype: int64"
            ]
          },
          "metadata": {},
          "execution_count": 55
        }
      ],
      "source": [
        "children = data.groupby(by='region').sum()['children'].sort_values(ascending=False)\n",
        "children"
      ]
    },
    {
      "cell_type": "code",
      "execution_count": 56,
      "id": "ef893a48",
      "metadata": {
        "id": "ef893a48"
      },
      "outputs": [],
      "source": [
        "x = np.array([\"southeast\", \"northwest\", \"southwest\", \"northeast\"])"
      ]
    },
    {
      "cell_type": "code",
      "execution_count": 57,
      "id": "d5ce074a",
      "metadata": {
        "colab": {
          "base_uri": "https://localhost:8080/",
          "height": 286
        },
        "id": "d5ce074a",
        "outputId": "3e0c7e47-3450-4e52-bb27-5ece1c419192"
      },
      "outputs": [
        {
          "output_type": "execute_result",
          "data": {
            "text/plain": [
              "<BarContainer object of 4 artists>"
            ]
          },
          "metadata": {},
          "execution_count": 57
        },
        {
          "output_type": "display_data",
          "data": {
            "text/plain": [
              "<Figure size 432x288 with 1 Axes>"
            ],
            "image/png": "[encoded data removed]"
          },
          "metadata": {
            "needs_background": "light"
          }
        }
      ],
      "source": [
        "plt.bar(x,children)"
      ]
    },
    {
      "cell_type": "markdown",
      "id": "615a732c",
      "metadata": {
        "id": "615a732c"
      },
      "source": [
        "### “Age” ile “bmi” arasındaki ilişkiyi inceleyiniz."
      ]
    },
    {
      "cell_type": "code",
      "execution_count": null,
      "id": "d8316887",
      "metadata": {
        "id": "d8316887"
      },
      "outputs": [],
      "source": []
    },
    {
      "cell_type": "markdown",
      "id": "74a431a6",
      "metadata": {
        "id": "74a431a6"
      },
      "source": [
        "### “bmi” ile “children” arasındaki ilişkiyi inceleyiniz."
      ]
    },
    {
      "cell_type": "markdown",
      "id": "01880033",
      "metadata": {
        "id": "01880033"
      },
      "source": [
        "### “bmi” değişkeninde outlier var mıdır? İnceleyiniz."
      ]
    },
    {
      "cell_type": "code",
      "execution_count": 58,
      "id": "8951b1e7",
      "metadata": {
        "id": "8951b1e7"
      },
      "outputs": [],
      "source": [
        "outliers = []\n",
        "\n",
        "def outlier_bul(data):\n",
        "    \n",
        "    threshold = 3\n",
        "    mean = np.mean(data)\n",
        "    std = np.std(data)\n",
        "    \n",
        "    for i in data:\n",
        "        z_score = (i-mean)/std\n",
        "        if np.abs(z_score) > threshold:\n",
        "            outliers.append(i)\n",
        "    return outliers  "
      ]
    },
    {
      "cell_type": "code",
      "execution_count": 59,
      "id": "3a91f251",
      "metadata": {
        "colab": {
          "base_uri": "https://localhost:8080/"
        },
        "id": "3a91f251",
        "outputId": "af696915-7a99-4244-a6a9-a87998e2beb0"
      },
      "outputs": [
        {
          "output_type": "execute_result",
          "data": {
            "text/plain": [
              "[49.06, 50.38, 52.58, 53.13]"
            ]
          },
          "metadata": {},
          "execution_count": 59
        }
      ],
      "source": [
        "outlier = outlier_bul(data['bmi'])\n",
        "outlier"
      ]
    },
    {
      "cell_type": "code",
      "execution_count": 60,
      "id": "7f57c2fa",
      "metadata": {
        "colab": {
          "base_uri": "https://localhost:8080/",
          "height": 282
        },
        "id": "7f57c2fa",
        "outputId": "72516793-8e78-4128-b0d4-2d26f4b36880"
      },
      "outputs": [
        {
          "output_type": "execute_result",
          "data": {
            "text/plain": [
              "[<matplotlib.lines.Line2D at 0x7feb645d3d50>]"
            ]
          },
          "metadata": {},
          "execution_count": 60
        },
        {
          "output_type": "display_data",
          "data": {
            "text/plain": [
              "<Figure size 432x288 with 1 Axes>"
            ],
            "image/png": "[encoded data removed]"
          },
          "metadata": {
            "needs_background": "light"
          }
        }
      ],
      "source": [
        "plt.plot(outlier)"
      ]
    },
    {
      "cell_type": "markdown",
      "id": "d912a7a9",
      "metadata": {
        "id": "d912a7a9"
      },
      "source": [
        "### “bmi” ile “charges” arasındaki ilişkiyi inceleyiniz."
      ]
    },
    {
      "cell_type": "markdown",
      "id": "5b49b432",
      "metadata": {
        "id": "5b49b432"
      },
      "source": [
        "### “region”, “smoker” ve “bmi” arasındaki ilişkiyi bar plot kullanarak inceleyiniz"
      ]
    },
    {
      "cell_type": "markdown",
      "id": "96538ea0",
      "metadata": {
        "id": "96538ea0"
      },
      "source": [
        "## Veri Ön İşleme Yapılması"
      ]
    },
    {
      "cell_type": "code",
      "execution_count": 61,
      "id": "3c8eed32",
      "metadata": {
        "colab": {
          "base_uri": "https://localhost:8080/",
          "height": 424
        },
        "id": "3c8eed32",
        "outputId": "536d54e8-c942-4120-96e1-9759322bca83"
      },
      "outputs": [
        {
          "output_type": "execute_result",
          "data": {
            "text/plain": [
              "      age     sex     bmi  children  smoker     region      charges\n",
              "0      19  female  27.900         0       1  southwest  16884.92400\n",
              "1      18    male  33.770         1       0  southeast   1725.55230\n",
              "2      28    male  33.000         3       0  southeast   4449.46200\n",
              "3      33    male  22.705         0       0  northwest  21984.47061\n",
              "4      32    male  28.880         0       0  northwest   3866.85520\n",
              "...   ...     ...     ...       ...     ...        ...          ...\n",
              "1333   50    male  30.970         3       0  northwest  10600.54830\n",
              "1334   18  female  31.920         0       0  northeast   2205.98080\n",
              "1335   18  female  36.850         0       0  southeast   1629.83350\n",
              "1336   21  female  25.800         0       0  southwest   2007.94500\n",
              "1337   61  female  29.070         0       1  northwest  29141.36030\n",
              "\n",
              "[1338 rows x 7 columns]"
            ],
            "text/html": [
              "\n",
              "  <div id=\"df-90e1eff9-1f9e-49c2-a4b8-04fd68698783\">\n",
              "    <div class=\"colab-df-container\">\n",
              "      <div>\n",
              "<style scoped>\n",
              "    .dataframe tbody tr th:only-of-type {\n",
              "        vertical-align: middle;\n",
              "    }\n",
              "\n",
              "    .dataframe tbody tr th {\n",
              "        vertical-align: top;\n",
              "    }\n",
              "\n",
              "    .dataframe thead th {\n",
              "        text-align: right;\n",
              "    }\n",
              "</style>\n",
              "<table border=\"1\" class=\"dataframe\">\n",
              "  <thead>\n",
              "    <tr style=\"text-align: right;\">\n",
              "      <th></th>\n",
              "      <th>age</th>\n",
              "      <th>sex</th>\n",
              "      <th>bmi</th>\n",
              "      <th>children</th>\n",
              "      <th>smoker</th>\n",
              "      <th>region</th>\n",
              "      <th>charges</th>\n",
              "    </tr>\n",
              "  </thead>\n",
              "  <tbody>\n",
              "    <tr>\n",
              "      <th>0</th>\n",
              "      <td>19</td>\n",
              "      <td>female</td>\n",
              "      <td>27.900</td>\n",
              "      <td>0</td>\n",
              "      <td>1</td>\n",
              "      <td>southwest</td>\n",
              "      <td>16884.92400</td>\n",
              "    </tr>\n",
              "    <tr>\n",
              "      <th>1</th>\n",
              "      <td>18</td>\n",
              "      <td>male</td>\n",
              "      <td>33.770</td>\n",
              "      <td>1</td>\n",
              "      <td>0</td>\n",
              "      <td>southeast</td>\n",
              "      <td>1725.55230</td>\n",
              "    </tr>\n",
              "    <tr>\n",
              "      <th>2</th>\n",
              "      <td>28</td>\n",
              "      <td>male</td>\n",
              "      <td>33.000</td>\n",
              "      <td>3</td>\n",
              "      <td>0</td>\n",
              "      <td>southeast</td>\n",
              "      <td>4449.46200</td>\n",
              "    </tr>\n",
              "    <tr>\n",
              "      <th>3</th>\n",
              "      <td>33</td>\n",
              "      <td>male</td>\n",
              "      <td>22.705</td>\n",
              "      <td>0</td>\n",
              "      <td>0</td>\n",
              "      <td>northwest</td>\n",
              "      <td>21984.47061</td>\n",
              "    </tr>\n",
              "    <tr>\n",
              "      <th>4</th>\n",
              "      <td>32</td>\n",
              "      <td>male</td>\n",
              "      <td>28.880</td>\n",
              "      <td>0</td>\n",
              "      <td>0</td>\n",
              "      <td>northwest</td>\n",
              "      <td>3866.85520</td>\n",
              "    </tr>\n",
              "    <tr>\n",
              "      <th>...</th>\n",
              "      <td>...</td>\n",
              "      <td>...</td>\n",
              "      <td>...</td>\n",
              "      <td>...</td>\n",
              "      <td>...</td>\n",
              "      <td>...</td>\n",
              "      <td>...</td>\n",
              "    </tr>\n",
              "    <tr>\n",
              "      <th>1333</th>\n",
              "      <td>50</td>\n",
              "      <td>male</td>\n",
              "      <td>30.970</td>\n",
              "      <td>3</td>\n",
              "      <td>0</td>\n",
              "      <td>northwest</td>\n",
              "      <td>10600.54830</td>\n",
              "    </tr>\n",
              "    <tr>\n",
              "      <th>1334</th>\n",
              "      <td>18</td>\n",
              "      <td>female</td>\n",
              "      <td>31.920</td>\n",
              "      <td>0</td>\n",
              "      <td>0</td>\n",
              "      <td>northeast</td>\n",
              "      <td>2205.98080</td>\n",
              "    </tr>\n",
              "    <tr>\n",
              "      <th>1335</th>\n",
              "      <td>18</td>\n",
              "      <td>female</td>\n",
              "      <td>36.850</td>\n",
              "      <td>0</td>\n",
              "      <td>0</td>\n",
              "      <td>southeast</td>\n",
              "      <td>1629.83350</td>\n",
              "    </tr>\n",
              "    <tr>\n",
              "      <th>1336</th>\n",
              "      <td>21</td>\n",
              "      <td>female</td>\n",
              "      <td>25.800</td>\n",
              "      <td>0</td>\n",
              "      <td>0</td>\n",
              "      <td>southwest</td>\n",
              "      <td>2007.94500</td>\n",
              "    </tr>\n",
              "    <tr>\n",
              "      <th>1337</th>\n",
              "      <td>61</td>\n",
              "      <td>female</td>\n",
              "      <td>29.070</td>\n",
              "      <td>0</td>\n",
              "      <td>1</td>\n",
              "      <td>northwest</td>\n",
              "      <td>29141.36030</td>\n",
              "    </tr>\n",
              "  </tbody>\n",
              "</table>\n",
              "<p>1338 rows × 7 columns</p>\n",
              "</div>\n",
              "      <button class=\"colab-df-convert\" onclick=\"convertToInteractive('df-90e1eff9-1f9e-49c2-a4b8-04fd68698783')\"\n",
              "              title=\"Convert this dataframe to an interactive table.\"\n",
              "              style=\"display:none;\">\n",
              "        \n",
              "  <svg xmlns=\"http://www.w3.org/2000/svg\" height=\"24px\"viewBox=\"0 0 24 24\"\n",
              "       width=\"24px\">\n",
              "    <path d=\"M0 0h24v24H0V0z\" fill=\"none\"/>\n",
              "    <path d=\"M18.56 5.44l.94 2.06.94-2.06 2.06-.94-2.06-.94-.94-2.06-.94 2.06-2.06.94zm-11 1L8.5 8.5l.94-2.06 2.06-.94-2.06-.94L8.5 2.5l-.94 2.06-2.06.94zm10 10l.94 2.06.94-2.06 2.06-.94-2.06-.94-.94-2.06-.94 2.06-2.06.94z\"/><path d=\"M17.41 7.96l-1.37-1.37c-.4-.4-.92-.59-1.43-.59-.52 0-1.04.2-1.43.59L10.3 9.45l-7.72 7.72c-.78.78-.78 2.05 0 2.83L4 21.41c.39.39.9.59 1.41.59.51 0 1.02-.2 1.41-.59l7.78-7.78 2.81-2.81c.8-.78.8-2.07 0-2.86zM5.41 20L4 18.59l7.72-7.72 1.47 1.35L5.41 20z\"/>\n",
              "  </svg>\n",
              "      </button>\n",
              "      \n",
              "  <style>\n",
              "    .colab-df-container {\n",
              "      display:flex;\n",
              "      flex-wrap:wrap;\n",
              "      gap: 12px;\n",
              "    }\n",
              "\n",
              "    .colab-df-convert {\n",
              "      background-color: #E8F0FE;\n",
              "      border: none;\n",
              "      border-radius: 50%;\n",
              "      cursor: pointer;\n",
              "      display: none;\n",
              "      fill: #1967D2;\n",
              "      height: 32px;\n",
              "      padding: 0 0 0 0;\n",
              "      width: 32px;\n",
              "    }\n",
              "\n",
              "    .colab-df-convert:hover {\n",
              "      background-color: #E2EBFA;\n",
              "      box-shadow: 0px 1px 2px rgba(60, 64, 67, 0.3), 0px 1px 3px 1px rgba(60, 64, 67, 0.15);\n",
              "      fill: #174EA6;\n",
              "    }\n",
              "\n",
              "    [theme=dark] .colab-df-convert {\n",
              "      background-color: #3B4455;\n",
              "      fill: #D2E3FC;\n",
              "    }\n",
              "\n",
              "    [theme=dark] .colab-df-convert:hover {\n",
              "      background-color: #434B5C;\n",
              "      box-shadow: 0px 1px 3px 1px rgba(0, 0, 0, 0.15);\n",
              "      filter: drop-shadow(0px 1px 2px rgba(0, 0, 0, 0.3));\n",
              "      fill: #FFFFFF;\n",
              "    }\n",
              "  </style>\n",
              "\n",
              "      <script>\n",
              "        const buttonEl =\n",
              "          document.querySelector('#df-90e1eff9-1f9e-49c2-a4b8-04fd68698783 button.colab-df-convert');\n",
              "        buttonEl.style.display =\n",
              "          google.colab.kernel.accessAllowed ? 'block' : 'none';\n",
              "\n",
              "        async function convertToInteractive(key) {\n",
              "          const element = document.querySelector('#df-90e1eff9-1f9e-49c2-a4b8-04fd68698783');\n",
              "          const dataTable =\n",
              "            await google.colab.kernel.invokeFunction('convertToInteractive',\n",
              "                                                     [key], {});\n",
              "          if (!dataTable) return;\n",
              "\n",
              "          const docLinkHtml = 'Like what you see? Visit the ' +\n",
              "            '<a target=\"_blank\" href=https://colab.research.google.com/notebooks/data_table.ipynb>data table notebook</a>'\n",
              "            + ' to learn more about interactive tables.';\n",
              "          element.innerHTML = '';\n",
              "          dataTable['output_type'] = 'display_data';\n",
              "          await google.colab.output.renderOutput(dataTable, element);\n",
              "          const docLink = document.createElement('div');\n",
              "          docLink.innerHTML = docLinkHtml;\n",
              "          element.appendChild(docLink);\n",
              "        }\n",
              "      </script>\n",
              "    </div>\n",
              "  </div>\n",
              "  "
            ]
          },
          "metadata": {},
          "execution_count": 61
        }
      ],
      "source": [
        "data"
      ]
    },
    {
      "cell_type": "code",
      "execution_count": 62,
      "id": "559aa2f0",
      "metadata": {
        "colab": {
          "base_uri": "https://localhost:8080/"
        },
        "id": "559aa2f0",
        "outputId": "7418bf27-c085-4d05-bb40-3433e7b891fa"
      },
      "outputs": [
        {
          "output_type": "execute_result",
          "data": {
            "text/plain": [
              "age           int64\n",
              "sex          object\n",
              "bmi         float64\n",
              "children      int64\n",
              "smoker         int8\n",
              "region       object\n",
              "charges     float64\n",
              "dtype: object"
            ]
          },
          "metadata": {},
          "execution_count": 62
        }
      ],
      "source": [
        "data.dtypes"
      ]
    },
    {
      "cell_type": "code",
      "execution_count": 63,
      "id": "1c0b4323",
      "metadata": {
        "colab": {
          "base_uri": "https://localhost:8080/"
        },
        "id": "1c0b4323",
        "outputId": "506d5306-a675-451e-e6a8-cbd6b5d42a50"
      },
      "outputs": [
        {
          "output_type": "stream",
          "name": "stdout",
          "text": [
            "['female' 'male']\n"
          ]
        },
        {
          "output_type": "execute_result",
          "data": {
            "text/plain": [
              "male      676\n",
              "female    662\n",
              "Name: sex, dtype: int64"
            ]
          },
          "metadata": {},
          "execution_count": 63
        }
      ],
      "source": [
        "print(data[\"sex\"].unique())\n",
        "data[\"sex\"].value_counts()"
      ]
    },
    {
      "cell_type": "code",
      "execution_count": 64,
      "id": "8da2585b",
      "metadata": {
        "colab": {
          "base_uri": "https://localhost:8080/"
        },
        "id": "8da2585b",
        "outputId": "0612d624-a0fa-4e5a-8a53-f97f9920f0e6"
      },
      "outputs": [
        {
          "output_type": "stream",
          "name": "stdout",
          "text": [
            "[1 0]\n"
          ]
        },
        {
          "output_type": "execute_result",
          "data": {
            "text/plain": [
              "0    1064\n",
              "1     274\n",
              "Name: smoker, dtype: int64"
            ]
          },
          "metadata": {},
          "execution_count": 64
        }
      ],
      "source": [
        "print(data[\"smoker\"].unique())\n",
        "data[\"smoker\"].value_counts()"
      ]
    },
    {
      "cell_type": "code",
      "execution_count": 65,
      "id": "2145b3d1",
      "metadata": {
        "colab": {
          "base_uri": "https://localhost:8080/"
        },
        "id": "2145b3d1",
        "outputId": "11a8a9d6-674d-4193-cc09-11ed27712cfd"
      },
      "outputs": [
        {
          "output_type": "stream",
          "name": "stdout",
          "text": [
            "['southwest' 'southeast' 'northwest' 'northeast']\n"
          ]
        },
        {
          "output_type": "execute_result",
          "data": {
            "text/plain": [
              "southeast    364\n",
              "southwest    325\n",
              "northwest    325\n",
              "northeast    324\n",
              "Name: region, dtype: int64"
            ]
          },
          "metadata": {},
          "execution_count": 65
        }
      ],
      "source": [
        "print(data[\"region\"].unique())\n",
        "data[\"region\"].value_counts()"
      ]
    },
    {
      "cell_type": "code",
      "execution_count": 66,
      "id": "61db337b",
      "metadata": {
        "id": "61db337b"
      },
      "outputs": [],
      "source": [
        "from sklearn.preprocessing import LabelEncoder"
      ]
    },
    {
      "cell_type": "code",
      "execution_count": 67,
      "id": "0df3ff3a",
      "metadata": {
        "id": "0df3ff3a"
      },
      "outputs": [],
      "source": [
        "label_encoder = LabelEncoder()"
      ]
    },
    {
      "cell_type": "code",
      "execution_count": 68,
      "id": "bcf1d84e",
      "metadata": {
        "id": "bcf1d84e"
      },
      "outputs": [],
      "source": [
        "df[\"sex\"] = label_encoder.fit_transform(df[\"sex\"])"
      ]
    },
    {
      "cell_type": "code",
      "execution_count": 69,
      "id": "995f9d1d",
      "metadata": {
        "colab": {
          "base_uri": "https://localhost:8080/"
        },
        "id": "995f9d1d",
        "outputId": "caf656a7-c516-498c-9e8c-75b1ebfc2538"
      },
      "outputs": [
        {
          "output_type": "execute_result",
          "data": {
            "text/plain": [
              "0       0\n",
              "1       1\n",
              "2       1\n",
              "3       1\n",
              "4       1\n",
              "       ..\n",
              "1333    1\n",
              "1334    0\n",
              "1335    0\n",
              "1336    0\n",
              "1337    0\n",
              "Name: sex, Length: 1338, dtype: int64"
            ]
          },
          "metadata": {},
          "execution_count": 69
        }
      ],
      "source": [
        "df[\"sex\"] #0:female,1:male"
      ]
    },
    {
      "cell_type": "code",
      "execution_count": 70,
      "id": "7ba17d84",
      "metadata": {
        "id": "7ba17d84"
      },
      "outputs": [],
      "source": [
        "df[\"smoker\"] = label_encoder.fit_transform(df[\"smoker\"]) #1:yes,2:no"
      ]
    },
    {
      "cell_type": "code",
      "execution_count": 71,
      "id": "855696ed",
      "metadata": {
        "id": "855696ed"
      },
      "outputs": [],
      "source": [
        "df[\"region\"] = label_encoder.fit_transform(df[\"region\"]) #3:southwest,2:southeast,1:northwest,0:northeast"
      ]
    },
    {
      "cell_type": "code",
      "execution_count": 72,
      "id": "deed6e6a",
      "metadata": {
        "colab": {
          "base_uri": "https://localhost:8080/",
          "height": 424
        },
        "id": "deed6e6a",
        "outputId": "187b0cac-1f0e-44b9-f39a-7953c2109f17"
      },
      "outputs": [
        {
          "output_type": "execute_result",
          "data": {
            "text/plain": [
              "      age  sex     bmi  children  smoker  region      charges\n",
              "0      19    0  27.900         0       1       3  16884.92400\n",
              "1      18    1  33.770         1       0       2   1725.55230\n",
              "2      28    1  33.000         3       0       2   4449.46200\n",
              "3      33    1  22.705         0       0       1  21984.47061\n",
              "4      32    1  28.880         0       0       1   3866.85520\n",
              "...   ...  ...     ...       ...     ...     ...          ...\n",
              "1333   50    1  30.970         3       0       1  10600.54830\n",
              "1334   18    0  31.920         0       0       0   2205.98080\n",
              "1335   18    0  36.850         0       0       2   1629.83350\n",
              "1336   21    0  25.800         0       0       3   2007.94500\n",
              "1337   61    0  29.070         0       1       1  29141.36030\n",
              "\n",
              "[1338 rows x 7 columns]"
            ],
            "text/html": [
              "\n",
              "  <div id=\"df-9b4ebd47-4d50-4ac0-a93b-8d9d91191781\">\n",
              "    <div class=\"colab-df-container\">\n",
              "      <div>\n",
              "<style scoped>\n",
              "    .dataframe tbody tr th:only-of-type {\n",
              "        vertical-align: middle;\n",
              "    }\n",
              "\n",
              "    .dataframe tbody tr th {\n",
              "        vertical-align: top;\n",
              "    }\n",
              "\n",
              "    .dataframe thead th {\n",
              "        text-align: right;\n",
              "    }\n",
              "</style>\n",
              "<table border=\"1\" class=\"dataframe\">\n",
              "  <thead>\n",
              "    <tr style=\"text-align: right;\">\n",
              "      <th></th>\n",
              "      <th>age</th>\n",
              "      <th>sex</th>\n",
              "      <th>bmi</th>\n",
              "      <th>children</th>\n",
              "      <th>smoker</th>\n",
              "      <th>region</th>\n",
              "      <th>charges</th>\n",
              "    </tr>\n",
              "  </thead>\n",
              "  <tbody>\n",
              "    <tr>\n",
              "      <th>0</th>\n",
              "      <td>19</td>\n",
              "      <td>0</td>\n",
              "      <td>27.900</td>\n",
              "      <td>0</td>\n",
              "      <td>1</td>\n",
              "      <td>3</td>\n",
              "      <td>16884.92400</td>\n",
              "    </tr>\n",
              "    <tr>\n",
              "      <th>1</th>\n",
              "      <td>18</td>\n",
              "      <td>1</td>\n",
              "      <td>33.770</td>\n",
              "      <td>1</td>\n",
              "      <td>0</td>\n",
              "      <td>2</td>\n",
              "      <td>1725.55230</td>\n",
              "    </tr>\n",
              "    <tr>\n",
              "      <th>2</th>\n",
              "      <td>28</td>\n",
              "      <td>1</td>\n",
              "      <td>33.000</td>\n",
              "      <td>3</td>\n",
              "      <td>0</td>\n",
              "      <td>2</td>\n",
              "      <td>4449.46200</td>\n",
              "    </tr>\n",
              "    <tr>\n",
              "      <th>3</th>\n",
              "      <td>33</td>\n",
              "      <td>1</td>\n",
              "      <td>22.705</td>\n",
              "      <td>0</td>\n",
              "      <td>0</td>\n",
              "      <td>1</td>\n",
              "      <td>21984.47061</td>\n",
              "    </tr>\n",
              "    <tr>\n",
              "      <th>4</th>\n",
              "      <td>32</td>\n",
              "      <td>1</td>\n",
              "      <td>28.880</td>\n",
              "      <td>0</td>\n",
              "      <td>0</td>\n",
              "      <td>1</td>\n",
              "      <td>3866.85520</td>\n",
              "    </tr>\n",
              "    <tr>\n",
              "      <th>...</th>\n",
              "      <td>...</td>\n",
              "      <td>...</td>\n",
              "      <td>...</td>\n",
              "      <td>...</td>\n",
              "      <td>...</td>\n",
              "      <td>...</td>\n",
              "      <td>...</td>\n",
              "    </tr>\n",
              "    <tr>\n",
              "      <th>1333</th>\n",
              "      <td>50</td>\n",
              "      <td>1</td>\n",
              "      <td>30.970</td>\n",
              "      <td>3</td>\n",
              "      <td>0</td>\n",
              "      <td>1</td>\n",
              "      <td>10600.54830</td>\n",
              "    </tr>\n",
              "    <tr>\n",
              "      <th>1334</th>\n",
              "      <td>18</td>\n",
              "      <td>0</td>\n",
              "      <td>31.920</td>\n",
              "      <td>0</td>\n",
              "      <td>0</td>\n",
              "      <td>0</td>\n",
              "      <td>2205.98080</td>\n",
              "    </tr>\n",
              "    <tr>\n",
              "      <th>1335</th>\n",
              "      <td>18</td>\n",
              "      <td>0</td>\n",
              "      <td>36.850</td>\n",
              "      <td>0</td>\n",
              "      <td>0</td>\n",
              "      <td>2</td>\n",
              "      <td>1629.83350</td>\n",
              "    </tr>\n",
              "    <tr>\n",
              "      <th>1336</th>\n",
              "      <td>21</td>\n",
              "      <td>0</td>\n",
              "      <td>25.800</td>\n",
              "      <td>0</td>\n",
              "      <td>0</td>\n",
              "      <td>3</td>\n",
              "      <td>2007.94500</td>\n",
              "    </tr>\n",
              "    <tr>\n",
              "      <th>1337</th>\n",
              "      <td>61</td>\n",
              "      <td>0</td>\n",
              "      <td>29.070</td>\n",
              "      <td>0</td>\n",
              "      <td>1</td>\n",
              "      <td>1</td>\n",
              "      <td>29141.36030</td>\n",
              "    </tr>\n",
              "  </tbody>\n",
              "</table>\n",
              "<p>1338 rows × 7 columns</p>\n",
              "</div>\n",
              "      <button class=\"colab-df-convert\" onclick=\"convertToInteractive('df-9b4ebd47-4d50-4ac0-a93b-8d9d91191781')\"\n",
              "              title=\"Convert this dataframe to an interactive table.\"\n",
              "              style=\"display:none;\">\n",
              "        \n",
              "  <svg xmlns=\"http://www.w3.org/2000/svg\" height=\"24px\"viewBox=\"0 0 24 24\"\n",
              "       width=\"24px\">\n",
              "    <path d=\"M0 0h24v24H0V0z\" fill=\"none\"/>\n",
              "    <path d=\"M18.56 5.44l.94 2.06.94-2.06 2.06-.94-2.06-.94-.94-2.06-.94 2.06-2.06.94zm-11 1L8.5 8.5l.94-2.06 2.06-.94-2.06-.94L8.5 2.5l-.94 2.06-2.06.94zm10 10l.94 2.06.94-2.06 2.06-.94-2.06-.94-.94-2.06-.94 2.06-2.06.94z\"/><path d=\"M17.41 7.96l-1.37-1.37c-.4-.4-.92-.59-1.43-.59-.52 0-1.04.2-1.43.59L10.3 9.45l-7.72 7.72c-.78.78-.78 2.05 0 2.83L4 21.41c.39.39.9.59 1.41.59.51 0 1.02-.2 1.41-.59l7.78-7.78 2.81-2.81c.8-.78.8-2.07 0-2.86zM5.41 20L4 18.59l7.72-7.72 1.47 1.35L5.41 20z\"/>\n",
              "  </svg>\n",
              "      </button>\n",
              "      \n",
              "  <style>\n",
              "    .colab-df-container {\n",
              "      display:flex;\n",
              "      flex-wrap:wrap;\n",
              "      gap: 12px;\n",
              "    }\n",
              "\n",
              "    .colab-df-convert {\n",
              "      background-color: #E8F0FE;\n",
              "      border: none;\n",
              "      border-radius: 50%;\n",
              "      cursor: pointer;\n",
              "      display: none;\n",
              "      fill: #1967D2;\n",
              "      height: 32px;\n",
              "      padding: 0 0 0 0;\n",
              "      width: 32px;\n",
              "    }\n",
              "\n",
              "    .colab-df-convert:hover {\n",
              "      background-color: #E2EBFA;\n",
              "      box-shadow: 0px 1px 2px rgba(60, 64, 67, 0.3), 0px 1px 3px 1px rgba(60, 64, 67, 0.15);\n",
              "      fill: #174EA6;\n",
              "    }\n",
              "\n",
              "    [theme=dark] .colab-df-convert {\n",
              "      background-color: #3B4455;\n",
              "      fill: #D2E3FC;\n",
              "    }\n",
              "\n",
              "    [theme=dark] .colab-df-convert:hover {\n",
              "      background-color: #434B5C;\n",
              "      box-shadow: 0px 1px 3px 1px rgba(0, 0, 0, 0.15);\n",
              "      filter: drop-shadow(0px 1px 2px rgba(0, 0, 0, 0.3));\n",
              "      fill: #FFFFFF;\n",
              "    }\n",
              "  </style>\n",
              "\n",
              "      <script>\n",
              "        const buttonEl =\n",
              "          document.querySelector('#df-9b4ebd47-4d50-4ac0-a93b-8d9d91191781 button.colab-df-convert');\n",
              "        buttonEl.style.display =\n",
              "          google.colab.kernel.accessAllowed ? 'block' : 'none';\n",
              "\n",
              "        async function convertToInteractive(key) {\n",
              "          const element = document.querySelector('#df-9b4ebd47-4d50-4ac0-a93b-8d9d91191781');\n",
              "          const dataTable =\n",
              "            await google.colab.kernel.invokeFunction('convertToInteractive',\n",
              "                                                     [key], {});\n",
              "          if (!dataTable) return;\n",
              "\n",
              "          const docLinkHtml = 'Like what you see? Visit the ' +\n",
              "            '<a target=\"_blank\" href=https://colab.research.google.com/notebooks/data_table.ipynb>data table notebook</a>'\n",
              "            + ' to learn more about interactive tables.';\n",
              "          element.innerHTML = '';\n",
              "          dataTable['output_type'] = 'display_data';\n",
              "          await google.colab.output.renderOutput(dataTable, element);\n",
              "          const docLink = document.createElement('div');\n",
              "          docLink.innerHTML = docLinkHtml;\n",
              "          element.appendChild(docLink);\n",
              "        }\n",
              "      </script>\n",
              "    </div>\n",
              "  </div>\n",
              "  "
            ]
          },
          "metadata": {},
          "execution_count": 72
        }
      ],
      "source": [
        "df"
      ]
    },
    {
      "cell_type": "code",
      "execution_count": 73,
      "id": "3c02ea83",
      "metadata": {
        "id": "3c02ea83"
      },
      "outputs": [],
      "source": [
        "from sklearn import preprocessing"
      ]
    },
    {
      "cell_type": "code",
      "execution_count": 74,
      "id": "78b66f2e",
      "metadata": {
        "id": "78b66f2e"
      },
      "outputs": [],
      "source": [
        "scaler = preprocessing.MinMaxScaler()\n",
        "data['bmi'] = scaler.fit_transform(data[['bmi']])"
      ]
    },
    {
      "cell_type": "code",
      "execution_count": 75,
      "id": "4f313d06",
      "metadata": {
        "id": "4f313d06"
      },
      "outputs": [],
      "source": [
        "scaler2 = preprocessing.MinMaxScaler()\n",
        "data['charges'] = scaler.fit_transform(data[['charges']])"
      ]
    },
    {
      "cell_type": "code",
      "execution_count": 76,
      "id": "273d6770",
      "metadata": {
        "id": "273d6770"
      },
      "outputs": [],
      "source": [
        "from sklearn.preprocessing import OneHotEncoder"
      ]
    },
    {
      "cell_type": "code",
      "execution_count": 77,
      "id": "54d99b88",
      "metadata": {
        "id": "54d99b88"
      },
      "outputs": [],
      "source": [
        "ohe = OneHotEncoder()"
      ]
    },
    {
      "cell_type": "code",
      "execution_count": 78,
      "id": "c6e89cea",
      "metadata": {
        "colab": {
          "base_uri": "https://localhost:8080/"
        },
        "id": "c6e89cea",
        "outputId": "ca1cdf93-3a2b-45de-d31a-4137860d75ca"
      },
      "outputs": [
        {
          "output_type": "execute_result",
          "data": {
            "text/plain": [
              "array([[1., 0., 0., ..., 0., 0., 1.],\n",
              "       [0., 1., 1., ..., 0., 1., 0.],\n",
              "       [0., 1., 1., ..., 0., 1., 0.],\n",
              "       ...,\n",
              "       [1., 0., 1., ..., 0., 1., 0.],\n",
              "       [1., 0., 1., ..., 0., 0., 1.],\n",
              "       [1., 0., 0., ..., 1., 0., 0.]])"
            ]
          },
          "metadata": {},
          "execution_count": 78
        }
      ],
      "source": [
        "feature_array = ohe.fit_transform(data[[\"sex\",\"smoker\",\"region\"]]).toarray()\n",
        "feature_array"
      ]
    },
    {
      "cell_type": "code",
      "execution_count": 79,
      "id": "c5709cd4",
      "metadata": {
        "colab": {
          "base_uri": "https://localhost:8080/",
          "height": 424
        },
        "id": "c5709cd4",
        "outputId": "70d81e15-a3cc-4cc4-8e11-3aa7ea6200f9"
      },
      "outputs": [
        {
          "output_type": "execute_result",
          "data": {
            "text/plain": [
              "      age  sex     bmi  children  smoker  region      charges\n",
              "0      19    0  27.900         0       1       3  16884.92400\n",
              "1      18    1  33.770         1       0       2   1725.55230\n",
              "2      28    1  33.000         3       0       2   4449.46200\n",
              "3      33    1  22.705         0       0       1  21984.47061\n",
              "4      32    1  28.880         0       0       1   3866.85520\n",
              "...   ...  ...     ...       ...     ...     ...          ...\n",
              "1333   50    1  30.970         3       0       1  10600.54830\n",
              "1334   18    0  31.920         0       0       0   2205.98080\n",
              "1335   18    0  36.850         0       0       2   1629.83350\n",
              "1336   21    0  25.800         0       0       3   2007.94500\n",
              "1337   61    0  29.070         0       1       1  29141.36030\n",
              "\n",
              "[1338 rows x 7 columns]"
            ],
            "text/html": [
              "\n",
              "  <div id=\"df-fa8a4baf-4449-4d19-83f8-5a71c8c943c1\">\n",
              "    <div class=\"colab-df-container\">\n",
              "      <div>\n",
              "<style scoped>\n",
              "    .dataframe tbody tr th:only-of-type {\n",
              "        vertical-align: middle;\n",
              "    }\n",
              "\n",
              "    .dataframe tbody tr th {\n",
              "        vertical-align: top;\n",
              "    }\n",
              "\n",
              "    .dataframe thead th {\n",
              "        text-align: right;\n",
              "    }\n",
              "</style>\n",
              "<table border=\"1\" class=\"dataframe\">\n",
              "  <thead>\n",
              "    <tr style=\"text-align: right;\">\n",
              "      <th></th>\n",
              "      <th>age</th>\n",
              "      <th>sex</th>\n",
              "      <th>bmi</th>\n",
              "      <th>children</th>\n",
              "      <th>smoker</th>\n",
              "      <th>region</th>\n",
              "      <th>charges</th>\n",
              "    </tr>\n",
              "  </thead>\n",
              "  <tbody>\n",
              "    <tr>\n",
              "      <th>0</th>\n",
              "      <td>19</td>\n",
              "      <td>0</td>\n",
              "      <td>27.900</td>\n",
              "      <td>0</td>\n",
              "      <td>1</td>\n",
              "      <td>3</td>\n",
              "      <td>16884.92400</td>\n",
              "    </tr>\n",
              "    <tr>\n",
              "      <th>1</th>\n",
              "      <td>18</td>\n",
              "      <td>1</td>\n",
              "      <td>33.770</td>\n",
              "      <td>1</td>\n",
              "      <td>0</td>\n",
              "      <td>2</td>\n",
              "      <td>1725.55230</td>\n",
              "    </tr>\n",
              "    <tr>\n",
              "      <th>2</th>\n",
              "      <td>28</td>\n",
              "      <td>1</td>\n",
              "      <td>33.000</td>\n",
              "      <td>3</td>\n",
              "      <td>0</td>\n",
              "      <td>2</td>\n",
              "      <td>4449.46200</td>\n",
              "    </tr>\n",
              "    <tr>\n",
              "      <th>3</th>\n",
              "      <td>33</td>\n",
              "      <td>1</td>\n",
              "      <td>22.705</td>\n",
              "      <td>0</td>\n",
              "      <td>0</td>\n",
              "      <td>1</td>\n",
              "      <td>21984.47061</td>\n",
              "    </tr>\n",
              "    <tr>\n",
              "      <th>4</th>\n",
              "      <td>32</td>\n",
              "      <td>1</td>\n",
              "      <td>28.880</td>\n",
              "      <td>0</td>\n",
              "      <td>0</td>\n",
              "      <td>1</td>\n",
              "      <td>3866.85520</td>\n",
              "    </tr>\n",
              "    <tr>\n",
              "      <th>...</th>\n",
              "      <td>...</td>\n",
              "      <td>...</td>\n",
              "      <td>...</td>\n",
              "      <td>...</td>\n",
              "      <td>...</td>\n",
              "      <td>...</td>\n",
              "      <td>...</td>\n",
              "    </tr>\n",
              "    <tr>\n",
              "      <th>1333</th>\n",
              "      <td>50</td>\n",
              "      <td>1</td>\n",
              "      <td>30.970</td>\n",
              "      <td>3</td>\n",
              "      <td>0</td>\n",
              "      <td>1</td>\n",
              "      <td>10600.54830</td>\n",
              "    </tr>\n",
              "    <tr>\n",
              "      <th>1334</th>\n",
              "      <td>18</td>\n",
              "      <td>0</td>\n",
              "      <td>31.920</td>\n",
              "      <td>0</td>\n",
              "      <td>0</td>\n",
              "      <td>0</td>\n",
              "      <td>2205.98080</td>\n",
              "    </tr>\n",
              "    <tr>\n",
              "      <th>1335</th>\n",
              "      <td>18</td>\n",
              "      <td>0</td>\n",
              "      <td>36.850</td>\n",
              "      <td>0</td>\n",
              "      <td>0</td>\n",
              "      <td>2</td>\n",
              "      <td>1629.83350</td>\n",
              "    </tr>\n",
              "    <tr>\n",
              "      <th>1336</th>\n",
              "      <td>21</td>\n",
              "      <td>0</td>\n",
              "      <td>25.800</td>\n",
              "      <td>0</td>\n",
              "      <td>0</td>\n",
              "      <td>3</td>\n",
              "      <td>2007.94500</td>\n",
              "    </tr>\n",
              "    <tr>\n",
              "      <th>1337</th>\n",
              "      <td>61</td>\n",
              "      <td>0</td>\n",
              "      <td>29.070</td>\n",
              "      <td>0</td>\n",
              "      <td>1</td>\n",
              "      <td>1</td>\n",
              "      <td>29141.36030</td>\n",
              "    </tr>\n",
              "  </tbody>\n",
              "</table>\n",
              "<p>1338 rows × 7 columns</p>\n",
              "</div>\n",
              "      <button class=\"colab-df-convert\" onclick=\"convertToInteractive('df-fa8a4baf-4449-4d19-83f8-5a71c8c943c1')\"\n",
              "              title=\"Convert this dataframe to an interactive table.\"\n",
              "              style=\"display:none;\">\n",
              "        \n",
              "  <svg xmlns=\"http://www.w3.org/2000/svg\" height=\"24px\"viewBox=\"0 0 24 24\"\n",
              "       width=\"24px\">\n",
              "    <path d=\"M0 0h24v24H0V0z\" fill=\"none\"/>\n",
              "    <path d=\"M18.56 5.44l.94 2.06.94-2.06 2.06-.94-2.06-.94-.94-2.06-.94 2.06-2.06.94zm-11 1L8.5 8.5l.94-2.06 2.06-.94-2.06-.94L8.5 2.5l-.94 2.06-2.06.94zm10 10l.94 2.06.94-2.06 2.06-.94-2.06-.94-.94-2.06-.94 2.06-2.06.94z\"/><path d=\"M17.41 7.96l-1.37-1.37c-.4-.4-.92-.59-1.43-.59-.52 0-1.04.2-1.43.59L10.3 9.45l-7.72 7.72c-.78.78-.78 2.05 0 2.83L4 21.41c.39.39.9.59 1.41.59.51 0 1.02-.2 1.41-.59l7.78-7.78 2.81-2.81c.8-.78.8-2.07 0-2.86zM5.41 20L4 18.59l7.72-7.72 1.47 1.35L5.41 20z\"/>\n",
              "  </svg>\n",
              "      </button>\n",
              "      \n",
              "  <style>\n",
              "    .colab-df-container {\n",
              "      display:flex;\n",
              "      flex-wrap:wrap;\n",
              "      gap: 12px;\n",
              "    }\n",
              "\n",
              "    .colab-df-convert {\n",
              "      background-color: #E8F0FE;\n",
              "      border: none;\n",
              "      border-radius: 50%;\n",
              "      cursor: pointer;\n",
              "      display: none;\n",
              "      fill: #1967D2;\n",
              "      height: 32px;\n",
              "      padding: 0 0 0 0;\n",
              "      width: 32px;\n",
              "    }\n",
              "\n",
              "    .colab-df-convert:hover {\n",
              "      background-color: #E2EBFA;\n",
              "      box-shadow: 0px 1px 2px rgba(60, 64, 67, 0.3), 0px 1px 3px 1px rgba(60, 64, 67, 0.15);\n",
              "      fill: #174EA6;\n",
              "    }\n",
              "\n",
              "    [theme=dark] .colab-df-convert {\n",
              "      background-color: #3B4455;\n",
              "      fill: #D2E3FC;\n",
              "    }\n",
              "\n",
              "    [theme=dark] .colab-df-convert:hover {\n",
              "      background-color: #434B5C;\n",
              "      box-shadow: 0px 1px 3px 1px rgba(0, 0, 0, 0.15);\n",
              "      filter: drop-shadow(0px 1px 2px rgba(0, 0, 0, 0.3));\n",
              "      fill: #FFFFFF;\n",
              "    }\n",
              "  </style>\n",
              "\n",
              "      <script>\n",
              "        const buttonEl =\n",
              "          document.querySelector('#df-fa8a4baf-4449-4d19-83f8-5a71c8c943c1 button.colab-df-convert');\n",
              "        buttonEl.style.display =\n",
              "          google.colab.kernel.accessAllowed ? 'block' : 'none';\n",
              "\n",
              "        async function convertToInteractive(key) {\n",
              "          const element = document.querySelector('#df-fa8a4baf-4449-4d19-83f8-5a71c8c943c1');\n",
              "          const dataTable =\n",
              "            await google.colab.kernel.invokeFunction('convertToInteractive',\n",
              "                                                     [key], {});\n",
              "          if (!dataTable) return;\n",
              "\n",
              "          const docLinkHtml = 'Like what you see? Visit the ' +\n",
              "            '<a target=\"_blank\" href=https://colab.research.google.com/notebooks/data_table.ipynb>data table notebook</a>'\n",
              "            + ' to learn more about interactive tables.';\n",
              "          element.innerHTML = '';\n",
              "          dataTable['output_type'] = 'display_data';\n",
              "          await google.colab.output.renderOutput(dataTable, element);\n",
              "          const docLink = document.createElement('div');\n",
              "          docLink.innerHTML = docLinkHtml;\n",
              "          element.appendChild(docLink);\n",
              "        }\n",
              "      </script>\n",
              "    </div>\n",
              "  </div>\n",
              "  "
            ]
          },
          "metadata": {},
          "execution_count": 79
        }
      ],
      "source": [
        "df"
      ]
    },
    {
      "cell_type": "code",
      "source": [
        "#normalizasyon\n",
        "df = (df / df.max(axis=0))"
      ],
      "metadata": {
        "id": "8yrXSrvr39pn"
      },
      "id": "8yrXSrvr39pn",
      "execution_count": 93,
      "outputs": []
    },
    {
      "cell_type": "code",
      "execution_count": 94,
      "id": "37015672",
      "metadata": {
        "id": "37015672"
      },
      "outputs": [],
      "source": [
        "X = df.drop('charges', axis=1)\n",
        "y = df['charges']"
      ]
    },
    {
      "cell_type": "code",
      "execution_count": 95,
      "id": "efca2e6d",
      "metadata": {
        "colab": {
          "base_uri": "https://localhost:8080/",
          "height": 424
        },
        "id": "efca2e6d",
        "outputId": "ef3a1d2b-aaa3-4d73-afa4-e7b9fabf1e91"
      },
      "outputs": [
        {
          "output_type": "execute_result",
          "data": {
            "text/plain": [
              "           age  sex       bmi  children  smoker    region\n",
              "0     0.296875  0.0  0.525127       0.0     1.0  1.000000\n",
              "1     0.281250  1.0  0.635611       0.2     0.0  0.666667\n",
              "2     0.437500  1.0  0.621118       0.6     0.0  0.666667\n",
              "3     0.515625  1.0  0.427348       0.0     0.0  0.333333\n",
              "4     0.500000  1.0  0.543572       0.0     0.0  0.333333\n",
              "...        ...  ...       ...       ...     ...       ...\n",
              "1333  0.781250  1.0  0.582910       0.6     0.0  0.333333\n",
              "1334  0.281250  0.0  0.600791       0.0     0.0  0.000000\n",
              "1335  0.281250  0.0  0.693582       0.0     0.0  0.666667\n",
              "1336  0.328125  0.0  0.485601       0.0     0.0  1.000000\n",
              "1337  0.953125  0.0  0.547149       0.0     1.0  0.333333\n",
              "\n",
              "[1338 rows x 6 columns]"
            ],
            "text/html": [
              "\n",
              "  <div id=\"df-b22b41c6-74de-44ea-bdc3-61f7dcda9010\">\n",
              "    <div class=\"colab-df-container\">\n",
              "      <div>\n",
              "<style scoped>\n",
              "    .dataframe tbody tr th:only-of-type {\n",
              "        vertical-align: middle;\n",
              "    }\n",
              "\n",
              "    .dataframe tbody tr th {\n",
              "        vertical-align: top;\n",
              "    }\n",
              "\n",
              "    .dataframe thead th {\n",
              "        text-align: right;\n",
              "    }\n",
              "</style>\n",
              "<table border=\"1\" class=\"dataframe\">\n",
              "  <thead>\n",
              "    <tr style=\"text-align: right;\">\n",
              "      <th></th>\n",
              "      <th>age</th>\n",
              "      <th>sex</th>\n",
              "      <th>bmi</th>\n",
              "      <th>children</th>\n",
              "      <th>smoker</th>\n",
              "      <th>region</th>\n",
              "    </tr>\n",
              "  </thead>\n",
              "  <tbody>\n",
              "    <tr>\n",
              "      <th>0</th>\n",
              "      <td>0.296875</td>\n",
              "      <td>0.0</td>\n",
              "      <td>0.525127</td>\n",
              "      <td>0.0</td>\n",
              "      <td>1.0</td>\n",
              "      <td>1.000000</td>\n",
              "    </tr>\n",
              "    <tr>\n",
              "      <th>1</th>\n",
              "      <td>0.281250</td>\n",
              "      <td>1.0</td>\n",
              "      <td>0.635611</td>\n",
              "      <td>0.2</td>\n",
              "      <td>0.0</td>\n",
              "      <td>0.666667</td>\n",
              "    </tr>\n",
              "    <tr>\n",
              "      <th>2</th>\n",
              "      <td>0.437500</td>\n",
              "      <td>1.0</td>\n",
              "      <td>0.621118</td>\n",
              "      <td>0.6</td>\n",
              "      <td>0.0</td>\n",
              "      <td>0.666667</td>\n",
              "    </tr>\n",
              "    <tr>\n",
              "      <th>3</th>\n",
              "      <td>0.515625</td>\n",
              "      <td>1.0</td>\n",
              "      <td>0.427348</td>\n",
              "      <td>0.0</td>\n",
              "      <td>0.0</td>\n",
              "      <td>0.333333</td>\n",
              "    </tr>\n",
              "    <tr>\n",
              "      <th>4</th>\n",
              "      <td>0.500000</td>\n",
              "      <td>1.0</td>\n",
              "      <td>0.543572</td>\n",
              "      <td>0.0</td>\n",
              "      <td>0.0</td>\n",
              "      <td>0.333333</td>\n",
              "    </tr>\n",
              "    <tr>\n",
              "      <th>...</th>\n",
              "      <td>...</td>\n",
              "      <td>...</td>\n",
              "      <td>...</td>\n",
              "      <td>...</td>\n",
              "      <td>...</td>\n",
              "      <td>...</td>\n",
              "    </tr>\n",
              "    <tr>\n",
              "      <th>1333</th>\n",
              "      <td>0.781250</td>\n",
              "      <td>1.0</td>\n",
              "      <td>0.582910</td>\n",
              "      <td>0.6</td>\n",
              "      <td>0.0</td>\n",
              "      <td>0.333333</td>\n",
              "    </tr>\n",
              "    <tr>\n",
              "      <th>1334</th>\n",
              "      <td>0.281250</td>\n",
              "      <td>0.0</td>\n",
              "      <td>0.600791</td>\n",
              "      <td>0.0</td>\n",
              "      <td>0.0</td>\n",
              "      <td>0.000000</td>\n",
              "    </tr>\n",
              "    <tr>\n",
              "      <th>1335</th>\n",
              "      <td>0.281250</td>\n",
              "      <td>0.0</td>\n",
              "      <td>0.693582</td>\n",
              "      <td>0.0</td>\n",
              "      <td>0.0</td>\n",
              "      <td>0.666667</td>\n",
              "    </tr>\n",
              "    <tr>\n",
              "      <th>1336</th>\n",
              "      <td>0.328125</td>\n",
              "      <td>0.0</td>\n",
              "      <td>0.485601</td>\n",
              "      <td>0.0</td>\n",
              "      <td>0.0</td>\n",
              "      <td>1.000000</td>\n",
              "    </tr>\n",
              "    <tr>\n",
              "      <th>1337</th>\n",
              "      <td>0.953125</td>\n",
              "      <td>0.0</td>\n",
              "      <td>0.547149</td>\n",
              "      <td>0.0</td>\n",
              "      <td>1.0</td>\n",
              "      <td>0.333333</td>\n",
              "    </tr>\n",
              "  </tbody>\n",
              "</table>\n",
              "<p>1338 rows × 6 columns</p>\n",
              "</div>\n",
              "      <button class=\"colab-df-convert\" onclick=\"convertToInteractive('df-b22b41c6-74de-44ea-bdc3-61f7dcda9010')\"\n",
              "              title=\"Convert this dataframe to an interactive table.\"\n",
              "              style=\"display:none;\">\n",
              "        \n",
              "  <svg xmlns=\"http://www.w3.org/2000/svg\" height=\"24px\"viewBox=\"0 0 24 24\"\n",
              "       width=\"24px\">\n",
              "    <path d=\"M0 0h24v24H0V0z\" fill=\"none\"/>\n",
              "    <path d=\"M18.56 5.44l.94 2.06.94-2.06 2.06-.94-2.06-.94-.94-2.06-.94 2.06-2.06.94zm-11 1L8.5 8.5l.94-2.06 2.06-.94-2.06-.94L8.5 2.5l-.94 2.06-2.06.94zm10 10l.94 2.06.94-2.06 2.06-.94-2.06-.94-.94-2.06-.94 2.06-2.06.94z\"/><path d=\"M17.41 7.96l-1.37-1.37c-.4-.4-.92-.59-1.43-.59-.52 0-1.04.2-1.43.59L10.3 9.45l-7.72 7.72c-.78.78-.78 2.05 0 2.83L4 21.41c.39.39.9.59 1.41.59.51 0 1.02-.2 1.41-.59l7.78-7.78 2.81-2.81c.8-.78.8-2.07 0-2.86zM5.41 20L4 18.59l7.72-7.72 1.47 1.35L5.41 20z\"/>\n",
              "  </svg>\n",
              "      </button>\n",
              "      \n",
              "  <style>\n",
              "    .colab-df-container {\n",
              "      display:flex;\n",
              "      flex-wrap:wrap;\n",
              "      gap: 12px;\n",
              "    }\n",
              "\n",
              "    .colab-df-convert {\n",
              "      background-color: #E8F0FE;\n",
              "      border: none;\n",
              "      border-radius: 50%;\n",
              "      cursor: pointer;\n",
              "      display: none;\n",
              "      fill: #1967D2;\n",
              "      height: 32px;\n",
              "      padding: 0 0 0 0;\n",
              "      width: 32px;\n",
              "    }\n",
              "\n",
              "    .colab-df-convert:hover {\n",
              "      background-color: #E2EBFA;\n",
              "      box-shadow: 0px 1px 2px rgba(60, 64, 67, 0.3), 0px 1px 3px 1px rgba(60, 64, 67, 0.15);\n",
              "      fill: #174EA6;\n",
              "    }\n",
              "\n",
              "    [theme=dark] .colab-df-convert {\n",
              "      background-color: #3B4455;\n",
              "      fill: #D2E3FC;\n",
              "    }\n",
              "\n",
              "    [theme=dark] .colab-df-convert:hover {\n",
              "      background-color: #434B5C;\n",
              "      box-shadow: 0px 1px 3px 1px rgba(0, 0, 0, 0.15);\n",
              "      filter: drop-shadow(0px 1px 2px rgba(0, 0, 0, 0.3));\n",
              "      fill: #FFFFFF;\n",
              "    }\n",
              "  </style>\n",
              "\n",
              "      <script>\n",
              "        const buttonEl =\n",
              "          document.querySelector('#df-b22b41c6-74de-44ea-bdc3-61f7dcda9010 button.colab-df-convert');\n",
              "        buttonEl.style.display =\n",
              "          google.colab.kernel.accessAllowed ? 'block' : 'none';\n",
              "\n",
              "        async function convertToInteractive(key) {\n",
              "          const element = document.querySelector('#df-b22b41c6-74de-44ea-bdc3-61f7dcda9010');\n",
              "          const dataTable =\n",
              "            await google.colab.kernel.invokeFunction('convertToInteractive',\n",
              "                                                     [key], {});\n",
              "          if (!dataTable) return;\n",
              "\n",
              "          const docLinkHtml = 'Like what you see? Visit the ' +\n",
              "            '<a target=\"_blank\" href=https://colab.research.google.com/notebooks/data_table.ipynb>data table notebook</a>'\n",
              "            + ' to learn more about interactive tables.';\n",
              "          element.innerHTML = '';\n",
              "          dataTable['output_type'] = 'display_data';\n",
              "          await google.colab.output.renderOutput(dataTable, element);\n",
              "          const docLink = document.createElement('div');\n",
              "          docLink.innerHTML = docLinkHtml;\n",
              "          element.appendChild(docLink);\n",
              "        }\n",
              "      </script>\n",
              "    </div>\n",
              "  </div>\n",
              "  "
            ]
          },
          "metadata": {},
          "execution_count": 95
        }
      ],
      "source": [
        "X"
      ]
    },
    {
      "cell_type": "code",
      "execution_count": 96,
      "id": "c8edb4b6",
      "metadata": {
        "colab": {
          "base_uri": "https://localhost:8080/"
        },
        "id": "c8edb4b6",
        "outputId": "a012360d-2540-4a10-b212-1a21d707ab0a"
      },
      "outputs": [
        {
          "output_type": "execute_result",
          "data": {
            "text/plain": [
              "0       0.264777\n",
              "1       0.027059\n",
              "2       0.069773\n",
              "3       0.344744\n",
              "4       0.060637\n",
              "          ...   \n",
              "1333    0.166230\n",
              "1334    0.034593\n",
              "1335    0.025558\n",
              "1336    0.031487\n",
              "1337    0.456973\n",
              "Name: charges, Length: 1338, dtype: float64"
            ]
          },
          "metadata": {},
          "execution_count": 96
        }
      ],
      "source": [
        "y"
      ]
    },
    {
      "cell_type": "code",
      "execution_count": 97,
      "id": "22e4b8a1",
      "metadata": {
        "id": "22e4b8a1"
      },
      "outputs": [],
      "source": [
        "from sklearn.model_selection import train_test_split"
      ]
    },
    {
      "cell_type": "code",
      "execution_count": 98,
      "id": "58f9f1ed",
      "metadata": {
        "id": "58f9f1ed"
      },
      "outputs": [],
      "source": [
        "X_train,X_test,y_train,y_test = train_test_split(X,y,test_size = 0.20,random_state=42)"
      ]
    },
    {
      "cell_type": "code",
      "execution_count": 99,
      "id": "ae0737f2",
      "metadata": {
        "colab": {
          "base_uri": "https://localhost:8080/"
        },
        "id": "ae0737f2",
        "outputId": "8aa49cb1-6279-4092-d4e3-5c494f458122"
      },
      "outputs": [
        {
          "output_type": "stream",
          "name": "stdout",
          "text": [
            "Shape of X Train: (1070, 6)\n",
            "Shape of y Train: (1070,)\n",
            "Shape of X Test: (268, 6)\n",
            "Shape of y Test: (268,)\n"
          ]
        }
      ],
      "source": [
        "print(f\"Shape of X Train: {X_train.shape}\\nShape of y Train: {y_train.shape}\\nShape of X Test: {X_test.shape}\\nShape of y Test: {y_test.shape}\")"
      ]
    },
    {
      "cell_type": "code",
      "execution_count": 100,
      "id": "6a3b7711",
      "metadata": {
        "id": "6a3b7711"
      },
      "outputs": [],
      "source": [
        "X_train = np.array(X_train)\n",
        "y_train = np.array(y_train)\n",
        "X_test = np.array(X_test)\n",
        "y_test = np.array(y_test)"
      ]
    },
    {
      "cell_type": "code",
      "execution_count": 101,
      "id": "a2ea2c34",
      "metadata": {
        "colab": {
          "base_uri": "https://localhost:8080/"
        },
        "id": "a2ea2c34",
        "outputId": "f2b63047-539f-499c-efe9-58054e3e1f95"
      },
      "outputs": [
        {
          "output_type": "stream",
          "name": "stdout",
          "text": [
            "(1070, 6)\n",
            "(1070,)\n",
            "(268, 6)\n",
            "(268,)\n"
          ]
        }
      ],
      "source": [
        "print(X_train.shape)\n",
        "print(y_train.shape)\n",
        "print(X_test.shape)\n",
        "print(y_test.shape)"
      ]
    },
    {
      "cell_type": "markdown",
      "id": "d2e621c9",
      "metadata": {
        "id": "d2e621c9"
      },
      "source": [
        "## Model Seçme"
      ]
    },
    {
      "cell_type": "code",
      "execution_count": 102,
      "id": "93c17412",
      "metadata": {
        "id": "93c17412"
      },
      "outputs": [],
      "source": [
        "from sklearn.linear_model import LinearRegression"
      ]
    },
    {
      "cell_type": "code",
      "execution_count": 103,
      "id": "c8aa441e",
      "metadata": {
        "id": "c8aa441e"
      },
      "outputs": [],
      "source": [
        "lin_model = sklearn.linear_model.LinearRegression()"
      ]
    },
    {
      "cell_type": "code",
      "execution_count": 104,
      "id": "862aa04f",
      "metadata": {
        "colab": {
          "base_uri": "https://localhost:8080/"
        },
        "id": "862aa04f",
        "outputId": "f0d188cf-39d0-4852-8783-e3b908b22de4"
      },
      "outputs": [
        {
          "output_type": "execute_result",
          "data": {
            "text/plain": [
              "LinearRegression()"
            ]
          },
          "metadata": {},
          "execution_count": 104
        }
      ],
      "source": [
        "lin_model.fit(X_train, y_train)\n",
        "LinearRegression()"
      ]
    },
    {
      "cell_type": "code",
      "execution_count": 106,
      "id": "b4961f58",
      "metadata": {
        "colab": {
          "base_uri": "https://localhost:8080/"
        },
        "id": "b4961f58",
        "outputId": "84b21777-baa0-4091-c392-1a8718278812"
      },
      "outputs": [
        {
          "output_type": "execute_result",
          "data": {
            "text/plain": [
              "array([ 0.13994586,  0.1115924 ,  0.57877945,  0.14909536,  0.42360308,\n",
              "        0.16921291,  0.00354864,  0.26568296,  0.01656929,  0.17669507,\n",
              "        0.43983707,  0.14778579,  0.08352339,  0.6031018 ,  0.63200777,\n",
              "        0.58251154,  0.23973367,  0.563977  ,  0.14394094,  0.49412922,\n",
              "        0.0595541 ,  0.15792317,  0.03626407,  0.11093564,  0.17801938,\n",
              "        0.20240998,  0.22657597,  0.0973125 ,  0.15551108,  0.03511816,\n",
              "        0.14208082,  0.20574681,  0.07241142,  0.0543812 ,  0.06904059,\n",
              "        0.20335313,  0.03022475,  0.1373351 ,  0.52256748,  0.5118121 ,\n",
              "        0.06041072,  0.06853328,  0.22080392,  0.17999933,  0.13845385,\n",
              "        0.1888987 ,  0.08346824,  0.04862304,  0.55741519,  0.14429277,\n",
              "        0.24924151,  0.03772971,  0.19440861,  0.02248544,  0.21088366,\n",
              "        0.19632206,  0.06735546,  0.50497826,  0.2079831 ,  0.20138033,\n",
              "        0.2212928 ,  0.16546217,  0.25557563,  0.12259845,  0.18484387,\n",
              "        0.0645012 ,  0.41706948,  0.17247595,  0.03440039,  0.09627277,\n",
              "        0.16729597,  0.18149332,  0.1731386 ,  0.14468437,  0.18829173,\n",
              "        0.10681177,  0.11277697,  0.16920155,  0.10411366,  0.13661397,\n",
              "        0.05997695,  0.57367649,  0.09913392,  0.48261862,  0.54689254,\n",
              "        0.55231681,  0.11101725,  0.20239241,  0.15664261,  0.22596066,\n",
              "        0.27650215,  0.55401636,  0.51717136,  0.09622342,  0.50261522,\n",
              "        0.14775505,  0.46267373,  0.05853402,  0.44471711,  0.09063226,\n",
              "        0.08556884,  0.02866054,  0.18111691,  0.23542081,  0.18281115,\n",
              "        0.06842742,  0.15615115,  0.49837625, -0.00202534,  0.51576252,\n",
              "        0.05048085,  0.16033295,  0.22369913,  0.49528225,  0.17891672,\n",
              "        0.06065123,  0.20479162,  0.49797889,  0.12880829,  0.05155501,\n",
              "        0.13145799,  0.16679415,  0.23769318,  0.08942245,  0.06016232,\n",
              "        0.16108619,  0.17181299,  0.17361985,  0.22732563,  0.1172476 ,\n",
              "        0.0854751 ,  0.14565212,  0.14738965,  0.19564428,  0.12981515,\n",
              "        0.23944725,  0.13097101,  0.49769738,  0.56168812,  0.49470654,\n",
              "        0.09508514,  0.19681995,  0.09516757,  0.22893712,  0.04016682,\n",
              "        0.51607797,  0.09903083,  0.07808519,  0.22556948,  0.107952  ,\n",
              "        0.60695985,  0.04918547,  0.09303837,  0.49592961,  0.18184471,\n",
              "        0.13200065,  0.23136169,  0.15492233,  0.4259096 ,  0.52367534,\n",
              "        0.22736378,  0.02722209,  0.20571509,  0.03413652,  0.08449641,\n",
              "        0.18226215,  0.62318643,  0.57307261,  0.53229589,  0.06021798,\n",
              "        0.11623781,  0.13490148,  0.19417395,  0.07629941,  0.03127558,\n",
              "        0.50460372,  0.39287463,  0.27498748,  0.41509944,  0.16022679,\n",
              "        0.58350455, -0.00748259,  0.10728009,  0.12106523,  0.06781558,\n",
              "        0.08072854,  0.09200014,  0.06668257,  0.23890663,  0.17538053,\n",
              "        0.10766449,  0.03878715,  0.02339715,  0.4998612 ,  0.25823752,\n",
              "        0.18928591,  0.02071923,  0.19573311,  0.02378055,  0.13624434,\n",
              "        0.03026473,  0.53261432,  0.17095952,  0.0415969 ,  0.40359201,\n",
              "        0.41413795,  0.14872285,  0.02913657,  0.20875446,  0.01686195,\n",
              "        0.16220624,  0.16685106,  0.26452983,  0.42197555,  0.10990879,\n",
              "        0.08065585,  0.09269682,  0.20851699,  0.175174  ,  0.13203566,\n",
              "        0.08114115,  0.19356743,  0.21800547,  0.56175407,  0.06586908,\n",
              "        0.45436397, -0.01504289,  0.04577267,  0.17422672,  0.24669438,\n",
              "        0.08254238,  0.10902913,  0.05966057,  0.4901443 ,  0.11456076,\n",
              "        0.19540936,  0.088822  ,  0.14845848,  0.57018102,  0.07035569,\n",
              "        0.15106254,  0.48758689,  0.09076214,  0.07316811,  0.01726013,\n",
              "        0.07649051,  0.07089948,  0.10112458,  0.29325493, -0.02325769,\n",
              "        0.03637733,  0.16671302,  0.04861624,  0.15947867,  0.05923616,\n",
              "        0.08130039,  0.19363536,  0.09816307,  0.12843695,  0.11819065,\n",
              "        0.14071107,  0.16534581,  0.43701135,  0.61340295,  0.185267  ,\n",
              "        0.11977507,  0.64228958,  0.19222434])"
            ]
          },
          "metadata": {},
          "execution_count": 106
        }
      ],
      "source": [
        "predictions = lin_model.predict(X_test)\n",
        "predictions"
      ]
    },
    {
      "cell_type": "code",
      "execution_count": 108,
      "id": "b5deb3f6",
      "metadata": {
        "colab": {
          "base_uri": "https://localhost:8080/"
        },
        "id": "b5deb3f6",
        "outputId": "9ae95a71-2ebc-4778-ed9a-6b51212d0d94"
      },
      "outputs": [
        {
          "output_type": "stream",
          "name": "stdout",
          "text": [
            "0 : Actual Value: 0.14262203553932207 - Predicted Value:0.13994585771048998\n",
            "1 : Actual Value: 0.08267430476040175 - Predicted Value:0.1115923985402835\n",
            "2 : Actual Value: 0.4599464683756009 - Predicted Value:0.5787794542581634\n",
            "3 : Actual Value: 0.14586531469635655 - Predicted Value:0.14909535638820928\n",
            "4 : Actual Value: 0.5292467504641419 - Predicted Value:0.42360308454665274\n",
            "5 : Actual Value: 0.07113420972003917 - Predicted Value:0.16921290789888474\n",
            "6 : Actual Value: 0.03320251903700528 - Predicted Value:0.0035486424157789853\n",
            "7 : Actual Value: 0.22283896146614554 - Predicted Value:0.2656829588277938\n",
            "8 : Actual Value: 0.05853222593103308 - Predicted Value:0.016569291238054118\n",
            "9 : Actual Value: 0.16095927878028993 - Predicted Value:0.17669506579639502\n",
            "10 : Actual Value: 0.28632732396176996 - Predicted Value:0.4398370656560032\n",
            "11 : Actual Value: 0.11379448635442833 - Predicted Value:0.14778579248981003\n",
            "12 : Actual Value: 0.06190037017441684 - Predicted Value:0.08352338987038707\n",
            "13 : Actual Value: 0.7237073035288852 - Predicted Value:0.60310180407107\n",
            "14 : Actual Value: 0.7632622254372728 - Predicted Value:0.6320077695563887\n",
            "15 : Actual Value: 0.6931528449686502 - Predicted Value:0.5825115380563369\n",
            "16 : Actual Value: 0.1536901743620585 - Predicted Value:0.23973367035329798\n",
            "17 : Actual Value: 0.6738209863239712 - Predicted Value:0.5639770028440962\n",
            "18 : Actual Value: 0.1291052570434206 - Predicted Value:0.14394093929030913\n",
            "19 : Actual Value: 0.34144858094076946 - Predicted Value:0.49412922208963794\n",
            "20 : Actual Value: 0.0796622534696392 - Predicted Value:0.05955410371484904\n",
            "21 : Actual Value: 0.1166920347285905 - Predicted Value:0.1579231682663346\n",
            "22 : Actual Value: 0.019700338216375096 - Predicted Value:0.036264073892013304\n",
            "23 : Actual Value: 0.043202171225320586 - Predicted Value:0.11093564372557022\n",
            "24 : Actual Value: 0.17383585379514216 - Predicted Value:0.17801938293071448\n",
            "25 : Actual Value: 0.17130092334156813 - Predicted Value:0.20240997587795553\n",
            "26 : Actual Value: 0.19828295645149457 - Predicted Value:0.22657597319258413\n",
            "27 : Actual Value: 0.29488201642697426 - Predicted Value:0.09731250319098053\n",
            "28 : Actual Value: 0.15235652798937518 - Predicted Value:0.15551108414742307\n",
            "29 : Actual Value: 0.01774343744129435 - Predicted Value:0.03511816367040818\n",
            "30 : Actual Value: 0.24821570473884608 - Predicted Value:0.14208081979642292\n",
            "31 : Actual Value: 0.1857071391796669 - Predicted Value:0.20574681015621307\n",
            "32 : Actual Value: 0.03168478498659523 - Predicted Value:0.07241141658165592\n",
            "33 : Actual Value: 0.08928010486470624 - Predicted Value:0.05438119670000857\n",
            "34 : Actual Value: 0.04553972884648983 - Predicted Value:0.0690405938290968\n",
            "35 : Actual Value: 0.11680028161065496 - Predicted Value:0.20335312924406931\n",
            "36 : Actual Value: 0.040736420956632685 - Predicted Value:0.03022474600830588\n",
            "37 : Actual Value: 0.11506505803676507 - Predicted Value:0.13733509843664912\n",
            "38 : Actual Value: 0.3745884016374191 - Predicted Value:0.5225674790945752\n",
            "39 : Actual Value: 0.6070082514410898 - Predicted Value:0.5118121045876857\n",
            "40 : Actual Value: 0.07351051492495697 - Predicted Value:0.0604107214953869\n",
            "41 : Actual Value: 0.041449753161222354 - Predicted Value:0.06853328172967196\n",
            "42 : Actual Value: 0.18306494662650452 - Predicted Value:0.2208039160429763\n",
            "43 : Actual Value: 0.1901350324651835 - Predicted Value:0.1799993254548141\n",
            "44 : Actual Value: 0.07668130280124805 - Predicted Value:0.1384538513345572\n",
            "45 : Actual Value: 0.19340983563832911 - Predicted Value:0.1888987037916213\n",
            "46 : Actual Value: 0.056136187441593426 - Predicted Value:0.08346823635041264\n",
            "47 : Actual Value: 0.06886659125623767 - Predicted Value:0.04862303612502614\n",
            "48 : Actual Value: 0.6605650395414367 - Predicted Value:0.557415193609237\n",
            "49 : Actual Value: 0.06998863327842356 - Predicted Value:0.14429277417945138\n",
            "50 : Actual Value: 0.21776871244806936 - Predicted Value:0.24924150784933716\n",
            "51 : Actual Value: 0.026962909826014823 - Predicted Value:0.037729714401433134\n",
            "52 : Actual Value: 0.4465507897412025 - Predicted Value:0.1944086140287243\n",
            "53 : Actual Value: 0.026798091267821178 - Predicted Value:0.022485440644059634\n",
            "54 : Actual Value: 0.1661306977324771 - Predicted Value:0.21088365505296455\n",
            "55 : Actual Value: 0.39725831597096095 - Predicted Value:0.19632205924712195\n",
            "56 : Actual Value: 0.05715955676867033 - Predicted Value:0.0673554620868049\n",
            "57 : Actual Value: 0.6075912661888373 - Predicted Value:0.5049782607260274\n",
            "58 : Actual Value: 0.18579365655413294 - Predicted Value:0.2079830995632647\n",
            "59 : Actual Value: 0.1656705910511263 - Predicted Value:0.20138033226685523\n",
            "60 : Actual Value: 0.2176706262316962 - Predicted Value:0.22129280135476467\n",
            "61 : Actual Value: 0.07454296526368884 - Predicted Value:0.16546217334431337\n",
            "62 : Actual Value: 0.438154305246602 - Predicted Value:0.2555756321804258\n",
            "63 : Actual Value: 0.1257175371120737 - Predicted Value:0.12259845116558091\n",
            "64 : Actual Value: 0.3613832755895282 - Predicted Value:0.18484386955735846\n",
            "65 : Actual Value: 0.06482066655334025 - Predicted Value:0.0645011975302571\n",
            "66 : Actual Value: 0.281354642894767 - Predicted Value:0.4170694753502512\n",
            "67 : Actual Value: 0.40759991505661525 - Predicted Value:0.17247594577713163\n",
            "68 : Actual Value: 0.056361090275831124 - Predicted Value:0.03440038826749134\n",
            "69 : Actual Value: 0.02638522356688821 - Predicted Value:0.09627277194217856\n",
            "70 : Actual Value: 0.09533684639919042 - Predicted Value:0.1672959712634635\n",
            "71 : Actual Value: 0.1475763185802083 - Predicted Value:0.18149331896578727\n",
            "72 : Actual Value: 0.12989846482919976 - Predicted Value:0.1731386003675425\n",
            "73 : Actual Value: 0.0993889455941257 - Predicted Value:0.14468436773494012\n",
            "74 : Actual Value: 0.11216282567334143 - Predicted Value:0.1882917274083106\n",
            "75 : Actual Value: 0.07666620646223886 - Predicted Value:0.10681177490918939\n",
            "76 : Actual Value: 0.07600576476043006 - Predicted Value:0.11277696529211742\n",
            "77 : Actual Value: 0.1796133702945175 - Predicted Value:0.16920154861007589\n",
            "78 : Actual Value: 0.06820499933476924 - Predicted Value:0.10411365588512009\n",
            "79 : Actual Value: 0.14272756642895237 - Predicted Value:0.13661396758624364\n",
            "80 : Actual Value: 0.021820908898114826 - Predicted Value:0.059976950619622965\n",
            "81 : Actual Value: 0.4406640182122246 - Predicted Value:0.573676490213207\n",
            "82 : Actual Value: 0.08079189932976584 - Predicted Value:0.09913391852841566\n",
            "83 : Actual Value: 0.60391045664553 - Predicted Value:0.4826186171196133\n",
            "84 : Actual Value: 0.6978375336138818 - Predicted Value:0.5468925437860753\n",
            "85 : Actual Value: 0.6444548520758783 - Predicted Value:0.5523168074035143\n",
            "86 : Actual Value: 0.0758593356036658 - Predicted Value:0.111017247536597\n",
            "87 : Actual Value: 0.1662468416918502 - Predicted Value:0.20239240946896117\n",
            "88 : Actual Value: 0.13032434326294243 - Predicted Value:0.156642612857138\n",
            "89 : Actual Value: 0.17664207927589223 - Predicted Value:0.22596066137668583\n",
            "90 : Actual Value: 0.23883051322176627 - Predicted Value:0.2765021521772071\n",
            "91 : Actual Value: 0.4239882802066205 - Predicted Value:0.554016359157319\n",
            "92 : Actual Value: 0.36696171690004 - Predicted Value:0.5171713575941169\n",
            "93 : Actual Value: 0.07889659371913003 - Predicted Value:0.09622341531873693\n",
            "94 : Actual Value: 0.6003213510500005 - Predicted Value:0.5026152246358312\n",
            "95 : Actual Value: 0.10782366081848727 - Predicted Value:0.14775505204191644\n",
            "96 : Actual Value: 0.3092294550211848 - Predicted Value:0.4626737327608431\n",
            "97 : Actual Value: 0.02948184697310141 - Predicted Value:0.05853401792808119\n",
            "98 : Actual Value: 0.2942723772695594 - Predicted Value:0.4447171140991407\n",
            "99 : Actual Value: 0.10039592879941218 - Predicted Value:0.09063226386803733\n",
            "100 : Actual Value: 0.07099188591442543 - Predicted Value:0.08556884364726627\n",
            "101 : Actual Value: 0.02733577387510465 - Predicted Value:0.028660537348137505\n",
            "102 : Actual Value: 0.08952683207810258 - Predicted Value:0.18111691329812682\n",
            "103 : Actual Value: 0.19387586669578635 - Predicted Value:0.23542081499744352\n",
            "104 : Actual Value: 0.20588858911125882 - Predicted Value:0.1828111491738905\n",
            "105 : Actual Value: 0.027089985968560538 - Predicted Value:0.06842742419554207\n",
            "106 : Actual Value: 0.12123843827404789 - Predicted Value:0.1561511538441179\n",
            "107 : Actual Value: 0.33237691295840494 - Predicted Value:0.49837624847138673\n",
            "108 : Actual Value: 0.026696626526217352 - Predicted Value:-0.002025337930824961\n",
            "109 : Actual Value: 0.36450735749107604 - Predicted Value:0.5157625245153048\n",
            "110 : Actual Value: 0.36196958449738337 - Predicted Value:0.05048085201278418\n",
            "111 : Actual Value: 0.04590003221463402 - Predicted Value:0.16033294506177057\n",
            "112 : Actual Value: 0.2041567142682253 - Predicted Value:0.22369913494372698\n",
            "113 : Actual Value: 0.5912125412438485 - Predicted Value:0.49528225114423996\n",
            "114 : Actual Value: 0.15333670331437374 - Predicted Value:0.1789167245087868\n",
            "115 : Actual Value: 0.0310499719351029 - Predicted Value:0.06065123334370798\n",
            "116 : Actual Value: 0.4745145438769025 - Predicted Value:0.2047916242249266\n",
            "117 : Actual Value: 0.3524925377084669 - Predicted Value:0.49797888739238805\n",
            "118 : Actual Value: 0.09900763091961565 - Predicted Value:0.12880828538274888\n",
            "119 : Actual Value: 0.043735905293949745 - Predicted Value:0.05155500638779589\n",
            "120 : Actual Value: 0.08773416887091708 - Predicted Value:0.13145799220365642\n",
            "121 : Actual Value: 0.11387317329689661 - Predicted Value:0.16679415138461853\n",
            "122 : Actual Value: 0.17871763693059772 - Predicted Value:0.2376931777239907\n",
            "123 : Actual Value: 0.031157598623744908 - Predicted Value:0.08942245201250884\n",
            "124 : Actual Value: 0.07401136698125792 - Predicted Value:0.06016232340223848\n",
            "125 : Actual Value: 0.12151645585293602 - Predicted Value:0.16108618525684545\n",
            "126 : Actual Value: 0.11519017245498334 - Predicted Value:0.17181299192002011\n",
            "127 : Actual Value: 0.14564786516006323 - Predicted Value:0.17361985127640753\n",
            "128 : Actual Value: 0.19200954709101067 - Predicted Value:0.22732563338708175\n",
            "129 : Actual Value: 0.02881087609623525 - Predicted Value:0.11724760251319524\n",
            "130 : Actual Value: 0.06230042394222281 - Predicted Value:0.08547510251852095\n",
            "131 : Actual Value: 0.09305849098377408 - Predicted Value:0.14565211650925328\n",
            "132 : Actual Value: 0.0915239333047092 - Predicted Value:0.14738965380255617\n",
            "133 : Actual Value: 0.12443528133064509 - Predicted Value:0.1956442832326322\n",
            "134 : Actual Value: 0.08859459119694248 - Predicted Value:0.12981515225451326\n",
            "135 : Actual Value: 0.1936190862332586 - Predicted Value:0.23944724822102878\n",
            "136 : Actual Value: 0.19452400567320577 - Predicted Value:0.1309710094009434\n",
            "137 : Actual Value: 0.34724609338559775 - Predicted Value:0.49769738211591397\n",
            "138 : Actual Value: 0.6740343422700512 - Predicted Value:0.5616881218325679\n",
            "139 : Actual Value: 0.5844425443428978 - Predicted Value:0.49470653657090347\n",
            "140 : Actual Value: 0.08260597136299509 - Predicted Value:0.09508513950005512\n",
            "141 : Actual Value: 0.15471598918001367 - Predicted Value:0.19681994519007437\n",
            "142 : Actual Value: 0.036421612218688316 - Predicted Value:0.0951675705993539\n",
            "143 : Actual Value: 0.5248823464812119 - Predicted Value:0.22893712169245886\n",
            "144 : Actual Value: 0.03352107970272348 - Predicted Value:0.04016682486310488\n",
            "145 : Actual Value: 0.3654757812876094 - Predicted Value:0.516077973772878\n",
            "146 : Actual Value: 0.08250641581353249 - Predicted Value:0.09903082595681009\n",
            "147 : Actual Value: 0.05898175874576508 - Predicted Value:0.07808519326290755\n",
            "148 : Actual Value: 0.17934234576889738 - Predicted Value:0.22556948383700395\n",
            "149 : Actual Value: 0.07450271463216418 - Predicted Value:0.10795200144749648\n",
            "150 : Actual Value: 0.7317097259043471 - Predicted Value:0.6069598490981846\n",
            "151 : Actual Value: 0.04218434600404684 - Predicted Value:0.04918547444620944\n",
            "152 : Actual Value: 0.017983203747984376 - Predicted Value:0.0930383708291043\n",
            "153 : Actual Value: 0.5897330294553248 - Predicted Value:0.49592961022431614\n",
            "154 : Actual Value: 0.09994534377283067 - Predicted Value:0.18184470741728728\n",
            "155 : Actual Value: 0.07086084241572585 - Predicted Value:0.1320006530120438\n",
            "156 : Actual Value: 0.2125594154374251 - Predicted Value:0.23136169002201193\n",
            "157 : Actual Value: 0.13403848095012966 - Predicted Value:0.15492232758594912\n",
            "158 : Actual Value: 0.5400599772452429 - Predicted Value:0.4259095950964794\n",
            "159 : Actual Value: 0.6135341014782691 - Predicted Value:0.5236753379788436\n",
            "160 : Actual Value: 0.2133805460403401 - Predicted Value:0.2273637803503646\n",
            "161 : Actual Value: 0.04250917916961304 - Predicted Value:0.027222086659057065\n",
            "162 : Actual Value: 0.23503734360461917 - Predicted Value:0.20571508678841702\n",
            "163 : Actual Value: 0.037573777921394255 - Predicted Value:0.03413651832146966\n",
            "164 : Actual Value: 0.056318894385291106 - Predicted Value:0.08449641210434569\n",
            "165 : Actual Value: 0.11230930108979208 - Predicted Value:0.18226214919455572\n",
            "166 : Actual Value: 0.7656283880099364 - Predicted Value:0.6231864328187458\n",
            "167 : Actual Value: 0.6833722269069024 - Predicted Value:0.5730726088932087\n",
            "168 : Actual Value: 0.6202952643472465 - Predicted Value:0.5322958921614892\n",
            "169 : Actual Value: 0.04128860479950227 - Predicted Value:0.06021798069700479\n",
            "170 : Actual Value: 0.1439878998234122 - Predicted Value:0.11623780800488362\n",
            "171 : Actual Value: 0.0978243081420397 - Predicted Value:0.13490147547322792\n",
            "172 : Actual Value: 0.09028343747508116 - Predicted Value:0.19417394775197097\n",
            "173 : Actual Value: 0.06648681500671645 - Predicted Value:0.07629941431682732\n",
            "174 : Actual Value: 0.03378307261262491 - Predicted Value:0.03127557557741298\n",
            "175 : Actual Value: 0.3446531187865552 - Predicted Value:0.5046037180190072\n",
            "176 : Actual Value: 0.25557059139456134 - Predicted Value:0.3928746343046502\n",
            "177 : Actual Value: 0.2168891699743823 - Predicted Value:0.274987476483019\n",
            "178 : Actual Value: 0.5133129464783719 - Predicted Value:0.4150994375434073\n",
            "179 : Actual Value: 0.18551870465954554 - Predicted Value:0.16022679280285604\n",
            "180 : Actual Value: 0.46296012934663694 - Predicted Value:0.5835045468530987\n",
            "181 : Actual Value: 0.04966966584422647 - Predicted Value:-0.007482587440567373\n",
            "182 : Actual Value: 0.13216265850808423 - Predicted Value:0.10728009125099766\n",
            "183 : Actual Value: 0.0786018089640857 - Predicted Value:0.12106522634392167\n",
            "184 : Actual Value: 0.08169270636200016 - Predicted Value:0.0678155752482131\n",
            "185 : Actual Value: 0.04477682899591377 - Predicted Value:0.08072853628318657\n",
            "186 : Actual Value: 0.31798136131092275 - Predicted Value:0.09200014260264663\n",
            "187 : Actual Value: 0.05573434444320581 - Predicted Value:0.0666825670970225\n",
            "188 : Actual Value: 0.1343861420948302 - Predicted Value:0.23890662796605847\n",
            "189 : Actual Value: 0.16613502340518477 - Predicted Value:0.17538053103949655\n",
            "190 : Actual Value: 0.05641480090796712 - Predicted Value:0.10766449496782413\n",
            "191 : Actual Value: 0.11484531384753363 - Predicted Value:0.038787153236591126\n",
            "192 : Actual Value: 0.04283979714816407 - Predicted Value:0.023397148815268165\n",
            "193 : Actual Value: 0.6070368540403968 - Predicted Value:0.499861197059419\n",
            "194 : Actual Value: 0.20356372232540704 - Predicted Value:0.2582375185360216\n",
            "195 : Actual Value: 0.14557785308488475 - Predicted Value:0.1892859051784406\n",
            "196 : Actual Value: 0.04248225995245284 - Predicted Value:0.020719227037148902\n",
            "197 : Actual Value: 0.18969060703345278 - Predicted Value:0.1957331075055824\n",
            "198 : Actual Value: 0.03447036375003311 - Predicted Value:0.023780554109110758\n",
            "199 : Actual Value: 0.14006623883094116 - Predicted Value:0.13624434173501856\n",
            "200 : Actual Value: 0.04980816028868299 - Predicted Value:0.030264726559206062\n",
            "201 : Actual Value: 0.3825224819907869 - Predicted Value:0.5326143193503668\n",
            "202 : Actual Value: 0.06689881083017055 - Predicted Value:0.17095952053696387\n",
            "203 : Actual Value: 0.3527286916824945 - Predicted Value:0.04159689790262777\n",
            "204 : Actual Value: 0.26791834606035286 - Predicted Value:0.40359200568475273\n",
            "205 : Actual Value: 0.2599602984850658 - Predicted Value:0.4141379451486419\n",
            "206 : Actual Value: 0.13842168189016674 - Predicted Value:0.1487228542346062\n",
            "207 : Actual Value: 0.06737090112248095 - Predicted Value:0.029136568800061186\n",
            "208 : Actual Value: 0.12237898887516029 - Predicted Value:0.208754455282715\n",
            "209 : Actual Value: 0.05031778992445874 - Predicted Value:0.016861948837537333\n",
            "210 : Actual Value: 0.2031838017139882 - Predicted Value:0.162206241263091\n",
            "211 : Actual Value: 0.348005145998392 - Predicted Value:0.16685106044415252\n",
            "212 : Actual Value: 0.14792005627625393 - Predicted Value:0.26452983413784525\n",
            "213 : Actual Value: 0.2672608908525342 - Predicted Value:0.4219755516921525\n",
            "214 : Actual Value: 0.10339444952394009 - Predicted Value:0.10990879237521015\n",
            "215 : Actual Value: 0.06488152626717802 - Predicted Value:0.08065585485384028\n",
            "216 : Actual Value: 0.07495013675069732 - Predicted Value:0.09269681875772931\n",
            "217 : Actual Value: 0.21955767174409466 - Predicted Value:0.20851699028715634\n",
            "218 : Actual Value: 0.19805256282770242 - Predicted Value:0.175173995879743\n",
            "219 : Actual Value: 0.08225171233251692 - Predicted Value:0.13203565749661808\n",
            "220 : Actual Value: 0.037709230987486984 - Predicted Value:0.08114114524629754\n",
            "221 : Actual Value: 0.10896431177959721 - Predicted Value:0.1935674296014371\n",
            "222 : Actual Value: 0.10091862170018388 - Predicted Value:0.2180054733285988\n",
            "223 : Actual Value: 0.6674007330376704 - Predicted Value:0.5617540677372556\n",
            "224 : Actual Value: 0.032230062807132163 - Predicted Value:0.0658690762648664\n",
            "225 : Actual Value: 0.5437025951051007 - Predicted Value:0.4543639655719979\n",
            "226 : Actual Value: 0.027154859298238538 - Predicted Value:-0.015042891689787674\n",
            "227 : Actual Value: 0.02571039823886545 - Predicted Value:0.04577266642042083\n",
            "228 : Actual Value: 0.14705726451341092 - Predicted Value:0.17422672023863758\n",
            "229 : Actual Value: 0.17213631212070016 - Predicted Value:0.24669437803010877\n",
            "230 : Actual Value: 0.02405981185761215 - Predicted Value:0.08254238034700215\n",
            "231 : Actual Value: 0.15123393085095274 - Predicted Value:0.10902913375381271\n",
            "232 : Actual Value: 0.07102785948511622 - Predicted Value:0.0596605666526972\n",
            "233 : Actual Value: 0.5932173482365184 - Predicted Value:0.49014430412077126\n",
            "234 : Actual Value: 0.15667195535261705 - Predicted Value:0.11456075710315719\n",
            "235 : Actual Value: 0.12742245510294795 - Predicted Value:0.19540935657170264\n",
            "236 : Actual Value: 0.06080097579699465 - Predicted Value:0.08882200085361139\n",
            "237 : Actual Value: 0.0937696544715413 - Predicted Value:0.1484584844325658\n",
            "238 : Actual Value: 0.6883500341744061 - Predicted Value:0.5701810213272044\n",
            "239 : Actual Value: 0.026260327118039675 - Predicted Value:0.0703556857791637\n",
            "240 : Actual Value: 0.20705969933163068 - Predicted Value:0.15106254088921647\n",
            "241 : Actual Value: 0.6991556629196285 - Predicted Value:0.48758689148377565\n",
            "242 : Actual Value: 0.047385743585195046 - Predicted Value:0.09076213937077518\n",
            "243 : Actual Value: 0.053206116155719366 - Predicted Value:0.07316810577535862\n",
            "244 : Actual Value: 0.025592367825163043 - Predicted Value:0.017260128078208203\n",
            "245 : Actual Value: 0.04233260516264175 - Predicted Value:0.07649051033117607\n",
            "246 : Actual Value: 0.31641109774009807 - Predicted Value:0.07089947601248434\n",
            "247 : Actual Value: 0.06392456703224188 - Predicted Value:0.10112458451577042\n",
            "248 : Actual Value: 0.1974666768431495 - Predicted Value:0.2932549330082058\n",
            "249 : Actual Value: 0.025424640395164882 - Predicted Value:-0.023257689565988726\n",
            "250 : Actual Value: 0.02940773738739722 - Predicted Value:0.03637733214937827\n",
            "251 : Actual Value: 0.11285586790904777 - Predicted Value:0.1667130213094498\n",
            "252 : Actual Value: 0.04957554933619458 - Predicted Value:0.048616240805509386\n",
            "253 : Actual Value: 0.18863424749342528 - Predicted Value:0.1594786693869836\n",
            "254 : Actual Value: 0.04264170454640171 - Predicted Value:0.05923616479768179\n",
            "255 : Actual Value: 0.2856835363743076 - Predicted Value:0.08130038584208829\n",
            "256 : Actual Value: 0.190479684378082 - Predicted Value:0.1936353647253727\n",
            "257 : Actual Value: 0.05163098245920021 - Predicted Value:0.09816307469079008\n",
            "258 : Actual Value: 0.13625216453992559 - Predicted Value:0.128436948283741\n",
            "259 : Actual Value: 0.09586310207987578 - Predicted Value:0.11819065320157005\n",
            "260 : Actual Value: 0.12638583982431703 - Predicted Value:0.14071106839024614\n",
            "261 : Actual Value: 0.2103645611081104 - Predicted Value:0.16534580718908956\n",
            "262 : Actual Value: 0.28612785062597856 - Predicted Value:0.43701135448890127\n",
            "263 : Actual Value: 0.7378895448627238 - Predicted Value:0.6134029500720691\n",
            "264 : Actual Value: 0.19167031932235576 - Predicted Value:0.18526699501792496\n",
            "265 : Actual Value: 0.09514012904301973 - Predicted Value:0.11977507402644241\n",
            "266 : Actual Value: 1.0 - Predicted Value:0.6422895846836598\n",
            "267 : Actual Value: 0.1548162888047707 - Predicted Value:0.19222434145509285\n"
          ]
        }
      ],
      "source": [
        "for i in range(len(X_test)):\n",
        "    print(f\"{i} : Actual Value: {y_test[i]} - Predicted Value:{predictions[i]}\")"
      ]
    },
    {
      "cell_type": "code",
      "execution_count": 109,
      "id": "07dffb9d",
      "metadata": {
        "id": "07dffb9d"
      },
      "outputs": [],
      "source": [
        "r2 = sklearn.metrics.r2_score(y_test, predictions)\n",
        "mae = sklearn.metrics.mean_absolute_error(y_test, predictions)\n",
        "mse = sklearn.metrics.mean_squared_error(y_test, predictions)"
      ]
    },
    {
      "cell_type": "code",
      "execution_count": 110,
      "id": "17346b22",
      "metadata": {
        "colab": {
          "base_uri": "https://localhost:8080/"
        },
        "id": "17346b22",
        "outputId": "b8e3690b-4b7d-4702-b23e-ba0210f644e4"
      },
      "outputs": [
        {
          "output_type": "stream",
          "name": "stdout",
          "text": [
            "R2: 0.7833463107364539\n",
            "MAE: 0.0656496910716976\n",
            "MSE: 0.008270951713078168\n"
          ]
        }
      ],
      "source": [
        "print(f\"R2: {r2}\")\n",
        "print(f\"MAE: {mae}\")\n",
        "print(f\"MSE: {mse}\")"
      ]
    }
  ],
  "metadata": {
    "kernelspec": {
      "display_name": "Python 3 (ipykernel)",
      "language": "python",
      "name": "python3"
    },
    "language_info": {
      "codemirror_mode": {
        "name": "ipython",
        "version": 3
      },
      "file_extension": ".py",
      "mimetype": "text/x-python",
      "name": "python",
      "nbconvert_exporter": "python",
      "pygments_lexer": "ipython3",
      "version": "3.9.12"
    },
    "colab": {
      "name": "project1.ipynb",
      "provenance": [],
      "include_colab_link": true
    }
  },
  "nbformat": 4,
  "nbformat_minor": 5
}