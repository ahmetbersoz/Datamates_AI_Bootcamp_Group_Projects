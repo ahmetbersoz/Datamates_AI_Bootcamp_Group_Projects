{
  "nbformat": 4,
  "nbformat_minor": 0,
  "metadata": {
    "colab": {
      "name": "globalaihub_ai_bootcamp_project.ipynb",
      "provenance": [],
      "include_colab_link": true
    },
    "kernelspec": {
      "name": "python3",
      "display_name": "Python 3"
    },
    "language_info": {
      "name": "python"
    }
  },
  "cells": [
    {
      "cell_type": "markdown",
      "metadata": {
        "id": "view-in-github",
        "colab_type": "text"
      },
      "source": [
        "<a href=\"https://colab.research.google.com/github/bkksl/AI_Bootcamp_Group_Projects-/blob/ahmetbersoz/globalaihub_ai_bootcamp_project.ipynb\" target=\"_parent\"><img src=\"https://colab.research.google.com/assets/colab-badge.svg\" alt=\"Open In Colab\"/></a>"
      ]
    },
    {
      "cell_type": "code",
      "source": [
        "import pandas as pd\n",
        "import numpy as np\n",
        "import seaborn as sns\n",
        "import matplotlib as plt\n",
        "import sklearn as sk\n",
        "\n",
        "url = 'https://raw.githubusercontent.com/bkksl/AI_Bootcamp_Group_Projects-/ahmetbersoz/insurance.csv'\n",
        "\n",
        "data = pd.read_csv(url)\n"
      ],
      "metadata": {
        "id": "cVAUmFUYlpjT"
      },
      "execution_count": 2,
      "outputs": []
    }
  ]
}