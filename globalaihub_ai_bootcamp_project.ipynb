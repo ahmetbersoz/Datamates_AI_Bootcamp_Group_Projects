{
  "nbformat": 4,
  "nbformat_minor": 0,
  "metadata": {
    "colab": {
      "name": "globalaihub_ai_bootcamp_project.ipynb",
      "provenance": [],
      "collapsed_sections": [],
      "include_colab_link": true
    },
    "kernelspec": {
      "name": "python3",
      "display_name": "Python 3"
    },
    "language_info": {
      "name": "python"
    }
  },
  "cells": [
    {
      "cell_type": "markdown",
      "metadata": {
        "id": "view-in-github",
        "colab_type": "text"
      },
      "source": [
        "<a href=\"https://colab.research.google.com/github/bkksl/AI_Bootcamp_Group_Projects-/blob/ahmetbersoz/globalaihub_ai_bootcamp_project.ipynb\" target=\"_parent\"><img src=\"https://colab.research.google.com/assets/colab-badge.svg\" alt=\"Open In Colab\"/></a>"
      ]
    },
    {
      "cell_type": "code",
      "source": [
        "# BOLUM 2: Gerekli Kütüphanelerin Eklenmesi\n",
        "\n",
        "import pandas as pd\n",
        "import numpy as np\n",
        "import seaborn as sns\n",
        "import matplotlib.pyplot as plt\n",
        "\n",
        "from sklearn.linear_model import LinearRegression\n",
        "from sklearn.metrics import mean_squared_error\n",
        "from sklearn.metrics import mean_absolute_error\n",
        "from sklearn.model_selection import train_test_split\n",
        "\n",
        "url = 'https://raw.githubusercontent.com/bkksl/AI_Bootcamp_Group_Projects-/ahmetbersoz/insurance.csv'\n",
        "df = pd.read_csv(url)"
      ],
      "metadata": {
        "id": "cVAUmFUYlpjT"
      },
      "execution_count": 93,
      "outputs": []
    },
    {
      "cell_type": "code",
      "source": [
        "# BOLUM 3: Keşifsel Veri Analizi Yapılması\n",
        "\n",
        "df.info()\n",
        "\n",
        "corr = df.corr()\n",
        "fig, ax = plt.subplots(figsize = (10,8))\n",
        "ax = sns.heatmap(corr, annot=True)\n",
        "\n",
        "## Bmi(Vücut Kitle İndeksi)’nin dağılımını inceleyiniz\n",
        "df[\"bmi\"].hist(bins=10)\n",
        "\n",
        "## “smoker” ile “charges” arasındaki ilişkiyi inceleyiniz\n",
        "smokers = df[df[\"smoker\"] == \"yes\"]\n",
        "nonSmokers = df[df[\"smoker\"] == \"no\"]\n",
        "\n",
        "print(str(smokers.shape[0]) + \" kisi sigara iciyor,\" + str(nonSmokers.shape[0]) + ' kisi sigara icmiyor.')\n",
        "print('sigara icenlerin ortalama odedigi ucret: ' + str(smokers[\"charges\"].mean()))\n",
        "print('sigara icmeyenlerin ortalama odedigi ucret: ' + str(nonSmokers[\"charges\"].mean()))\n",
        "\n",
        "#TODO: diger kesifsel analizler"
      ],
      "metadata": {
        "colab": {
          "base_uri": "https://localhost:8080/",
          "height": 782
        },
        "id": "GpaKhRwcCztY",
        "outputId": "28fcdcec-7f02-43bc-ba2c-3724e2de45e4"
      },
      "execution_count": 94,
      "outputs": [
        {
          "output_type": "stream",
          "name": "stdout",
          "text": [
            "<class 'pandas.core.frame.DataFrame'>\n",
            "RangeIndex: 1338 entries, 0 to 1337\n",
            "Data columns (total 7 columns):\n",
            " #   Column    Non-Null Count  Dtype  \n",
            "---  ------    --------------  -----  \n",
            " 0   age       1338 non-null   int64  \n",
            " 1   sex       1338 non-null   object \n",
            " 2   bmi       1338 non-null   float64\n",
            " 3   children  1338 non-null   int64  \n",
            " 4   smoker    1338 non-null   object \n",
            " 5   region    1338 non-null   object \n",
            " 6   charges   1338 non-null   float64\n",
            "dtypes: float64(2), int64(2), object(3)\n",
            "memory usage: 73.3+ KB\n",
            "274 kisi sigara iciyor,1064 kisi sigara icmiyor.\n",
            "sigara icenlerin ortalama odedigi ucret: 32050.23183153284\n",
            "sigara icmeyenlerin ortalama odedigi ucret: 8434.268297856204\n"
          ]
        },
        {
          "output_type": "display_data",
          "data": {
            "text/plain": [
              "<Figure size 720x576 with 2 Axes>"
            ],
            "image/png": "[encoded data removed]"
          },
          "metadata": {
            "needs_background": "light"
          }
        }
      ]
    },
    {
      "cell_type": "code",
      "source": [
        "# BOLUM 4: Veri Ön İşleme Yapılması\n",
        "\n",
        "#string inputtan integer'a gecis\n",
        "df['sex'] = pd.Categorical(df['sex']).codes\n",
        "df['smoker'] = pd.Categorical(df['smoker']).codes\n",
        "df['region'] = pd.Categorical(df['region']).codes\n",
        "\n",
        "#normalizasyon\n",
        "df = (df / df.max(axis=0))\n",
        "\n",
        "#sutunlarin ayarlanmasi\n",
        "X = df.drop('charges', axis=1)\n",
        "y = df['charges']\n",
        "\n",
        "#splitlerin belirlenmesi\n",
        "X_train, X_test, y_train, y_test = train_test_split(X, y, test_size=0.20, random_state=6)"
      ],
      "metadata": {
        "id": "y0unOAjTDRzW"
      },
      "execution_count": 95,
      "outputs": []
    },
    {
      "cell_type": "code",
      "source": [
        "# BOLUM 5: Model Seçme\n",
        "\n",
        "#TODO: Baska modellerin denenmesi\n",
        "\n",
        "model = LinearRegression()\n",
        "\n",
        "model.fit(X_train, y_train)  "
      ],
      "metadata": {
        "colab": {
          "base_uri": "https://localhost:8080/"
        },
        "id": "xkC3UhRgD4UI",
        "outputId": "8942d4f6-af09-48c5-80ca-7483db89e7fb"
      },
      "execution_count": 96,
      "outputs": [
        {
          "output_type": "execute_result",
          "data": {
            "text/plain": [
              "LinearRegression()"
            ]
          },
          "metadata": {},
          "execution_count": 96
        }
      ]
    },
    {
      "cell_type": "code",
      "source": [
        "# BOLUM 6: Hiper-parametre Optimizasyonu\n",
        "\n",
        "#TODO: Grid search"
      ],
      "metadata": {
        "id": "u8g6o8J-EAo5"
      },
      "execution_count": 97,
      "outputs": []
    },
    {
      "cell_type": "code",
      "source": [
        "# BOLUM 7: Modeli Değerlendirme\n",
        "\n",
        "y_pred = model.predict(X_test)\n",
        "\n",
        "print('Variance score: {}'.format(model.score(X_test, y_test)))\n",
        "\n",
        "print('Mean Squared Error: {}'.format(mean_squared_error(y_pred, y_test)))\n",
        "\n",
        "print('Mean Absolute Error: {}'.format(mean_absolute_error(y_pred, y_test)))"
      ],
      "metadata": {
        "colab": {
          "base_uri": "https://localhost:8080/"
        },
        "id": "0F8wPXKIEF9x",
        "outputId": "f7ce4111-feaf-4d7a-a5b7-cf52aacdf4f3"
      },
      "execution_count": 98,
      "outputs": [
        {
          "output_type": "stream",
          "name": "stdout",
          "text": [
            "Variance score: 0.7785295914318422\n",
            "Mean Squared Error: 0.007902711104043496\n",
            "Mean Absolute Error: 0.06381329864767041\n"
          ]
        }
      ]
    }
  ]
}